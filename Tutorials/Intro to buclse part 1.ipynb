{
 "cells": [
  {
   "cell_type": "markdown",
   "metadata": {},
   "source": [
    "Fluff to get the relative imports working in a notebook"
   ]
  },
  {
   "cell_type": "code",
   "execution_count": 1,
   "metadata": {},
   "outputs": [
    {
     "data": {
      "text/plain": [
       "'C:\\\\Users\\\\micro_zo50ceu\\\\OneDrive - University College London\\\\BUCLSE'"
      ]
     },
     "execution_count": 1,
     "metadata": {},
     "output_type": "execute_result"
    }
   ],
   "source": [
    "import os\n",
    "import sys\n",
    "module_path = os.path.abspath(os.path.join('..'))\n",
    "if module_path not in sys.path:\n",
    "    sys.path.append(module_path)\n",
    "module_path"
   ]
  },
  {
   "cell_type": "markdown",
   "metadata": {},
   "source": [
    "# Timer"
   ]
  },
  {
   "cell_type": "code",
   "execution_count": 2,
   "metadata": {},
   "outputs": [],
   "source": [
    "from UCLSE.custom_timer import CustomTimer"
   ]
  },
  {
   "cell_type": "markdown",
   "metadata": {},
   "source": [
    "All of the objects we are about to explore need to agree about the current time. We pass them a simple timer. In the first instance this stops the need of passing a time variable around between objects. "
   ]
  },
  {
   "cell_type": "markdown",
   "metadata": {},
   "source": [
    "This is how we instantiate it:"
   ]
  },
  {
   "cell_type": "code",
   "execution_count": 3,
   "metadata": {},
   "outputs": [],
   "source": [
    "timer=CustomTimer(start=0,end=10,step=1)"
   ]
  },
  {
   "cell_type": "code",
   "execution_count": 4,
   "metadata": {},
   "outputs": [
    {
     "data": {
      "text/plain": [
       "10.0"
      ]
     },
     "execution_count": 4,
     "metadata": {},
     "output_type": "execute_result"
    }
   ],
   "source": [
    "timer.duration"
   ]
  },
  {
   "cell_type": "code",
   "execution_count": 5,
   "metadata": {},
   "outputs": [
    {
     "data": {
      "text/plain": [
       "(0, 10.0)"
      ]
     },
     "execution_count": 5,
     "metadata": {},
     "output_type": "execute_result"
    }
   ],
   "source": [
    "timer.get_time, timer.get_time_left"
   ]
  },
  {
   "cell_type": "code",
   "execution_count": 6,
   "metadata": {},
   "outputs": [
    {
     "name": "stdout",
     "output_type": "stream",
     "text": [
      "time: 0 time left: 10.0 start: 0 end: 10 step: 1\n"
     ]
    }
   ],
   "source": [
    "print(timer)"
   ]
  },
  {
   "cell_type": "markdown",
   "metadata": {},
   "source": [
    "To increment the time, we can call the following (it will only work if there is time remaining)"
   ]
  },
  {
   "cell_type": "code",
   "execution_count": 7,
   "metadata": {},
   "outputs": [
    {
     "data": {
      "text/plain": [
       "time: 1 time left: 9.0 start: 0 end: 10 step: 1"
      ]
     },
     "execution_count": 7,
     "metadata": {},
     "output_type": "execute_result"
    }
   ],
   "source": [
    "timer.next_period()\n",
    "timer"
   ]
  },
  {
   "cell_type": "markdown",
   "metadata": {},
   "source": [
    "# Exchange"
   ]
  },
  {
   "cell_type": "code",
   "execution_count": 8,
   "metadata": {},
   "outputs": [],
   "source": [
    "from UCLSE.exchange import Exchange"
   ]
  },
  {
   "cell_type": "markdown",
   "metadata": {},
   "source": [
    "An exchange object can be instantiated as follows:"
   ]
  },
  {
   "cell_type": "code",
   "execution_count": 9,
   "metadata": {},
   "outputs": [],
   "source": [
    "exchange=Exchange(timer=timer)"
   ]
  },
  {
   "cell_type": "code",
   "execution_count": 10,
   "metadata": {},
   "outputs": [
    {
     "name": "stdout",
     "output_type": "stream",
     "text": [
      "No orders in exchange order book\n"
     ]
    }
   ],
   "source": [
    "print(exchange)"
   ]
  },
  {
   "cell_type": "code",
   "execution_count": 11,
   "metadata": {},
   "outputs": [
    {
     "data": {
      "text/plain": [
       "{'bids': <UCLSE.exchange.Orderbook_half at 0x25e25615588>,\n",
       " 'asks': <UCLSE.exchange.Orderbook_half at 0x25e256155c8>,\n",
       " 'tape': [],\n",
       " 'quote_id': 0,\n",
       " 'timer': time: 1 time left: 9.0 start: 0 end: 10 step: 1,\n",
       " 'name': 'exchange1',\n",
       " 'record': False,\n",
       " 'lob_call': deque([(0, 0)]),\n",
       " '_tape_index': 0}"
      ]
     },
     "execution_count": 11,
     "metadata": {},
     "output_type": "execute_result"
    }
   ],
   "source": [
    "exchange.__dict__"
   ]
  },
  {
   "cell_type": "markdown",
   "metadata": {},
   "source": [
    "The exchange is composed of two 'Orderbook_halfs'; each corresponding to ordered lists of bids and asks. \n",
    "\n",
    "Tape refers to the trades that have gone through the exchange to date. \n",
    "\n",
    "Quote_id is an internal counter which assigns a unique quote_id to each order placed on exchange\n",
    "\n",
    "Timer is an object that when queried, tells the exchange what time it is. More on that later.\n",
    "\n",
    "Lob call records when the last anonymised lob was constructed and gives it an ascending version number (to track different versions within the same time period)"
   ]
  },
  {
   "cell_type": "markdown",
   "metadata": {},
   "source": [
    "# Trader"
   ]
  },
  {
   "cell_type": "code",
   "execution_count": 12,
   "metadata": {},
   "outputs": [],
   "source": [
    "from UCLSE.traders import Trader"
   ]
  },
  {
   "cell_type": "markdown",
   "metadata": {},
   "source": [
    "A trader object can be instantiated as follows:"
   ]
  },
  {
   "cell_type": "code",
   "execution_count": 13,
   "metadata": {},
   "outputs": [],
   "source": [
    "henry=Trader(tid='Henry',exchange=exchange,timer=timer)"
   ]
  },
  {
   "cell_type": "markdown",
   "metadata": {},
   "source": [
    "The particulars of the trader can be viewed by:"
   ]
  },
  {
   "cell_type": "code",
   "execution_count": 14,
   "metadata": {},
   "outputs": [
    {
     "name": "stdout",
     "output_type": "stream",
     "text": [
      "[TID: Henry type: None balance: 0 blotter: Empty DataFrame\n",
      "Columns: []\n",
      "Index: [] orders: OrderedDict() n_trades: 0 profitpertime: 0]\n"
     ]
    }
   ],
   "source": [
    "print(henry)"
   ]
  },
  {
   "cell_type": "markdown",
   "metadata": {},
   "source": [
    "Or for a more in depth look:"
   ]
  },
  {
   "cell_type": "code",
   "execution_count": 15,
   "metadata": {},
   "outputs": [
    {
     "data": {
      "text/plain": [
       "{'ttype': None, 'tid': 'Henry', 'balance': 0, 'blotter': Empty DataFrame\n",
       " Columns: []\n",
       " Index: [], 'orders': [], 'orders_dic': OrderedDict(), 'history': False, 'orders_lookup': {}, 'n_orders': 0, 'n_quotes': 0, 'n_quote_limit': 1, 'profitpertime': 0, 'n_trades': 0, 'lastquote': {}, 'latency': 1, 'total_quotes': 0, 'timer': time: 1 time left: 9.0 start: 0 end: 10 step: 1, 'birthtime': 1, 'exchange': No orders in exchange order book, 'last_quote_time': 1}"
      ]
     },
     "execution_count": 15,
     "metadata": {},
     "output_type": "execute_result"
    }
   ],
   "source": [
    "henry.__dict__"
   ]
  },
  {
   "cell_type": "markdown",
   "metadata": {},
   "source": [
    "The trader object is the parent class for multiple objects which represent specific types of trader. Included are Giveaway, ZIC (After Gode & Sunder 1993), Shaver, Sniper and ZIP (After Cliff 1997). \n",
    "\n",
    "Trader objects are differentiated by their getorder and respond methods. The former will produce an order when called, the second will update internal variables when called. "
   ]
  },
  {
   "cell_type": "markdown",
   "metadata": {},
   "source": [
    "If traders want to trade then they need to send orders to an exchange...."
   ]
  },
  {
   "cell_type": "markdown",
   "metadata": {},
   "source": [
    "# orders"
   ]
  },
  {
   "cell_type": "code",
   "execution_count": 16,
   "metadata": {},
   "outputs": [],
   "source": [
    "from UCLSE.exchange import Order"
   ]
  },
  {
   "cell_type": "markdown",
   "metadata": {},
   "source": [
    "Traders submit orders to an exchange. An order is a namedtuple object which contains trader id, order type (Bid or Ask), price, quantity, time, quote_id and order_id."
   ]
  },
  {
   "cell_type": "code",
   "execution_count": 17,
   "metadata": {},
   "outputs": [],
   "source": [
    "order=Order('henry',otype='Bid',qty=1,price=100,time=1,oid=1)"
   ]
  },
  {
   "cell_type": "markdown",
   "metadata": {},
   "source": [
    "Named tuples are cool:"
   ]
  },
  {
   "cell_type": "code",
   "execution_count": 18,
   "metadata": {},
   "outputs": [
    {
     "name": "stdout",
     "output_type": "stream",
     "text": [
      "Order(tid='henry', otype='Bid', price=100, qty=1, time=1, qid=None, oid=1)\n"
     ]
    }
   ],
   "source": [
    "print(order)"
   ]
  },
  {
   "cell_type": "code",
   "execution_count": 19,
   "metadata": {},
   "outputs": [
    {
     "data": {
      "text/plain": [
       "'henry'"
      ]
     },
     "execution_count": 19,
     "metadata": {},
     "output_type": "execute_result"
    }
   ],
   "source": [
    "order.tid"
   ]
  },
  {
   "cell_type": "markdown",
   "metadata": {},
   "source": [
    "And they are mostly immutable, like normal tuples:"
   ]
  },
  {
   "cell_type": "code",
   "execution_count": 20,
   "metadata": {},
   "outputs": [
    {
     "ename": "AttributeError",
     "evalue": "can't set attribute",
     "output_type": "error",
     "traceback": [
      "\u001b[1;31m---------------------------------------------------------------------------\u001b[0m",
      "\u001b[1;31mAttributeError\u001b[0m                            Traceback (most recent call last)",
      "\u001b[1;32m<ipython-input-20-d9264c8ed3f4>\u001b[0m in \u001b[0;36m<module>\u001b[1;34m\u001b[0m\n\u001b[1;32m----> 1\u001b[1;33m \u001b[0morder\u001b[0m\u001b[1;33m.\u001b[0m\u001b[0mtid\u001b[0m\u001b[1;33m=\u001b[0m\u001b[1;34m'John'\u001b[0m\u001b[1;33m\u001b[0m\u001b[1;33m\u001b[0m\u001b[0m\n\u001b[0m",
      "\u001b[1;31mAttributeError\u001b[0m: can't set attribute"
     ]
    }
   ],
   "source": [
    "order.tid='John'"
   ]
  },
  {
   "cell_type": "markdown",
   "metadata": {},
   "source": [
    "Let's add the order to henry (from the perspective of a client giving him the order to execute)"
   ]
  },
  {
   "cell_type": "code",
   "execution_count": 21,
   "metadata": {},
   "outputs": [
    {
     "data": {
      "text/plain": [
       "('Proceed', None)"
      ]
     },
     "execution_count": 21,
     "metadata": {},
     "output_type": "execute_result"
    }
   ],
   "source": [
    "henry.add_order(order)"
   ]
  },
  {
   "cell_type": "code",
   "execution_count": 22,
   "metadata": {},
   "outputs": [
    {
     "data": {
      "text/plain": [
       "{'ttype': None, 'tid': 'Henry', 'balance': 0, 'blotter': Empty DataFrame\n",
       " Columns: []\n",
       " Index: [], 'orders': [], 'orders_dic': OrderedDict([(1,\n",
       "               {'Original': Order(tid='henry', otype='Bid', price=100, qty=1, time=1, qid=None, oid=1),\n",
       "                'submitted_quotes': [],\n",
       "                'qty_remain': 1})]), 'history': False, 'orders_lookup': {}, 'n_orders': 1, 'n_quotes': 0, 'n_quote_limit': 1, 'profitpertime': 0, 'n_trades': 0, 'lastquote': {}, 'latency': 1, 'total_quotes': 0, 'timer': time: 1 time left: 9.0 start: 0 end: 10 step: 1, 'birthtime': 1, 'exchange': No orders in exchange order book, 'last_quote_time': 1}"
      ]
     },
     "execution_count": 22,
     "metadata": {},
     "output_type": "execute_result"
    }
   ],
   "source": [
    "henry.__dict__"
   ]
  },
  {
   "cell_type": "markdown",
   "metadata": {},
   "source": [
    "The internal variables indicate that he has one order, and that it hasn't been submitted to the exchange (n_quotes=0)"
   ]
  },
  {
   "cell_type": "markdown",
   "metadata": {},
   "source": [
    "Let's send an order to the exchange."
   ]
  },
  {
   "cell_type": "code",
   "execution_count": 23,
   "metadata": {},
   "outputs": [
    {
     "name": "stdout",
     "output_type": "stream",
     "text": [
      "0 None None\n"
     ]
    }
   ],
   "source": [
    "qid,trade_report,ammended_orders=henry.exchange.process_order(order)\n",
    "print(qid,trade_report,ammended_orders)"
   ]
  },
  {
   "cell_type": "markdown",
   "metadata": {},
   "source": [
    "Note that the response to this is a number - the quote id for the new order and 'Addition' confirming the trade has been accepted.\n",
    "\n",
    "The other variables are the trade report if there were any and any ammended orders (partial execution of orders)"
   ]
  },
  {
   "cell_type": "markdown",
   "metadata": {},
   "source": [
    "You can see this record at the exchange either by the lob variable which is a dictionary of Order queues (called orderlist) indexed by price. \n",
    "\n",
    "The orderlist is a modified deque which holds the orders.\n",
    "\n",
    "Deque - a datatype that efficiently allows us to append to the back and subtract from the front."
   ]
  },
  {
   "cell_type": "code",
   "execution_count": 24,
   "metadata": {},
   "outputs": [
    {
     "data": {
      "text/plain": [
       "{100: OrderList([Order(tid='henry', otype='Bid', price=100, qty=1, time=1, qid=0, oid=1)])}"
      ]
     },
     "execution_count": 24,
     "metadata": {},
     "output_type": "execute_result"
    }
   ],
   "source": [
    "exchange.bids.lob"
   ]
  },
  {
   "cell_type": "markdown",
   "metadata": {},
   "source": [
    "or in the dictionary of all orders, indexed by qid:"
   ]
  },
  {
   "cell_type": "code",
   "execution_count": 25,
   "metadata": {},
   "outputs": [
    {
     "data": {
      "text/plain": [
       "{0: Order(tid='henry', otype='Bid', price=100, qty=1, time=1, qid=0, oid=1)}"
      ]
     },
     "execution_count": 25,
     "metadata": {},
     "output_type": "execute_result"
    }
   ],
   "source": [
    "exchange.bids.q_orders"
   ]
  },
  {
   "cell_type": "markdown",
   "metadata": {},
   "source": [
    "Finally we need to record with the trader that this quote has been submitted to exchange:"
   ]
  },
  {
   "cell_type": "code",
   "execution_count": 26,
   "metadata": {},
   "outputs": [],
   "source": [
    "henry.add_order_exchange(order,qid)"
   ]
  },
  {
   "cell_type": "markdown",
   "metadata": {},
   "source": [
    "This is because traders have 'Original' orders which do not change and they have submitted quotes at the exchange which they will probably alter over time."
   ]
  },
  {
   "cell_type": "code",
   "execution_count": 27,
   "metadata": {},
   "outputs": [
    {
     "data": {
      "text/plain": [
       "OrderedDict([(1,\n",
       "              {'Original': Order(tid='henry', otype='Bid', price=100, qty=1, time=1, qid=None, oid=1),\n",
       "               'submitted_quotes': [Order(tid='henry', otype='Bid', price=100, qty=1, time=1, qid=0, oid=1)],\n",
       "               'qty_remain': 1})])"
      ]
     },
     "execution_count": 27,
     "metadata": {},
     "output_type": "execute_result"
    }
   ],
   "source": [
    "henry.orders_dic"
   ]
  },
  {
   "cell_type": "markdown",
   "metadata": {},
   "source": [
    "Let's illustrate how a trade gets executed. "
   ]
  },
  {
   "cell_type": "code",
   "execution_count": 28,
   "metadata": {},
   "outputs": [],
   "source": [
    "from UCLSE.test.utils import (yamlLoad, order_from_dic,build_df_from_dic_dic,build_lob_from_df,\n",
    "                               lob_to_dic)\n",
    "import pandas as pd\n",
    "import os"
   ]
  },
  {
   "cell_type": "markdown",
   "metadata": {},
   "source": [
    "First from a fixtures file, we can create a dataframe containing order information"
   ]
  },
  {
   "cell_type": "code",
   "execution_count": 56,
   "metadata": {},
   "outputs": [
    {
     "data": {
      "text/html": [
       "<div>\n",
       "<style scoped>\n",
       "    .dataframe tbody tr th:only-of-type {\n",
       "        vertical-align: middle;\n",
       "    }\n",
       "\n",
       "    .dataframe tbody tr th {\n",
       "        vertical-align: top;\n",
       "    }\n",
       "\n",
       "    .dataframe thead th {\n",
       "        text-align: right;\n",
       "    }\n",
       "</style>\n",
       "<table border=\"1\" class=\"dataframe\">\n",
       "  <thead>\n",
       "    <tr style=\"text-align: right;\">\n",
       "      <th></th>\n",
       "      <th>otype</th>\n",
       "      <th>price</th>\n",
       "      <th>qid</th>\n",
       "      <th>qty</th>\n",
       "      <th>tid</th>\n",
       "      <th>time</th>\n",
       "      <th>oid</th>\n",
       "    </tr>\n",
       "    <tr>\n",
       "      <th>index</th>\n",
       "      <th></th>\n",
       "      <th></th>\n",
       "      <th></th>\n",
       "      <th></th>\n",
       "      <th></th>\n",
       "      <th></th>\n",
       "      <th></th>\n",
       "    </tr>\n",
       "  </thead>\n",
       "  <tbody>\n",
       "    <tr>\n",
       "      <th>0</th>\n",
       "      <td>Ask</td>\n",
       "      <td>107</td>\n",
       "      <td>1000</td>\n",
       "      <td>1</td>\n",
       "      <td>0</td>\n",
       "      <td>0</td>\n",
       "      <td>0</td>\n",
       "    </tr>\n",
       "    <tr>\n",
       "      <th>0</th>\n",
       "      <td>Bid</td>\n",
       "      <td>100</td>\n",
       "      <td>1000</td>\n",
       "      <td>1</td>\n",
       "      <td>0</td>\n",
       "      <td>0</td>\n",
       "      <td>1</td>\n",
       "    </tr>\n",
       "    <tr>\n",
       "      <th>1</th>\n",
       "      <td>Ask</td>\n",
       "      <td>108</td>\n",
       "      <td>1001</td>\n",
       "      <td>1</td>\n",
       "      <td>1</td>\n",
       "      <td>1</td>\n",
       "      <td>2</td>\n",
       "    </tr>\n",
       "    <tr>\n",
       "      <th>1</th>\n",
       "      <td>Bid</td>\n",
       "      <td>101</td>\n",
       "      <td>1001</td>\n",
       "      <td>1</td>\n",
       "      <td>1</td>\n",
       "      <td>1</td>\n",
       "      <td>3</td>\n",
       "    </tr>\n",
       "    <tr>\n",
       "      <th>2</th>\n",
       "      <td>Ask</td>\n",
       "      <td>109</td>\n",
       "      <td>1002</td>\n",
       "      <td>1</td>\n",
       "      <td>2</td>\n",
       "      <td>2</td>\n",
       "      <td>4</td>\n",
       "    </tr>\n",
       "    <tr>\n",
       "      <th>2</th>\n",
       "      <td>Bid</td>\n",
       "      <td>102</td>\n",
       "      <td>1002</td>\n",
       "      <td>1</td>\n",
       "      <td>2</td>\n",
       "      <td>2</td>\n",
       "      <td>5</td>\n",
       "    </tr>\n",
       "    <tr>\n",
       "      <th>3</th>\n",
       "      <td>Ask</td>\n",
       "      <td>110</td>\n",
       "      <td>1003</td>\n",
       "      <td>1</td>\n",
       "      <td>3</td>\n",
       "      <td>3</td>\n",
       "      <td>6</td>\n",
       "    </tr>\n",
       "    <tr>\n",
       "      <th>3</th>\n",
       "      <td>Bid</td>\n",
       "      <td>103</td>\n",
       "      <td>1003</td>\n",
       "      <td>1</td>\n",
       "      <td>3</td>\n",
       "      <td>3</td>\n",
       "      <td>7</td>\n",
       "    </tr>\n",
       "    <tr>\n",
       "      <th>4</th>\n",
       "      <td>Ask</td>\n",
       "      <td>111</td>\n",
       "      <td>1004</td>\n",
       "      <td>1</td>\n",
       "      <td>4</td>\n",
       "      <td>4</td>\n",
       "      <td>8</td>\n",
       "    </tr>\n",
       "    <tr>\n",
       "      <th>4</th>\n",
       "      <td>Bid</td>\n",
       "      <td>104</td>\n",
       "      <td>1004</td>\n",
       "      <td>1</td>\n",
       "      <td>4</td>\n",
       "      <td>4</td>\n",
       "      <td>9</td>\n",
       "    </tr>\n",
       "    <tr>\n",
       "      <th>5</th>\n",
       "      <td>Ask</td>\n",
       "      <td>112</td>\n",
       "      <td>1005</td>\n",
       "      <td>1</td>\n",
       "      <td>5</td>\n",
       "      <td>5</td>\n",
       "      <td>10</td>\n",
       "    </tr>\n",
       "    <tr>\n",
       "      <th>5</th>\n",
       "      <td>Bid</td>\n",
       "      <td>105</td>\n",
       "      <td>1005</td>\n",
       "      <td>1</td>\n",
       "      <td>5</td>\n",
       "      <td>5</td>\n",
       "      <td>11</td>\n",
       "    </tr>\n",
       "  </tbody>\n",
       "</table>\n",
       "</div>"
      ],
      "text/plain": [
       "      otype  price   qid  qty  tid  time  oid\n",
       "index                                        \n",
       "0       Ask    107  1000    1    0     0    0\n",
       "0       Bid    100  1000    1    0     0    1\n",
       "1       Ask    108  1001    1    1     1    2\n",
       "1       Bid    101  1001    1    1     1    3\n",
       "2       Ask    109  1002    1    2     2    4\n",
       "2       Bid    102  1002    1    2     2    5\n",
       "3       Ask    110  1003    1    3     3    6\n",
       "3       Bid    103  1003    1    3     3    7\n",
       "4       Ask    111  1004    1    4     4    8\n",
       "4       Bid    104  1004    1    4     4    9\n",
       "5       Ask    112  1005    1    5     5   10\n",
       "5       Bid    105  1005    1    5     5   11"
      ]
     },
     "execution_count": 56,
     "metadata": {},
     "output_type": "execute_result"
    }
   ],
   "source": [
    "cwd=os.getcwd()\n",
    "fixture_name=os.path.join(os.path.dirname(cwd),'UCLSE','test','fixtures','exchange_fix.yml')\n",
    "fixture_list=yamlLoad(fixture_name)\n",
    "fixture_dic=fixture_list[0]\n",
    "\n",
    "order_df=build_df_from_dic_dic(fixture_dic['input'])\n",
    "order_df.set_index('index')"
   ]
  },
  {
   "cell_type": "markdown",
   "metadata": {},
   "source": [
    "This function is in the utilities file but recreated here, it iterates through rows of DF, converts them to an order object then adds to exchange."
   ]
  },
  {
   "cell_type": "code",
   "execution_count": 57,
   "metadata": {},
   "outputs": [],
   "source": [
    "def build_lob_from_df(order_df,exch=None,necessary_cols=['tid','otype','price','qty','qid','oid']):\n",
    "    ##adds orders from a df of orders, if supplied an exchange, will append them\n",
    "    #else will create blank exchange\n",
    "    #returns an exchange\n",
    "    order_df=order_df[necessary_cols]\n",
    "\n",
    "    if exch is None:\n",
    "        exch=Exchange(timer=CustomTimer())\n",
    "\n",
    "    order_list=[]\n",
    "    for index, row in order_df.iterrows():\n",
    "        o=row.to_dict()\n",
    "        #o.pop('index')\n",
    "        exch.process_order(Order(time=exch.time,**o),verbose=False)\n",
    "\n",
    "    return exch"
   ]
  },
  {
   "cell_type": "code",
   "execution_count": 58,
   "metadata": {},
   "outputs": [],
   "source": [
    "exchange=build_lob_from_df(order_df)"
   ]
  },
  {
   "cell_type": "markdown",
   "metadata": {},
   "source": [
    "And we can see that what the LOB looks like:"
   ]
  },
  {
   "cell_type": "code",
   "execution_count": 59,
   "metadata": {},
   "outputs": [
    {
     "name": "stdout",
     "output_type": "stream",
     "text": [
      "                        tid     \n",
      "otype                   Ask  Bid\n",
      "price time qid oid qty          \n",
      "100   0    1   1   1    NaN  0.0\n",
      "101   0    3   3   1    NaN  1.0\n",
      "102   0    5   5   1    NaN  2.0\n",
      "103   0    7   7   1    NaN  3.0\n",
      "104   0    9   9   1    NaN  4.0\n",
      "105   0    11  11  1    NaN  5.0\n",
      "107   0    0   0   1    0.0  NaN\n",
      "108   0    2   2   1    1.0  NaN\n",
      "109   0    4   4   1    2.0  NaN\n",
      "110   0    6   6   1    3.0  NaN\n",
      "111   0    8   8   1    4.0  NaN\n",
      "112   0    10  10  1    5.0  NaN\n"
     ]
    }
   ],
   "source": [
    "print(exchange)"
   ]
  },
  {
   "cell_type": "markdown",
   "metadata": {},
   "source": [
    "Next period the trader receives the following order:"
   ]
  },
  {
   "cell_type": "code",
   "execution_count": 60,
   "metadata": {},
   "outputs": [
    {
     "data": {
      "text/plain": [
       "Order(tid='Henry', otype='Bid', price=109, qty=5, time=4, qid=None, oid=50)"
      ]
     },
     "execution_count": 60,
     "metadata": {},
     "output_type": "execute_result"
    }
   ],
   "source": [
    "timer.next_period()\n",
    "henry=Trader(tid='Henry',exchange=exchange,timer=timer,time=0,history=True) #time input manually specifies trader birthtime\n",
    "new_order=Order(tid='Henry', otype='Bid', price=109, qty=5, qid=None,time=henry.time, oid=50)\n",
    "new_order"
   ]
  },
  {
   "cell_type": "markdown",
   "metadata": {},
   "source": [
    "Add to internal records, submit to exchange, receive qid - record quote internally, receive information about any executions"
   ]
  },
  {
   "cell_type": "code",
   "execution_count": 61,
   "metadata": {},
   "outputs": [
    {
     "name": "stdout",
     "output_type": "stream",
     "text": [
      "QUID: order.quid=12\n",
      "RESPONSE: Addition\n",
      "Bid  leg 0  lifts best  Ask 109\n",
      "counterparty 0 price 107\n",
      "order partially filled, new ammended one  0 12.000001 Order(tid='Henry', otype='Bid', price=109, qty=4, time=4, qid=12.000001, oid=50)\n",
      "Bid  leg 1  lifts best  Ask 109\n",
      "counterparty 1 price 108\n",
      "order partially filled, new ammended one  1 12.000002 Order(tid='Henry', otype='Bid', price=109, qty=3, time=4, qid=12.000002, oid=50)\n",
      "Bid  leg 2  lifts best  Ask 109\n",
      "counterparty 2 price 109\n",
      "order partially filled, new ammended one  2 12.000003 Order(tid='Henry', otype='Bid', price=109, qty=2, time=4, qid=12.000003, oid=50)\n"
     ]
    }
   ],
   "source": [
    "henry.add_order(new_order) #add to trader records\n",
    "qid,trade_report,ammended_orders=henry.exchange.process_order(new_order,verbose=True) #send to exchange\n",
    "henry.add_order_exchange(new_order,qid) #confirm order placement with trader"
   ]
  },
  {
   "cell_type": "code",
   "execution_count": 62,
   "metadata": {},
   "outputs": [
    {
     "data": {
      "text/plain": [
       "OrderedDict([(50,\n",
       "              {'Original': Order(tid='Henry', otype='Bid', price=109, qty=5, time=4, qid=None, oid=50),\n",
       "               'submitted_quotes': [Order(tid='Henry', otype='Bid', price=109, qty=5, time=4, qid=12, oid=50)],\n",
       "               'qty_remain': 5})])"
      ]
     },
     "execution_count": 62,
     "metadata": {},
     "output_type": "execute_result"
    }
   ],
   "source": [
    "henry.orders_dic"
   ]
  },
  {
   "cell_type": "markdown",
   "metadata": {},
   "source": [
    "The trade report details any executions"
   ]
  },
  {
   "cell_type": "code",
   "execution_count": 63,
   "metadata": {},
   "outputs": [
    {
     "data": {
      "text/plain": [
       "[{'type': 'Trade',\n",
       "  'tape_time': 0,\n",
       "  'tidx': 0,\n",
       "  'price': 107,\n",
       "  'party1': 0,\n",
       "  'party2': 'Henry',\n",
       "  'qty': 1,\n",
       "  'p1_qid': 0,\n",
       "  'p2_qid': 12.0},\n",
       " {'type': 'Trade',\n",
       "  'tape_time': 0,\n",
       "  'tidx': 1,\n",
       "  'price': 108,\n",
       "  'party1': 1,\n",
       "  'party2': 'Henry',\n",
       "  'qty': 1,\n",
       "  'p1_qid': 2,\n",
       "  'p2_qid': 12.000001},\n",
       " {'type': 'Trade',\n",
       "  'tape_time': 0,\n",
       "  'tidx': 2,\n",
       "  'price': 109,\n",
       "  'party1': 2,\n",
       "  'party2': 'Henry',\n",
       "  'qty': 1,\n",
       "  'p1_qid': 4,\n",
       "  'p2_qid': 12.000002}]"
      ]
     },
     "execution_count": 63,
     "metadata": {},
     "output_type": "execute_result"
    }
   ],
   "source": [
    "trade_report"
   ]
  },
  {
   "cell_type": "markdown",
   "metadata": {},
   "source": [
    "Because there were 3 legs to the execution, there are 3 ammendments:"
   ]
  },
  {
   "cell_type": "code",
   "execution_count": 64,
   "metadata": {},
   "outputs": [
    {
     "data": {
      "text/plain": [
       "[AmmendedOrderRecord(tid='Henry', qid=12.000001, order=Order(tid='Henry', otype='Bid', price=109, qty=4, time=4, qid=12.000001, oid=50)),\n",
       " AmmendedOrderRecord(tid='Henry', qid=12.000002, order=Order(tid='Henry', otype='Bid', price=109, qty=3, time=4, qid=12.000002, oid=50)),\n",
       " AmmendedOrderRecord(tid='Henry', qid=12.000003, order=Order(tid='Henry', otype='Bid', price=109, qty=2, time=4, qid=12.000003, oid=50))]"
      ]
     },
     "execution_count": 64,
     "metadata": {},
     "output_type": "execute_result"
    }
   ],
   "source": [
    "ammended_orders"
   ]
  },
  {
   "cell_type": "markdown",
   "metadata": {},
   "source": [
    "The fills and the ammendments need to be reported to the trader."
   ]
  },
  {
   "cell_type": "code",
   "execution_count": 65,
   "metadata": {},
   "outputs": [
    {
     "name": "stdout",
     "output_type": "stream",
     "text": [
      "Order(tid='Henry', otype='Bid', price=109, qty=5, time=4, qid=None, oid=50) profit=2 balance=2 profit/time=0\n",
      "Order(tid='Henry', otype='Bid', price=109, qty=5, time=4, qid=None, oid=50) profit=1 balance=3 profit/time=0\n",
      "Order(tid='Henry', otype='Bid', price=109, qty=5, time=4, qid=None, oid=50) profit=0 balance=3 profit/time=0\n"
     ]
    }
   ],
   "source": [
    "def bookkeeping(trader,trade_report,ammended_orders):\n",
    "    \n",
    "    for trade,ammended_order in zip(trade_report,ammended_orders):\n",
    "        active=False\n",
    "        if  trade['party2']==trader.tid: active=True\n",
    "            \n",
    "\n",
    "        trader.bookkeep(trade,new_order,True,time=trader.time,active=active)\n",
    "\n",
    "        ammend_tid=ammended_order.tid\n",
    "        if ammend_tid==trader.tid:\n",
    "            ammend_qid=ammended_order.qid\n",
    "            trader.add_order_exchange(ammended_order.order,ammend_qid)\n",
    "            \n",
    "bookkeeping(henry,trade_report,ammended_orders)"
   ]
  },
  {
   "cell_type": "markdown",
   "metadata": {},
   "source": [
    "Running profit is stored in the balance attribute and the executions are stored in the blotter, it is the difference between the original order price and the executed price."
   ]
  },
  {
   "cell_type": "code",
   "execution_count": 66,
   "metadata": {},
   "outputs": [
    {
     "data": {
      "text/plain": [
       "3"
      ]
     },
     "execution_count": 66,
     "metadata": {},
     "output_type": "execute_result"
    }
   ],
   "source": [
    "assert henry.balance==pd.DataFrame(henry.blotter).profit.sum()\n",
    "henry.balance"
   ]
  },
  {
   "cell_type": "code",
   "execution_count": 67,
   "metadata": {},
   "outputs": [
    {
     "data": {
      "text/plain": [
       "  type  tape_time  tidx  price  party1 party2  qty  p1_qid     p2_qid  oid    tid  order qty  order_issue_time  profit   BS   status\n",
       "0  Bid          0     0    107       0  Henry    1       0  12.000000   50  Henry          5                 4       2  Buy  partial\n",
       "1  Bid          0     1    108       1  Henry    1       2  12.000001   50  Henry          4                 4       1  Buy  partial\n",
       "2  Bid          0     2    109       2  Henry    1       4  12.000002   50  Henry          3                 4       0  Buy  partial"
      ]
     },
     "execution_count": 67,
     "metadata": {},
     "output_type": "execute_result"
    }
   ],
   "source": [
    "henry.blotter"
   ]
  },
  {
   "cell_type": "markdown",
   "metadata": {},
   "source": [
    "The original order was for 5, 3 units have been executed so there should be a remaining order of qty 2. Note that qid is incremented for the ammended order on exchange."
   ]
  },
  {
   "cell_type": "code",
   "execution_count": 68,
   "metadata": {},
   "outputs": [
    {
     "data": {
      "text/plain": [
       "OrderedDict([(50,\n",
       "              {'Original': Order(tid='Henry', otype='Bid', price=109, qty=5, time=4, qid=None, oid=50),\n",
       "               'submitted_quotes': [Order(tid='Henry', otype='Bid', price=109, qty=5, time=4, qid=12, oid=50),\n",
       "                Order(tid='Henry', otype='Bid', price=109, qty=4, time=4, qid=12.000001, oid=50),\n",
       "                Order(tid='Henry', otype='Bid', price=109, qty=3, time=4, qid=12.000002, oid=50),\n",
       "                Order(tid='Henry', otype='Bid', price=109, qty=2, time=4, qid=12.000003, oid=50)],\n",
       "               'qty_remain': 2})])"
      ]
     },
     "execution_count": 68,
     "metadata": {},
     "output_type": "execute_result"
    }
   ],
   "source": [
    "henry.orders_dic"
   ]
  },
  {
   "cell_type": "markdown",
   "metadata": {},
   "source": [
    "Check that the exchange agrees:"
   ]
  },
  {
   "cell_type": "code",
   "execution_count": 69,
   "metadata": {},
   "outputs": [
    {
     "name": "stdout",
     "output_type": "stream",
     "text": [
      "                              tid       \n",
      "otype                         Ask    Bid\n",
      "price time qid       oid qty            \n",
      "100   0    1.000000  1   1    NaN      0\n",
      "101   0    3.000000  3   1    NaN      1\n",
      "102   0    5.000000  5   1    NaN      2\n",
      "103   0    7.000000  7   1    NaN      3\n",
      "104   0    9.000000  9   1    NaN      4\n",
      "105   0    11.000000 11  1    NaN      5\n",
      "109   4    12.000003 50  2    NaN  Henry\n",
      "110   0    6.000000  6   1      3    NaN\n",
      "111   0    8.000000  8   1      4    NaN\n",
      "112   0    10.000000 10  1      5    NaN\n"
     ]
    }
   ],
   "source": [
    "print(exchange)"
   ]
  },
  {
   "cell_type": "markdown",
   "metadata": {},
   "source": [
    "The order book will act how you would expect so if another Buy order is entered at 109, it will get a lower priority:"
   ]
  },
  {
   "cell_type": "code",
   "execution_count": 70,
   "metadata": {},
   "outputs": [
    {
     "name": "stdout",
     "output_type": "stream",
     "text": [
      "QUID: order.quid=16\n",
      "RESPONSE: Addition\n"
     ]
    }
   ],
   "source": [
    "john=Trader(tid='John',exchange=exchange,timer=timer,time=0)\n",
    "new_order=Order(tid='John', otype='Bid', price=109, qty=1, qid=None,time=john.time, oid=51)\n",
    "john.add_order(new_order) #add to trader records\n",
    "qid,trade_report,ammended_orders=exchange.process_order(new_order,verbose=True) #send to exchange\n",
    "john.add_order_exchange(new_order,qid) #confirm order placement with trader"
   ]
  },
  {
   "cell_type": "code",
   "execution_count": 71,
   "metadata": {},
   "outputs": [
    {
     "name": "stdout",
     "output_type": "stream",
     "text": [
      "                              tid       \n",
      "otype                         Ask    Bid\n",
      "price time qid       oid qty            \n",
      "100   0    1.000000  1   1    NaN      0\n",
      "101   0    3.000000  3   1    NaN      1\n",
      "102   0    5.000000  5   1    NaN      2\n",
      "103   0    7.000000  7   1    NaN      3\n",
      "104   0    9.000000  9   1    NaN      4\n",
      "105   0    11.000000 11  1    NaN      5\n",
      "109   4    12.000003 50  2    NaN  Henry\n",
      "           16.000000 51  1    NaN   John\n",
      "110   0    6.000000  6   1      3    NaN\n",
      "111   0    8.000000  8   1      4    NaN\n",
      "112   0    10.000000 10  1      5    NaN\n"
     ]
    }
   ],
   "source": [
    "print(exchange)"
   ]
  },
  {
   "cell_type": "markdown",
   "metadata": {},
   "source": [
    "Check with a sell order of quantity 2 at 109 that Henry is completed not John."
   ]
  },
  {
   "cell_type": "code",
   "execution_count": 72,
   "metadata": {},
   "outputs": [
    {
     "name": "stdout",
     "output_type": "stream",
     "text": [
      "QUID: order.quid=17\n",
      "RESPONSE: Addition\n",
      "Ask  leg 0  lifts best  Bid 109\n",
      "counterparty Henry price 109\n"
     ]
    }
   ],
   "source": [
    "paul=Trader(tid='Paul',exchange=exchange,timer=timer,time=0)\n",
    "new_order=Order(tid='Paul', otype='Ask', price=109, qty=2, qid=None,time=paul.time, oid=52)\n",
    "paul.add_order(new_order) #add to trader records\n",
    "qid,trade_report,ammended_orders=exchange.process_order(new_order,verbose=True) #send to exchange\n",
    "paul.add_order_exchange(new_order,qid) #confirm order placement with trader"
   ]
  },
  {
   "cell_type": "code",
   "execution_count": 73,
   "metadata": {},
   "outputs": [
    {
     "name": "stdout",
     "output_type": "stream",
     "text": [
      "                        tid      \n",
      "otype                   Ask   Bid\n",
      "price time qid oid qty           \n",
      "100   0    1   1   1    NaN     0\n",
      "101   0    3   3   1    NaN     1\n",
      "102   0    5   5   1    NaN     2\n",
      "103   0    7   7   1    NaN     3\n",
      "104   0    9   9   1    NaN     4\n",
      "105   0    11  11  1    NaN     5\n",
      "109   4    16  51  1    NaN  John\n",
      "110   0    6   6   1      3   NaN\n",
      "111   0    8   8   1      4   NaN\n",
      "112   0    10  10  1      5   NaN\n"
     ]
    }
   ],
   "source": [
    "print(exchange)"
   ]
  },
  {
   "cell_type": "code",
   "execution_count": 74,
   "metadata": {},
   "outputs": [
    {
     "name": "stdout",
     "output_type": "stream",
     "text": [
      "Order(tid='Henry', otype='Bid', price=109, qty=5, time=4, qid=None, oid=50) profit=0 balance=3 profit/time=0\n"
     ]
    }
   ],
   "source": [
    "bookkeeping(henry,trade_report,ammended_orders)"
   ]
  },
  {
   "cell_type": "markdown",
   "metadata": {},
   "source": [
    "Since the trade is completed, the trader's orders_dic is wiped"
   ]
  },
  {
   "cell_type": "code",
   "execution_count": 48,
   "metadata": {},
   "outputs": [
    {
     "data": {
      "text/plain": [
       "OrderedDict()"
      ]
     },
     "execution_count": 48,
     "metadata": {},
     "output_type": "execute_result"
    }
   ],
   "source": [
    "henry.orders_dic"
   ]
  },
  {
   "cell_type": "markdown",
   "metadata": {},
   "source": [
    "But the history of the order is moved"
   ]
  },
  {
   "cell_type": "code",
   "execution_count": 49,
   "metadata": {},
   "outputs": [
    {
     "ename": "AttributeError",
     "evalue": "'Trader' object has no attribute 'orders_dic_hist'",
     "output_type": "error",
     "traceback": [
      "\u001b[1;31m---------------------------------------------------------------------------\u001b[0m",
      "\u001b[1;31mAttributeError\u001b[0m                            Traceback (most recent call last)",
      "\u001b[1;32m<ipython-input-49-0ce8a83ada36>\u001b[0m in \u001b[0;36m<module>\u001b[1;34m\u001b[0m\n\u001b[1;32m----> 1\u001b[1;33m \u001b[0mhenry\u001b[0m\u001b[1;33m.\u001b[0m\u001b[0morders_dic_hist\u001b[0m\u001b[1;33m\u001b[0m\u001b[1;33m\u001b[0m\u001b[0m\n\u001b[0m",
      "\u001b[1;31mAttributeError\u001b[0m: 'Trader' object has no attribute 'orders_dic_hist'"
     ]
    }
   ],
   "source": [
    "henry.orders_dic_hist"
   ]
  },
  {
   "cell_type": "markdown",
   "metadata": {},
   "source": [
    "and executions are stored on the blotter"
   ]
  },
  {
   "cell_type": "code",
   "execution_count": 50,
   "metadata": {},
   "outputs": [
    {
     "data": {
      "text/plain": [
       "  type  tape_time  tidx  price party1 party2  qty     p1_qid     p2_qid  oid    tid  order qty  order_issue_time  profit   BS   status\n",
       "0  Bid          0     0    107      0  Henry    1   0.000000  12.000000   50  Henry          5                 2       2  Buy  partial\n",
       "1  Bid          0     1    108      1  Henry    1   2.000000  12.000001   50  Henry          4                 2       1  Buy  partial\n",
       "2  Bid          0     2    109      2  Henry    1   4.000000  12.000002   50  Henry          3                 2       0  Buy  partial\n",
       "3  Bid          0     3    109  Henry   Paul    2  12.000003  17.000000   50  Henry          2                 2       0  Buy     full"
      ]
     },
     "execution_count": 50,
     "metadata": {},
     "output_type": "execute_result"
    }
   ],
   "source": [
    "henry.blotter"
   ]
  },
  {
   "cell_type": "code",
   "execution_count": null,
   "metadata": {},
   "outputs": [],
   "source": []
  },
  {
   "cell_type": "code",
   "execution_count": null,
   "metadata": {},
   "outputs": [],
   "source": []
  },
  {
   "cell_type": "code",
   "execution_count": null,
   "metadata": {},
   "outputs": [],
   "source": []
  }
 ],
 "metadata": {
  "kernelspec": {
   "display_name": "Python 3",
   "language": "python",
   "name": "python3"
  },
  "language_info": {
   "codemirror_mode": {
    "name": "ipython",
    "version": 3
   },
   "file_extension": ".py",
   "mimetype": "text/x-python",
   "name": "python",
   "nbconvert_exporter": "python",
   "pygments_lexer": "ipython3",
   "version": "3.7.4"
  }
 },
 "nbformat": 4,
 "nbformat_minor": 2
}
