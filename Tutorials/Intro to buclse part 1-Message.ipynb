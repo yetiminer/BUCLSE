{
 "cells": [
  {
   "cell_type": "markdown",
   "metadata": {},
   "source": [
    "Fluff to get the relative imports working in a notebook"
   ]
  },
  {
   "cell_type": "code",
   "execution_count": 1,
   "metadata": {},
   "outputs": [
    {
     "data": {
      "text/plain": [
       "'C:\\\\Users\\\\micro_zo50ceu\\\\OneDrive - University College London\\\\BUCLSE'"
      ]
     },
     "execution_count": 1,
     "metadata": {},
     "output_type": "execute_result"
    }
   ],
   "source": [
    "import os\n",
    "import sys\n",
    "module_path = os.path.abspath(os.path.join('..'))\n",
    "if module_path not in sys.path:\n",
    "    sys.path.append(module_path)\n",
    "module_path"
   ]
  },
  {
   "cell_type": "markdown",
   "metadata": {},
   "source": [
    "# Timer"
   ]
  },
  {
   "cell_type": "code",
   "execution_count": 2,
   "metadata": {},
   "outputs": [],
   "source": [
    "from UCLSE.custom_timer import CustomTimer"
   ]
  },
  {
   "cell_type": "markdown",
   "metadata": {},
   "source": [
    "All of the objects we are about to explore need to agree about the current time. We pass them a simple timer. In the first instance this stops the need of passing a time variable around between objects. "
   ]
  },
  {
   "cell_type": "markdown",
   "metadata": {},
   "source": [
    "This is how we instantiate it:"
   ]
  },
  {
   "cell_type": "code",
   "execution_count": 3,
   "metadata": {},
   "outputs": [],
   "source": [
    "timer=CustomTimer(start=0,end=10,step=1)"
   ]
  },
  {
   "cell_type": "code",
   "execution_count": 4,
   "metadata": {},
   "outputs": [
    {
     "data": {
      "text/plain": [
       "10.0"
      ]
     },
     "execution_count": 4,
     "metadata": {},
     "output_type": "execute_result"
    }
   ],
   "source": [
    "timer.duration"
   ]
  },
  {
   "cell_type": "code",
   "execution_count": 5,
   "metadata": {},
   "outputs": [
    {
     "data": {
      "text/plain": [
       "(0, 10.0)"
      ]
     },
     "execution_count": 5,
     "metadata": {},
     "output_type": "execute_result"
    }
   ],
   "source": [
    "timer.get_time, timer.get_time_left"
   ]
  },
  {
   "cell_type": "code",
   "execution_count": 6,
   "metadata": {},
   "outputs": [
    {
     "name": "stdout",
     "output_type": "stream",
     "text": [
      "time: 0 time left: 10.0 start: 0 end: 10 step: 1\n"
     ]
    }
   ],
   "source": [
    "print(timer)"
   ]
  },
  {
   "cell_type": "markdown",
   "metadata": {},
   "source": [
    "To increment the time, we can call the following (it will only work if there is time remaining)"
   ]
  },
  {
   "cell_type": "code",
   "execution_count": 7,
   "metadata": {},
   "outputs": [
    {
     "data": {
      "text/plain": [
       "time: 1 time left: 9.0 start: 0 end: 10 step: 1"
      ]
     },
     "execution_count": 7,
     "metadata": {},
     "output_type": "execute_result"
    }
   ],
   "source": [
    "timer.next_period()\n",
    "timer"
   ]
  },
  {
   "cell_type": "markdown",
   "metadata": {},
   "source": [
    "# Messenger"
   ]
  },
  {
   "cell_type": "markdown",
   "metadata": {},
   "source": [
    "All of the objects we are about to explore typically communicate with each other using a messenger object. This is how we instantiate it. The logging=True flag makes sure that messages are saved. Careful, we might not always want to save messages as this is a significant overhead."
   ]
  },
  {
   "cell_type": "code",
   "execution_count": 8,
   "metadata": {},
   "outputs": [],
   "source": [
    "from UCLSE.messenger import Messenger,Message\n",
    "\n",
    "messenger=Messenger(logging=True)"
   ]
  },
  {
   "cell_type": "markdown",
   "metadata": {},
   "source": [
    "# Exchange"
   ]
  },
  {
   "cell_type": "code",
   "execution_count": 9,
   "metadata": {},
   "outputs": [],
   "source": [
    "from UCLSE.message_exchange import Exchange"
   ]
  },
  {
   "cell_type": "markdown",
   "metadata": {},
   "source": [
    "An exchange object can be instantiated as follows:"
   ]
  },
  {
   "cell_type": "code",
   "execution_count": 10,
   "metadata": {},
   "outputs": [],
   "source": [
    "exchange=Exchange(timer=timer,messenger=messenger,record=True)"
   ]
  },
  {
   "cell_type": "code",
   "execution_count": 11,
   "metadata": {},
   "outputs": [
    {
     "name": "stdout",
     "output_type": "stream",
     "text": [
      "No orders in exchange order book\n"
     ]
    }
   ],
   "source": [
    "print(exchange)"
   ]
  },
  {
   "cell_type": "code",
   "execution_count": 12,
   "metadata": {},
   "outputs": [
    {
     "data": {
      "text/plain": [
       "{'bids': <UCLSE.exchange.Orderbook_half at 0x17529aa0d08>,\n",
       " 'asks': <UCLSE.exchange.Orderbook_half at 0x175294ad408>,\n",
       " 'tape': [],\n",
       " 'quote_id': 0,\n",
       " 'timer': time: 1 time left: 9.0 start: 0 end: 10 step: 1,\n",
       " 'name': 'exchange1',\n",
       " 'record': True,\n",
       " 'lob_call': deque([(0, 0)]),\n",
       " 'messenger': logging: True, subscribed: 1}"
      ]
     },
     "execution_count": 12,
     "metadata": {},
     "output_type": "execute_result"
    }
   ],
   "source": [
    "exchange.__dict__"
   ]
  },
  {
   "cell_type": "markdown",
   "metadata": {},
   "source": [
    "The exchange is composed of two 'Orderbook_halfs'; each corresponding to ordered lists of bids and asks. \n",
    "\n",
    "Tape refers to the trades that have gone through the exchange to date. \n",
    "\n",
    "Quote_id is an internal counter which assigns a unique quote_id to each order placed on exchange\n",
    "\n",
    "Timer is an object that when queried, tells the exchange what time it is. More on that later.\n",
    "\n",
    "Lob call records when the last anonymised lob was constructed and gives it an ascending version number (to track different versions within the same time period)"
   ]
  },
  {
   "cell_type": "markdown",
   "metadata": {},
   "source": [
    "# Trader"
   ]
  },
  {
   "cell_type": "code",
   "execution_count": 13,
   "metadata": {},
   "outputs": [],
   "source": [
    "from UCLSE.message_trader import TraderM"
   ]
  },
  {
   "cell_type": "markdown",
   "metadata": {},
   "source": [
    "A trader object can be instantiated as follows:"
   ]
  },
  {
   "cell_type": "code",
   "execution_count": 14,
   "metadata": {},
   "outputs": [],
   "source": [
    "henry=TraderM(tid='Henry',exchange=exchange,timer=timer, messenger=messenger)"
   ]
  },
  {
   "cell_type": "markdown",
   "metadata": {},
   "source": [
    "The particulars of the trader can be viewed by:"
   ]
  },
  {
   "cell_type": "code",
   "execution_count": 15,
   "metadata": {},
   "outputs": [
    {
     "name": "stdout",
     "output_type": "stream",
     "text": [
      "[TID: Henry type: None balance: 0 blotter: {} orders: OrderedDict() n_trades: 0 profitpertime: 0]\n"
     ]
    }
   ],
   "source": [
    "print(henry)"
   ]
  },
  {
   "cell_type": "markdown",
   "metadata": {},
   "source": [
    "Or for a more in depth look:"
   ]
  },
  {
   "cell_type": "code",
   "execution_count": 16,
   "metadata": {},
   "outputs": [
    {
     "data": {
      "text/plain": [
       "{'ttype': None,\n",
       " 'tid': 'Henry',\n",
       " 'balance': 0,\n",
       " 'blotter': {},\n",
       " 'orders': [],\n",
       " 'orders_dic': OrderedDict(),\n",
       " 'history': False,\n",
       " 'orders_lookup': {},\n",
       " 'n_orders': 0,\n",
       " 'n_quotes': 0,\n",
       " 'n_quote_limit': 1,\n",
       " 'profitpertime': 0,\n",
       " 'n_trades': 0,\n",
       " 'lastquote': {},\n",
       " 'latency': 1,\n",
       " 'total_quotes': 0,\n",
       " 'timer': time: 1 time left: 9.0 start: 0 end: 10 step: 1,\n",
       " 'birthtime': 1,\n",
       " 'exchange': No orders in exchange order book,\n",
       " 'last_quote_time': 1,\n",
       " 'name': 'Henry',\n",
       " 'messenger': logging: True, subscribed: 2}"
      ]
     },
     "execution_count": 16,
     "metadata": {},
     "output_type": "execute_result"
    }
   ],
   "source": [
    "henry.__dict__"
   ]
  },
  {
   "cell_type": "markdown",
   "metadata": {},
   "source": [
    "The trader object is the parent class for multiple objects which represent specific types of trader. Included are Giveaway, ZIC (After Gode & Sunder 1993), Shaver, Sniper and ZIP (After Cliff 1997). \n",
    "\n",
    "Trader objects are differentiated by their getorder and respond methods. The former will produce an order when called, the second will update internal variables when called. "
   ]
  },
  {
   "cell_type": "markdown",
   "metadata": {},
   "source": [
    "If traders want to trade then they need to send orders to an exchange...."
   ]
  },
  {
   "cell_type": "markdown",
   "metadata": {},
   "source": [
    "# Orders"
   ]
  },
  {
   "cell_type": "code",
   "execution_count": 17,
   "metadata": {},
   "outputs": [],
   "source": [
    "from UCLSE.exchange import Order"
   ]
  },
  {
   "cell_type": "markdown",
   "metadata": {},
   "source": [
    "Traders submit orders to an exchange. An order is a namedtuple object which contains trader id, order type (Bid or Ask), price, quantity, time, quote_id and order_id."
   ]
  },
  {
   "cell_type": "code",
   "execution_count": 18,
   "metadata": {},
   "outputs": [],
   "source": [
    "order=Order('henry',otype='Bid',qty=1,price=100,time=1,oid=1)"
   ]
  },
  {
   "cell_type": "markdown",
   "metadata": {},
   "source": [
    "Named tuples are cool:"
   ]
  },
  {
   "cell_type": "code",
   "execution_count": 19,
   "metadata": {},
   "outputs": [
    {
     "name": "stdout",
     "output_type": "stream",
     "text": [
      "Order(tid='henry', otype='Bid', price=100, qty=1, time=1, qid=None, oid=1)\n"
     ]
    }
   ],
   "source": [
    "print(order)"
   ]
  },
  {
   "cell_type": "code",
   "execution_count": 20,
   "metadata": {},
   "outputs": [
    {
     "data": {
      "text/plain": [
       "'henry'"
      ]
     },
     "execution_count": 20,
     "metadata": {},
     "output_type": "execute_result"
    }
   ],
   "source": [
    "order.tid"
   ]
  },
  {
   "cell_type": "markdown",
   "metadata": {},
   "source": [
    "And they are mostly immutable, like normal tuples:"
   ]
  },
  {
   "cell_type": "code",
   "execution_count": 21,
   "metadata": {},
   "outputs": [
    {
     "ename": "AttributeError",
     "evalue": "can't set attribute",
     "output_type": "error",
     "traceback": [
      "\u001b[1;31m---------------------------------------------------------------------------\u001b[0m",
      "\u001b[1;31mAttributeError\u001b[0m                            Traceback (most recent call last)",
      "\u001b[1;32m<ipython-input-21-d9264c8ed3f4>\u001b[0m in \u001b[0;36m<module>\u001b[1;34m\u001b[0m\n\u001b[1;32m----> 1\u001b[1;33m \u001b[0morder\u001b[0m\u001b[1;33m.\u001b[0m\u001b[0mtid\u001b[0m\u001b[1;33m=\u001b[0m\u001b[1;34m'John'\u001b[0m\u001b[1;33m\u001b[0m\u001b[1;33m\u001b[0m\u001b[0m\n\u001b[0m",
      "\u001b[1;31mAttributeError\u001b[0m: can't set attribute"
     ]
    }
   ],
   "source": [
    "order.tid='John'"
   ]
  },
  {
   "cell_type": "markdown",
   "metadata": {},
   "source": [
    "# Messages and the Messenger (again)"
   ]
  },
  {
   "cell_type": "markdown",
   "metadata": {},
   "source": [
    "Let's subscribe ourselves to the exchange, and send a message to henry containing the order. "
   ]
  },
  {
   "cell_type": "code",
   "execution_count": 22,
   "metadata": {},
   "outputs": [],
   "source": [
    "messenger.subscribe(name='a god',tipe='deity',obj=None)"
   ]
  },
  {
   "cell_type": "markdown",
   "metadata": {},
   "source": [
    "To verify, we can look at the directory of subscribers:"
   ]
  },
  {
   "cell_type": "code",
   "execution_count": 23,
   "metadata": {},
   "outputs": [
    {
     "data": {
      "text/plain": [
       "{'exchange1': DirectoryEntry(name='exchange1', type='Exchange', object=No orders in exchange order book),\n",
       " 'Henry': DirectoryEntry(name='Henry', type='Trader', object=[TID: Henry type: None balance: 0 blotter: {} orders: OrderedDict() n_trades: 0 profitpertime: 0]),\n",
       " 'a god': DirectoryEntry(name='a god', type='deity', object=None)}"
      ]
     },
     "execution_count": 23,
     "metadata": {},
     "output_type": "execute_result"
    }
   ],
   "source": [
    "messenger.directory"
   ]
  },
  {
   "cell_type": "markdown",
   "metadata": {},
   "source": [
    "We can send a message to the messenger which sends it onward.\n",
    "\n",
    "A message object is another example of the named tuple. "
   ]
  },
  {
   "cell_type": "code",
   "execution_count": 24,
   "metadata": {},
   "outputs": [
    {
     "data": {
      "text/plain": [
       "('too', 'fromm', 'subject', 'time', 'order')"
      ]
     },
     "execution_count": 24,
     "metadata": {},
     "output_type": "execute_result"
    }
   ],
   "source": [
    "Message._fields"
   ]
  },
  {
   "cell_type": "markdown",
   "metadata": {},
   "source": [
    "Let's add the order to henry (from the perspective of a client giving him the order to execute)"
   ]
  },
  {
   "cell_type": "code",
   "execution_count": 25,
   "metadata": {},
   "outputs": [],
   "source": [
    "message=Message(too='Henry',fromm='a god',subject='New Customer Order',order=order,time=timer.time)\n",
    "messenger.send(message)"
   ]
  },
  {
   "cell_type": "markdown",
   "metadata": {},
   "source": [
    "And check that henry received it"
   ]
  },
  {
   "cell_type": "code",
   "execution_count": 26,
   "metadata": {},
   "outputs": [
    {
     "data": {
      "text/plain": [
       "{'ttype': None,\n",
       " 'tid': 'Henry',\n",
       " 'balance': 0,\n",
       " 'blotter': {},\n",
       " 'orders': [],\n",
       " 'orders_dic': OrderedDict([(1,\n",
       "               {'Original': Order(tid='henry', otype='Bid', price=100, qty=1, time=1, qid=None, oid=1),\n",
       "                'submitted_quotes': [],\n",
       "                'qty_remain': 1})]),\n",
       " 'history': False,\n",
       " 'orders_lookup': {},\n",
       " 'n_orders': 1,\n",
       " 'n_quotes': 0,\n",
       " 'n_quote_limit': 1,\n",
       " 'profitpertime': 0,\n",
       " 'n_trades': 0,\n",
       " 'lastquote': {},\n",
       " 'latency': 1,\n",
       " 'total_quotes': 0,\n",
       " 'timer': time: 1 time left: 9.0 start: 0 end: 10 step: 1,\n",
       " 'birthtime': 1,\n",
       " 'exchange': No orders in exchange order book,\n",
       " 'last_quote_time': 1,\n",
       " 'name': 'Henry',\n",
       " 'messenger': logging: True, subscribed: 3}"
      ]
     },
     "execution_count": 26,
     "metadata": {},
     "output_type": "execute_result"
    }
   ],
   "source": [
    "henry.__dict__"
   ]
  },
  {
   "cell_type": "markdown",
   "metadata": {},
   "source": [
    "The internal variables indicate that he has one order, and that it hasn't been submitted to the exchange (n_quotes=0)"
   ]
  },
  {
   "cell_type": "markdown",
   "metadata": {},
   "source": [
    "Let's send an order to the exchange. traders do so when they receive a 'Get Order' message."
   ]
  },
  {
   "cell_type": "code",
   "execution_count": 27,
   "metadata": {},
   "outputs": [
    {
     "name": "stdout",
     "output_type": "stream",
     "text": [
      "Message(too='Henry', fromm='a god', subject='Get Order', time=1, order=None)\n"
     ]
    },
    {
     "ename": "AttributeError",
     "evalue": "'TraderM' object has no attribute 'getorder'",
     "output_type": "error",
     "traceback": [
      "\u001b[1;31m---------------------------------------------------------------------------\u001b[0m",
      "\u001b[1;31mAttributeError\u001b[0m                            Traceback (most recent call last)",
      "\u001b[1;32m<ipython-input-27-c496bfc0aaa5>\u001b[0m in \u001b[0;36m<module>\u001b[1;34m\u001b[0m\n\u001b[0;32m      1\u001b[0m \u001b[0mmessage\u001b[0m\u001b[1;33m=\u001b[0m\u001b[0mMessage\u001b[0m\u001b[1;33m(\u001b[0m\u001b[0mtoo\u001b[0m\u001b[1;33m=\u001b[0m\u001b[1;34m'Henry'\u001b[0m\u001b[1;33m,\u001b[0m\u001b[0mfromm\u001b[0m\u001b[1;33m=\u001b[0m\u001b[1;34m'a god'\u001b[0m\u001b[1;33m,\u001b[0m\u001b[0msubject\u001b[0m\u001b[1;33m=\u001b[0m\u001b[1;34m'Get Order'\u001b[0m\u001b[1;33m,\u001b[0m\u001b[0mtime\u001b[0m\u001b[1;33m=\u001b[0m\u001b[0mtimer\u001b[0m\u001b[1;33m.\u001b[0m\u001b[0mtime\u001b[0m\u001b[1;33m,\u001b[0m\u001b[0morder\u001b[0m\u001b[1;33m=\u001b[0m\u001b[1;32mNone\u001b[0m\u001b[1;33m)\u001b[0m\u001b[1;33m\u001b[0m\u001b[1;33m\u001b[0m\u001b[0m\n\u001b[1;32m----> 2\u001b[1;33m \u001b[0mmessenger\u001b[0m\u001b[1;33m.\u001b[0m\u001b[0msend\u001b[0m\u001b[1;33m(\u001b[0m\u001b[0mmessage\u001b[0m\u001b[1;33m)\u001b[0m\u001b[1;33m\u001b[0m\u001b[1;33m\u001b[0m\u001b[0m\n\u001b[0m",
      "\u001b[1;32m~\\OneDrive - University College London\\BUCLSE\\UCLSE\\messenger.py\u001b[0m in \u001b[0;36msend\u001b[1;34m(self, message)\u001b[0m\n\u001b[0;32m     36\u001b[0m                 \u001b[1;32mtry\u001b[0m\u001b[1;33m:\u001b[0m\u001b[1;33m\u001b[0m\u001b[1;33m\u001b[0m\u001b[0m\n\u001b[0;32m     37\u001b[0m                         \u001b[1;32mif\u001b[0m \u001b[0misinstance\u001b[0m\u001b[1;33m(\u001b[0m\u001b[0mmessage\u001b[0m\u001b[1;33m,\u001b[0m\u001b[0mMessage\u001b[0m\u001b[1;33m)\u001b[0m\u001b[1;33m:\u001b[0m\u001b[1;33m\u001b[0m\u001b[1;33m\u001b[0m\u001b[0m\n\u001b[1;32m---> 38\u001b[1;33m                                 \u001b[0mself\u001b[0m\u001b[1;33m.\u001b[0m\u001b[0m_send\u001b[0m\u001b[1;33m(\u001b[0m\u001b[0mmessage\u001b[0m\u001b[1;33m)\u001b[0m\u001b[1;33m\u001b[0m\u001b[1;33m\u001b[0m\u001b[0m\n\u001b[0m\u001b[0;32m     39\u001b[0m                         \u001b[1;32melif\u001b[0m \u001b[0misinstance\u001b[0m\u001b[1;33m(\u001b[0m\u001b[0mmessage\u001b[0m\u001b[1;33m,\u001b[0m\u001b[0mlist\u001b[0m\u001b[1;33m)\u001b[0m\u001b[1;33m:\u001b[0m\u001b[1;33m\u001b[0m\u001b[1;33m\u001b[0m\u001b[0m\n\u001b[0;32m     40\u001b[0m                                 \u001b[1;32mfor\u001b[0m \u001b[0mm\u001b[0m \u001b[1;32min\u001b[0m \u001b[0mmessage\u001b[0m\u001b[1;33m:\u001b[0m\u001b[1;33m\u001b[0m\u001b[1;33m\u001b[0m\u001b[0m\n",
      "\u001b[1;32m~\\OneDrive - University College London\\BUCLSE\\UCLSE\\messenger.py\u001b[0m in \u001b[0;36m_send\u001b[1;34m(self, message)\u001b[0m\n\u001b[0;32m     80\u001b[0m                 \u001b[1;31m#due to chaining effect\u001b[0m\u001b[1;33m\u001b[0m\u001b[1;33m\u001b[0m\u001b[1;33m\u001b[0m\u001b[0m\n\u001b[0;32m     81\u001b[0m \u001b[1;33m\u001b[0m\u001b[0m\n\u001b[1;32m---> 82\u001b[1;33m                 \u001b[0mrecipient_obj\u001b[0m\u001b[1;33m.\u001b[0m\u001b[0mreceive_message\u001b[0m\u001b[1;33m(\u001b[0m\u001b[0mmessage\u001b[0m\u001b[1;33m)\u001b[0m\u001b[1;33m\u001b[0m\u001b[1;33m\u001b[0m\u001b[0m\n\u001b[0m\u001b[0;32m     83\u001b[0m \u001b[1;33m\u001b[0m\u001b[0m\n\u001b[0;32m     84\u001b[0m         \u001b[1;32mdef\u001b[0m \u001b[0mpublish_log\u001b[0m\u001b[1;33m(\u001b[0m\u001b[0mself\u001b[0m\u001b[1;33m,\u001b[0m\u001b[0mtime\u001b[0m\u001b[1;33m)\u001b[0m\u001b[1;33m:\u001b[0m\u001b[1;33m\u001b[0m\u001b[1;33m\u001b[0m\u001b[0m\n",
      "\u001b[1;32m~\\OneDrive - University College London\\BUCLSE\\UCLSE\\message_trader.py\u001b[0m in \u001b[0;36mreceive_message\u001b[1;34m(self, message)\u001b[0m\n\u001b[0;32m     57\u001b[0m                 \u001b[1;32melif\u001b[0m \u001b[0mmessage\u001b[0m\u001b[1;33m.\u001b[0m\u001b[0msubject\u001b[0m\u001b[1;33m==\u001b[0m\u001b[1;34m'Get Order'\u001b[0m\u001b[1;33m:\u001b[0m\u001b[1;33m\u001b[0m\u001b[1;33m\u001b[0m\u001b[0m\n\u001b[0;32m     58\u001b[0m                         \u001b[0mlob\u001b[0m\u001b[1;33m=\u001b[0m\u001b[0mmessage\u001b[0m\u001b[1;33m.\u001b[0m\u001b[0morder\u001b[0m\u001b[1;33m\u001b[0m\u001b[1;33m\u001b[0m\u001b[0m\n\u001b[1;32m---> 59\u001b[1;33m                         \u001b[0mself\u001b[0m\u001b[1;33m.\u001b[0m\u001b[0mgetOrderReplace\u001b[0m\u001b[1;33m(\u001b[0m\u001b[0mtime\u001b[0m\u001b[1;33m=\u001b[0m\u001b[0mself\u001b[0m\u001b[1;33m.\u001b[0m\u001b[0mtime\u001b[0m\u001b[1;33m,\u001b[0m \u001b[0mlob\u001b[0m\u001b[1;33m=\u001b[0m\u001b[1;32mNone\u001b[0m\u001b[1;33m)\u001b[0m\u001b[1;33m\u001b[0m\u001b[1;33m\u001b[0m\u001b[0m\n\u001b[0m\u001b[0;32m     60\u001b[0m \u001b[1;33m\u001b[0m\u001b[0m\n\u001b[0;32m     61\u001b[0m \u001b[1;33m\u001b[0m\u001b[0m\n",
      "\u001b[1;32m~\\OneDrive - University College London\\BUCLSE\\UCLSE\\message_trader.py\u001b[0m in \u001b[0;36mgetOrderReplace\u001b[1;34m(self, time, countdown, lob)\u001b[0m\n\u001b[0;32m    143\u001b[0m         \u001b[1;32mdef\u001b[0m \u001b[0mgetOrderReplace\u001b[0m\u001b[1;33m(\u001b[0m\u001b[0mself\u001b[0m\u001b[1;33m,\u001b[0m \u001b[0mtime\u001b[0m\u001b[1;33m=\u001b[0m\u001b[1;32mNone\u001b[0m\u001b[1;33m,\u001b[0m \u001b[0mcountdown\u001b[0m\u001b[1;33m=\u001b[0m\u001b[1;32mNone\u001b[0m\u001b[1;33m,\u001b[0m \u001b[0mlob\u001b[0m\u001b[1;33m=\u001b[0m\u001b[1;32mNone\u001b[0m\u001b[1;33m)\u001b[0m\u001b[1;33m:\u001b[0m\u001b[1;33m\u001b[0m\u001b[1;33m\u001b[0m\u001b[0m\n\u001b[0;32m    144\u001b[0m                         \u001b[1;31m#method which gets order from trader and also directly informs exchange of order replacement.\u001b[0m\u001b[1;33m\u001b[0m\u001b[1;33m\u001b[0m\u001b[1;33m\u001b[0m\u001b[0m\n\u001b[1;32m--> 145\u001b[1;33m                         \u001b[0morder_dic\u001b[0m\u001b[1;33m=\u001b[0m\u001b[0mself\u001b[0m\u001b[1;33m.\u001b[0m\u001b[0mgetorder\u001b[0m\u001b[1;33m(\u001b[0m\u001b[0mtime\u001b[0m\u001b[1;33m,\u001b[0m \u001b[0mcountdown\u001b[0m\u001b[1;33m,\u001b[0m \u001b[0mlob\u001b[0m\u001b[1;33m)\u001b[0m\u001b[1;33m\u001b[0m\u001b[1;33m\u001b[0m\u001b[0m\n\u001b[0m\u001b[0;32m    146\u001b[0m \u001b[1;33m\u001b[0m\u001b[0m\n\u001b[0;32m    147\u001b[0m                         \u001b[1;32mfor\u001b[0m \u001b[0moi\u001b[0m\u001b[1;33m,\u001b[0m\u001b[0morder\u001b[0m \u001b[1;32min\u001b[0m \u001b[0morder_dic\u001b[0m\u001b[1;33m.\u001b[0m\u001b[0mitems\u001b[0m\u001b[1;33m(\u001b[0m\u001b[1;33m)\u001b[0m\u001b[1;33m:\u001b[0m\u001b[1;33m\u001b[0m\u001b[1;33m\u001b[0m\u001b[0m\n",
      "\u001b[1;31mAttributeError\u001b[0m: 'TraderM' object has no attribute 'getorder'"
     ]
    }
   ],
   "source": [
    "message=Message(too='Henry',fromm='a god',subject='Get Order',time=timer.time,order=None)\n",
    "messenger.send(message)"
   ]
  },
  {
   "cell_type": "markdown",
   "metadata": {},
   "source": [
    "oops. The raw TraderM object has no method ('getorder') to create orders from its internal list of client orders. This is one of the ways that trader classes are differentiated from each other. Let's quickly write one:\n",
    "\n",
    "\n",
    "\n"
   ]
  },
  {
   "cell_type": "code",
   "execution_count": 28,
   "metadata": {},
   "outputs": [],
   "source": [
    "class giveaway(TraderM):\n",
    "   def getorder(self,a,b,c):\n",
    "        submit_order_dic={}\n",
    "        for oid,o in self.orders_dic.items():\n",
    "            order=Order('henry',otype='Bid',qty=1,price=100,time=1,oid=1)\n",
    "            cust_order=o['Original']\n",
    "            new_order=Order(self.tid,otype=cust_order.otype,qty=cust_order.qty,\n",
    "                            price=cust_order.price,time=self.time,oid=cust_order.oid)\n",
    "            submit_order_dic[oid]=new_order\n",
    "            \n",
    "        return submit_order_dic"
   ]
  },
  {
   "cell_type": "markdown",
   "metadata": {},
   "source": [
    "This get order method just passes through client orders verbatim to the exchange, making no price improvement."
   ]
  },
  {
   "cell_type": "code",
   "execution_count": 29,
   "metadata": {},
   "outputs": [
    {
     "name": "stderr",
     "output_type": "stream",
     "text": [
      "C:\\Users\\micro_zo50ceu\\OneDrive - University College London\\BUCLSE\\UCLSE\\messenger.py:29: UserWarning: Henry is already subscribed, replacing position in directory\n",
      "  warnings.warn(m,UserWarning)\n"
     ]
    }
   ],
   "source": [
    "timer.next_period()    \n",
    "henry=giveaway(tid='Henry',exchange=exchange,timer=timer, messenger=messenger)\n",
    "\n",
    "\n",
    "message=Message(too='Henry',fromm='a god',subject='New Customer Order',order=order,time=timer.time)\n",
    "messenger.send(message)\n",
    "\n",
    "message=Message(too='Henry',fromm='a god',subject='Get Order',time=timer.time,order=None)\n",
    "messenger.send(message)"
   ]
  },
  {
   "cell_type": "markdown",
   "metadata": {},
   "source": [
    "To check this has arrived at the exchange:"
   ]
  },
  {
   "cell_type": "code",
   "execution_count": 30,
   "metadata": {},
   "outputs": [
    {
     "data": {
      "text/plain": [
       "                          tid\n",
       "otype                     Bid\n",
       "price time qid oid qty       \n",
       "100   2    0   1   1    Henry"
      ]
     },
     "execution_count": 30,
     "metadata": {},
     "output_type": "execute_result"
    }
   ],
   "source": [
    "exchange"
   ]
  },
  {
   "cell_type": "markdown",
   "metadata": {},
   "source": [
    "Let's look at what happened by examining the messenger log. \n",
    "1. god sends customer order to Henry\n",
    "2. god prompts Henry to submit an order to exchange\n",
    "3. Henry sends message to exchange containing order\n",
    "4. Exchange replies with the quote id for the new trade on the exchange."
   ]
  },
  {
   "cell_type": "code",
   "execution_count": 31,
   "metadata": {},
   "outputs": [
    {
     "data": {
      "text/html": [
       "<div>\n",
       "<style scoped>\n",
       "    .dataframe tbody tr th:only-of-type {\n",
       "        vertical-align: middle;\n",
       "    }\n",
       "\n",
       "    .dataframe tbody tr th {\n",
       "        vertical-align: top;\n",
       "    }\n",
       "\n",
       "    .dataframe thead th {\n",
       "        text-align: right;\n",
       "    }\n",
       "</style>\n",
       "<table border=\"1\" class=\"dataframe\">\n",
       "  <thead>\n",
       "    <tr style=\"text-align: right;\">\n",
       "      <th></th>\n",
       "      <th>fromm</th>\n",
       "      <th>too</th>\n",
       "      <th>subject</th>\n",
       "      <th>time</th>\n",
       "      <th>order</th>\n",
       "    </tr>\n",
       "  </thead>\n",
       "  <tbody>\n",
       "    <tr>\n",
       "      <th>0</th>\n",
       "      <td>a god</td>\n",
       "      <td>Henry</td>\n",
       "      <td>New Customer Order</td>\n",
       "      <td>2</td>\n",
       "      <td>(henry, Bid, 100, 1, 1, None, 1)</td>\n",
       "    </tr>\n",
       "    <tr>\n",
       "      <th>1</th>\n",
       "      <td>a god</td>\n",
       "      <td>Henry</td>\n",
       "      <td>Get Order</td>\n",
       "      <td>2</td>\n",
       "      <td>None</td>\n",
       "    </tr>\n",
       "    <tr>\n",
       "      <th>2</th>\n",
       "      <td>Henry</td>\n",
       "      <td>exchange1</td>\n",
       "      <td>New Exchange Order</td>\n",
       "      <td>2</td>\n",
       "      <td>(Henry, Bid, 100, 1, 2, None, 1)</td>\n",
       "    </tr>\n",
       "    <tr>\n",
       "      <th>3</th>\n",
       "      <td>exchange1</td>\n",
       "      <td>Henry</td>\n",
       "      <td>Confirm</td>\n",
       "      <td>2</td>\n",
       "      <td>(Henry, Bid, 100, 1, 2, 0, 1)</td>\n",
       "    </tr>\n",
       "  </tbody>\n",
       "</table>\n",
       "</div>"
      ],
      "text/plain": [
       "       fromm        too             subject  time  \\\n",
       "0      a god      Henry  New Customer Order     2   \n",
       "1      a god      Henry           Get Order     2   \n",
       "2      Henry  exchange1  New Exchange Order     2   \n",
       "3  exchange1      Henry             Confirm     2   \n",
       "\n",
       "                              order  \n",
       "0  (henry, Bid, 100, 1, 1, None, 1)  \n",
       "1                              None  \n",
       "2  (Henry, Bid, 100, 1, 2, None, 1)  \n",
       "3     (Henry, Bid, 100, 1, 2, 0, 1)  "
      ]
     },
     "execution_count": 31,
     "metadata": {},
     "output_type": "execute_result"
    }
   ],
   "source": [
    "messenger.publish_log(timer.get_time)[['fromm','too','subject','time','order']]"
   ]
  },
  {
   "cell_type": "markdown",
   "metadata": {},
   "source": [
    "You can see this record at the exchange either by the lob variable which is a dictionary of Order queues (called orderlist) indexed by price. \n",
    "\n",
    "The orderlist is a modified deque which holds the orders.\n",
    "\n",
    "Deque - a datatype that efficiently allows us to append to the back and subtract from the front."
   ]
  },
  {
   "cell_type": "code",
   "execution_count": 32,
   "metadata": {},
   "outputs": [
    {
     "data": {
      "text/plain": [
       "{100: OrderList([Order(tid='Henry', otype='Bid', price=100, qty=1, time=2, qid=0, oid=1)])}"
      ]
     },
     "execution_count": 32,
     "metadata": {},
     "output_type": "execute_result"
    }
   ],
   "source": [
    "exchange.bids.lob"
   ]
  },
  {
   "cell_type": "markdown",
   "metadata": {},
   "source": [
    "or in the dictionary of all orders, indexed by qid:"
   ]
  },
  {
   "cell_type": "code",
   "execution_count": 33,
   "metadata": {},
   "outputs": [
    {
     "data": {
      "text/plain": [
       "{0: Order(tid='Henry', otype='Bid', price=100, qty=1, time=2, qid=0, oid=1)}"
      ]
     },
     "execution_count": 33,
     "metadata": {},
     "output_type": "execute_result"
    }
   ],
   "source": [
    "exchange.bids.q_orders"
   ]
  },
  {
   "cell_type": "markdown",
   "metadata": {},
   "source": [
    "Traders store orders in an ordered dictionary 'orders_dic', the key is OID, which is unique per order.\n",
    "\n",
    "Within each entry there is a dictionary containing:\n",
    "- 'Original' orders which do not change\n",
    "- A list submitted of quotes at the exchange which they will probably alter over time.\n",
    "- A record of how much quantity of the original order is yet to be executed."
   ]
  },
  {
   "cell_type": "code",
   "execution_count": 35,
   "metadata": {},
   "outputs": [
    {
     "data": {
      "text/plain": [
       "OrderedDict([(1,\n",
       "              {'Original': Order(tid='henry', otype='Bid', price=100, qty=1, time=1, qid=None, oid=1),\n",
       "               'submitted_quotes': [Order(tid='Henry', otype='Bid', price=100, qty=1, time=2, qid=0, oid=1)],\n",
       "               'qty_remain': 1})])"
      ]
     },
     "execution_count": 35,
     "metadata": {},
     "output_type": "execute_result"
    }
   ],
   "source": [
    "henry.orders_dic"
   ]
  },
  {
   "cell_type": "markdown",
   "metadata": {},
   "source": [
    "Let's illustrate how a trade gets executed. "
   ]
  },
  {
   "cell_type": "code",
   "execution_count": 36,
   "metadata": {},
   "outputs": [],
   "source": [
    "from UCLSE.test.utils import (yamlLoad, order_from_dic,build_df_from_dic_dic,build_lob_from_df,\n",
    "                               lob_to_dic)\n",
    "import pandas as pd\n",
    "import os"
   ]
  },
  {
   "cell_type": "markdown",
   "metadata": {},
   "source": [
    "First from a fixtures file, we can create a dataframe containing order information"
   ]
  },
  {
   "cell_type": "code",
   "execution_count": 37,
   "metadata": {},
   "outputs": [
    {
     "data": {
      "text/html": [
       "<div>\n",
       "<style scoped>\n",
       "    .dataframe tbody tr th:only-of-type {\n",
       "        vertical-align: middle;\n",
       "    }\n",
       "\n",
       "    .dataframe tbody tr th {\n",
       "        vertical-align: top;\n",
       "    }\n",
       "\n",
       "    .dataframe thead th {\n",
       "        text-align: right;\n",
       "    }\n",
       "</style>\n",
       "<table border=\"1\" class=\"dataframe\">\n",
       "  <thead>\n",
       "    <tr style=\"text-align: right;\">\n",
       "      <th></th>\n",
       "      <th>otype</th>\n",
       "      <th>price</th>\n",
       "      <th>qid</th>\n",
       "      <th>qty</th>\n",
       "      <th>tid</th>\n",
       "      <th>time</th>\n",
       "      <th>oid</th>\n",
       "    </tr>\n",
       "    <tr>\n",
       "      <th>index</th>\n",
       "      <th></th>\n",
       "      <th></th>\n",
       "      <th></th>\n",
       "      <th></th>\n",
       "      <th></th>\n",
       "      <th></th>\n",
       "      <th></th>\n",
       "    </tr>\n",
       "  </thead>\n",
       "  <tbody>\n",
       "    <tr>\n",
       "      <th>0</th>\n",
       "      <td>Ask</td>\n",
       "      <td>107</td>\n",
       "      <td>1000</td>\n",
       "      <td>1</td>\n",
       "      <td>0</td>\n",
       "      <td>0</td>\n",
       "      <td>0</td>\n",
       "    </tr>\n",
       "    <tr>\n",
       "      <th>0</th>\n",
       "      <td>Bid</td>\n",
       "      <td>100</td>\n",
       "      <td>1000</td>\n",
       "      <td>1</td>\n",
       "      <td>0</td>\n",
       "      <td>0</td>\n",
       "      <td>1</td>\n",
       "    </tr>\n",
       "    <tr>\n",
       "      <th>1</th>\n",
       "      <td>Ask</td>\n",
       "      <td>108</td>\n",
       "      <td>1001</td>\n",
       "      <td>1</td>\n",
       "      <td>1</td>\n",
       "      <td>1</td>\n",
       "      <td>2</td>\n",
       "    </tr>\n",
       "    <tr>\n",
       "      <th>1</th>\n",
       "      <td>Bid</td>\n",
       "      <td>101</td>\n",
       "      <td>1001</td>\n",
       "      <td>1</td>\n",
       "      <td>1</td>\n",
       "      <td>1</td>\n",
       "      <td>3</td>\n",
       "    </tr>\n",
       "    <tr>\n",
       "      <th>2</th>\n",
       "      <td>Ask</td>\n",
       "      <td>109</td>\n",
       "      <td>1002</td>\n",
       "      <td>1</td>\n",
       "      <td>2</td>\n",
       "      <td>2</td>\n",
       "      <td>4</td>\n",
       "    </tr>\n",
       "    <tr>\n",
       "      <th>2</th>\n",
       "      <td>Bid</td>\n",
       "      <td>102</td>\n",
       "      <td>1002</td>\n",
       "      <td>1</td>\n",
       "      <td>2</td>\n",
       "      <td>2</td>\n",
       "      <td>5</td>\n",
       "    </tr>\n",
       "    <tr>\n",
       "      <th>3</th>\n",
       "      <td>Ask</td>\n",
       "      <td>110</td>\n",
       "      <td>1003</td>\n",
       "      <td>1</td>\n",
       "      <td>3</td>\n",
       "      <td>3</td>\n",
       "      <td>6</td>\n",
       "    </tr>\n",
       "    <tr>\n",
       "      <th>3</th>\n",
       "      <td>Bid</td>\n",
       "      <td>103</td>\n",
       "      <td>1003</td>\n",
       "      <td>1</td>\n",
       "      <td>3</td>\n",
       "      <td>3</td>\n",
       "      <td>7</td>\n",
       "    </tr>\n",
       "    <tr>\n",
       "      <th>4</th>\n",
       "      <td>Ask</td>\n",
       "      <td>111</td>\n",
       "      <td>1004</td>\n",
       "      <td>1</td>\n",
       "      <td>4</td>\n",
       "      <td>4</td>\n",
       "      <td>8</td>\n",
       "    </tr>\n",
       "    <tr>\n",
       "      <th>4</th>\n",
       "      <td>Bid</td>\n",
       "      <td>104</td>\n",
       "      <td>1004</td>\n",
       "      <td>1</td>\n",
       "      <td>4</td>\n",
       "      <td>4</td>\n",
       "      <td>9</td>\n",
       "    </tr>\n",
       "    <tr>\n",
       "      <th>5</th>\n",
       "      <td>Ask</td>\n",
       "      <td>112</td>\n",
       "      <td>1005</td>\n",
       "      <td>1</td>\n",
       "      <td>5</td>\n",
       "      <td>5</td>\n",
       "      <td>10</td>\n",
       "    </tr>\n",
       "    <tr>\n",
       "      <th>5</th>\n",
       "      <td>Bid</td>\n",
       "      <td>105</td>\n",
       "      <td>1005</td>\n",
       "      <td>1</td>\n",
       "      <td>5</td>\n",
       "      <td>5</td>\n",
       "      <td>11</td>\n",
       "    </tr>\n",
       "  </tbody>\n",
       "</table>\n",
       "</div>"
      ],
      "text/plain": [
       "      otype  price   qid  qty  tid  time  oid\n",
       "index                                        \n",
       "0       Ask    107  1000    1    0     0    0\n",
       "0       Bid    100  1000    1    0     0    1\n",
       "1       Ask    108  1001    1    1     1    2\n",
       "1       Bid    101  1001    1    1     1    3\n",
       "2       Ask    109  1002    1    2     2    4\n",
       "2       Bid    102  1002    1    2     2    5\n",
       "3       Ask    110  1003    1    3     3    6\n",
       "3       Bid    103  1003    1    3     3    7\n",
       "4       Ask    111  1004    1    4     4    8\n",
       "4       Bid    104  1004    1    4     4    9\n",
       "5       Ask    112  1005    1    5     5   10\n",
       "5       Bid    105  1005    1    5     5   11"
      ]
     },
     "execution_count": 37,
     "metadata": {},
     "output_type": "execute_result"
    }
   ],
   "source": [
    "cwd=os.getcwd()\n",
    "fixture_name=os.path.join(os.path.dirname(cwd),'UCLSE','test','fixtures','exchange_fix.yml')\n",
    "fixture_list=yamlLoad(fixture_name)\n",
    "fixture_dic=fixture_list[0]\n",
    "\n",
    "order_df=build_df_from_dic_dic(fixture_dic['input'])\n",
    "order_df.set_index('index')"
   ]
  },
  {
   "cell_type": "markdown",
   "metadata": {},
   "source": [
    "This function is in the utilities file but recreated here, it iterates through rows of DF, converts them to an order object then adds to exchange."
   ]
  },
  {
   "cell_type": "code",
   "execution_count": 38,
   "metadata": {},
   "outputs": [],
   "source": [
    "def build_lob_from_df(order_df,exch=None,necessary_cols=['tid','otype','price','qty','qid','oid']):\n",
    "    ##adds orders from a df of orders, if supplied an exchange, will append them\n",
    "    #else will create blank exchange\n",
    "    #returns an exchange\n",
    "    order_df=order_df[necessary_cols]\n",
    "\n",
    "    if exch is None:\n",
    "        exch=Exchange(timer=CustomTimer(),messenger=messenger)\n",
    "\n",
    "    order_list=[]\n",
    "    for index, row in order_df.iterrows():\n",
    "        o=row.to_dict()\n",
    "        #o.pop('index')\n",
    "        exch.process_new_order(Order(time=exch.time,**o),verbose=False)\n",
    "\n",
    "    return exch"
   ]
  },
  {
   "cell_type": "code",
   "execution_count": 59,
   "metadata": {},
   "outputs": [
    {
     "name": "stdout",
     "output_type": "stream",
     "text": [
      "Recipient not subscribed: 0\n",
      "Recipient not subscribed: 0\n",
      "Recipient not subscribed: 1\n",
      "Recipient not subscribed: 1\n",
      "Recipient not subscribed: 2\n",
      "Recipient not subscribed: 2\n",
      "Recipient not subscribed: 3\n",
      "Recipient not subscribed: 3\n",
      "Recipient not subscribed: 4\n",
      "Recipient not subscribed: 4\n",
      "Recipient not subscribed: 5\n",
      "Recipient not subscribed: 5\n"
     ]
    }
   ],
   "source": [
    "from UCLSE.custom_timer import CustomTimer\n",
    "from UCLSE.message_exchange import Exchange\n",
    "from UCLSE.exchange import  Order\n",
    "from UCLSE.messenger import Messenger,Message\n",
    "from UCLSE.message_trader import TraderM\n",
    "\n",
    "timer=CustomTimer()\n",
    "messenger=Messenger(logging=True)\n",
    "\n",
    "exchange=Exchange(timer=timer,messenger=messenger)\n",
    "\n",
    "messenger.set_asserting(False)\n",
    "exchange=build_lob_from_df(order_df,exch=exchange)"
   ]
  },
  {
   "cell_type": "markdown",
   "metadata": {},
   "source": [
    "And we can see that what the LOB looks like:"
   ]
  },
  {
   "cell_type": "code",
   "execution_count": 60,
   "metadata": {},
   "outputs": [
    {
     "name": "stdout",
     "output_type": "stream",
     "text": [
      "                        tid     \n",
      "otype                   Ask  Bid\n",
      "price time qid oid qty          \n",
      "100   0    1   1   1    NaN  0.0\n",
      "101   0    3   3   1    NaN  1.0\n",
      "102   0    5   5   1    NaN  2.0\n",
      "103   0    7   7   1    NaN  3.0\n",
      "104   0    9   9   1    NaN  4.0\n",
      "105   0    11  11  1    NaN  5.0\n",
      "107   0    0   0   1    0.0  NaN\n",
      "108   0    2   2   1    1.0  NaN\n",
      "109   0    4   4   1    2.0  NaN\n",
      "110   0    6   6   1    3.0  NaN\n",
      "111   0    8   8   1    4.0  NaN\n",
      "112   0    10  10  1    5.0  NaN\n"
     ]
    }
   ],
   "source": [
    "print(exchange)"
   ]
  },
  {
   "cell_type": "markdown",
   "metadata": {},
   "source": [
    "Next period the trader receives the following order:"
   ]
  },
  {
   "cell_type": "code",
   "execution_count": 61,
   "metadata": {},
   "outputs": [
    {
     "name": "stdout",
     "output_type": "stream",
     "text": [
      "Recipient not subscribed: 0\n",
      "Recipient not subscribed: 1\n",
      "Recipient not subscribed: 2\n"
     ]
    }
   ],
   "source": [
    "timer.next_period()\n",
    "\n",
    "henry=giveaway(tid='Henry',exchange=exchange,timer=timer,time=0,messenger=messenger,history=True) \n",
    "#time input manually specifies trader birthtime\n",
    "new_order=Order(tid='Henry', otype='Bid', price=109, qty=5, qid=None,time=henry.time, oid=50)\n",
    "\n",
    "message=Message(too='Henry',fromm='a god',subject='New Customer Order',order=new_order,time=timer.time)\n",
    "messenger.send(message)\n",
    "\n",
    "message=Message(too='Henry',fromm='a god',subject='Get Order',time=timer.time,order=None)\n",
    "messenger.send(message)"
   ]
  },
  {
   "cell_type": "markdown",
   "metadata": {},
   "source": [
    "There is a warning about the traders not being subscribed who own the orders at exchange. Normally this would cause an error but the command messenger.set_asserting(False) allows us to continue.\n",
    "\n",
    "Henry's order is now at exchange:"
   ]
  },
  {
   "cell_type": "code",
   "execution_count": 62,
   "metadata": {},
   "outputs": [
    {
     "data": {
      "text/plain": [
       "                              tid       \n",
       "otype                         Ask    Bid\n",
       "price time qid       oid qty            \n",
       "100   0    1.000000  1   1    NaN      0\n",
       "101   0    3.000000  3   1    NaN      1\n",
       "102   0    5.000000  5   1    NaN      2\n",
       "103   0    7.000000  7   1    NaN      3\n",
       "104   0    9.000000  9   1    NaN      4\n",
       "105   0    11.000000 11  1    NaN      5\n",
       "109   1    12.000003 50  2    NaN  Henry\n",
       "110   0    6.000000  6   1      3    NaN\n",
       "111   0    8.000000  8   1      4    NaN\n",
       "112   0    10.000000 10  1      5    NaN"
      ]
     },
     "execution_count": 62,
     "metadata": {},
     "output_type": "execute_result"
    }
   ],
   "source": [
    "exchange"
   ]
  },
  {
   "cell_type": "markdown",
   "metadata": {},
   "source": [
    "1. The Get Order message sent to Henry will cause it to send an order to the exchange (generated by the getorder method).\n",
    "2. Since it is a bid above best ask, it will execute. \n",
    "3. Exchange will contact the counterparties with executions\n",
    "4. Exchange will contact Henry with executions and trade ammendement since this is a partial fill\n",
    "5. Henry will bookkeep and update internal records"
   ]
  },
  {
   "cell_type": "code",
   "execution_count": 63,
   "metadata": {},
   "outputs": [
    {
     "data": {
      "text/html": [
       "<div>\n",
       "<style scoped>\n",
       "    .dataframe tbody tr th:only-of-type {\n",
       "        vertical-align: middle;\n",
       "    }\n",
       "\n",
       "    .dataframe tbody tr th {\n",
       "        vertical-align: top;\n",
       "    }\n",
       "\n",
       "    .dataframe thead th {\n",
       "        text-align: right;\n",
       "    }\n",
       "</style>\n",
       "<table border=\"1\" class=\"dataframe\">\n",
       "  <thead>\n",
       "    <tr style=\"text-align: right;\">\n",
       "      <th></th>\n",
       "      <th>fromm</th>\n",
       "      <th>too</th>\n",
       "      <th>subject</th>\n",
       "      <th>time</th>\n",
       "      <th>order</th>\n",
       "    </tr>\n",
       "  </thead>\n",
       "  <tbody>\n",
       "    <tr>\n",
       "      <th>0</th>\n",
       "      <td>a god</td>\n",
       "      <td>Henry</td>\n",
       "      <td>New Customer Order</td>\n",
       "      <td>1</td>\n",
       "      <td>(Henry, Bid, 109, 5, 1, None, 50)</td>\n",
       "    </tr>\n",
       "    <tr>\n",
       "      <th>1</th>\n",
       "      <td>a god</td>\n",
       "      <td>Henry</td>\n",
       "      <td>Get Order</td>\n",
       "      <td>1</td>\n",
       "      <td>None</td>\n",
       "    </tr>\n",
       "    <tr>\n",
       "      <th>2</th>\n",
       "      <td>Henry</td>\n",
       "      <td>exchange1</td>\n",
       "      <td>New Exchange Order</td>\n",
       "      <td>1</td>\n",
       "      <td>(Henry, Bid, 109, 5, 1, None, 50)</td>\n",
       "    </tr>\n",
       "    <tr>\n",
       "      <th>3</th>\n",
       "      <td>exchange1</td>\n",
       "      <td>Henry</td>\n",
       "      <td>Confirm</td>\n",
       "      <td>1</td>\n",
       "      <td>(Henry, Bid, 109, 5, 1, 12, 50)</td>\n",
       "    </tr>\n",
       "    <tr>\n",
       "      <th>4</th>\n",
       "      <td>exchange1</td>\n",
       "      <td>Henry</td>\n",
       "      <td>Fill</td>\n",
       "      <td>1</td>\n",
       "      <td>(Henry, Bid, 107, 1, 1, 12.0, None, 1)</td>\n",
       "    </tr>\n",
       "    <tr>\n",
       "      <th>5</th>\n",
       "      <td>exchange1</td>\n",
       "      <td>Henry</td>\n",
       "      <td>Ammend</td>\n",
       "      <td>1</td>\n",
       "      <td>(Henry, Bid, 109, 4, 1, 12.000001, 50)</td>\n",
       "    </tr>\n",
       "    <tr>\n",
       "      <th>6</th>\n",
       "      <td>exchange1</td>\n",
       "      <td>Henry</td>\n",
       "      <td>Fill</td>\n",
       "      <td>1</td>\n",
       "      <td>(Henry, Bid, 108, 1, 1, 12.000001, None, 1)</td>\n",
       "    </tr>\n",
       "    <tr>\n",
       "      <th>7</th>\n",
       "      <td>exchange1</td>\n",
       "      <td>Henry</td>\n",
       "      <td>Ammend</td>\n",
       "      <td>1</td>\n",
       "      <td>(Henry, Bid, 109, 3, 1, 12.000002, 50)</td>\n",
       "    </tr>\n",
       "    <tr>\n",
       "      <th>8</th>\n",
       "      <td>exchange1</td>\n",
       "      <td>Henry</td>\n",
       "      <td>Fill</td>\n",
       "      <td>1</td>\n",
       "      <td>(Henry, Bid, 109, 1, 1, 12.000002, None, 1)</td>\n",
       "    </tr>\n",
       "    <tr>\n",
       "      <th>9</th>\n",
       "      <td>exchange1</td>\n",
       "      <td>Henry</td>\n",
       "      <td>Ammend</td>\n",
       "      <td>1</td>\n",
       "      <td>(Henry, Bid, 109, 2, 1, 12.000003, 50)</td>\n",
       "    </tr>\n",
       "    <tr>\n",
       "      <th>10</th>\n",
       "      <td>exchange1</td>\n",
       "      <td>0</td>\n",
       "      <td>Fill</td>\n",
       "      <td>1</td>\n",
       "      <td>(0, Ask, 107, 1, 0, 0, None, 1)</td>\n",
       "    </tr>\n",
       "    <tr>\n",
       "      <th>11</th>\n",
       "      <td>exchange1</td>\n",
       "      <td>1</td>\n",
       "      <td>Fill</td>\n",
       "      <td>1</td>\n",
       "      <td>(1, Ask, 108, 1, 0, 2, None, 1)</td>\n",
       "    </tr>\n",
       "    <tr>\n",
       "      <th>12</th>\n",
       "      <td>exchange1</td>\n",
       "      <td>2</td>\n",
       "      <td>Fill</td>\n",
       "      <td>1</td>\n",
       "      <td>(2, Ask, 109, 1, 0, 4, None, 1)</td>\n",
       "    </tr>\n",
       "  </tbody>\n",
       "</table>\n",
       "</div>"
      ],
      "text/plain": [
       "        fromm        too             subject  time  \\\n",
       "0       a god      Henry  New Customer Order     1   \n",
       "1       a god      Henry           Get Order     1   \n",
       "2       Henry  exchange1  New Exchange Order     1   \n",
       "3   exchange1      Henry             Confirm     1   \n",
       "4   exchange1      Henry                Fill     1   \n",
       "5   exchange1      Henry              Ammend     1   \n",
       "6   exchange1      Henry                Fill     1   \n",
       "7   exchange1      Henry              Ammend     1   \n",
       "8   exchange1      Henry                Fill     1   \n",
       "9   exchange1      Henry              Ammend     1   \n",
       "10  exchange1          0                Fill     1   \n",
       "11  exchange1          1                Fill     1   \n",
       "12  exchange1          2                Fill     1   \n",
       "\n",
       "                                          order  \n",
       "0             (Henry, Bid, 109, 5, 1, None, 50)  \n",
       "1                                          None  \n",
       "2             (Henry, Bid, 109, 5, 1, None, 50)  \n",
       "3               (Henry, Bid, 109, 5, 1, 12, 50)  \n",
       "4        (Henry, Bid, 107, 1, 1, 12.0, None, 1)  \n",
       "5        (Henry, Bid, 109, 4, 1, 12.000001, 50)  \n",
       "6   (Henry, Bid, 108, 1, 1, 12.000001, None, 1)  \n",
       "7        (Henry, Bid, 109, 3, 1, 12.000002, 50)  \n",
       "8   (Henry, Bid, 109, 1, 1, 12.000002, None, 1)  \n",
       "9        (Henry, Bid, 109, 2, 1, 12.000003, 50)  \n",
       "10              (0, Ask, 107, 1, 0, 0, None, 1)  \n",
       "11              (1, Ask, 108, 1, 0, 2, None, 1)  \n",
       "12              (2, Ask, 109, 1, 0, 4, None, 1)  "
      ]
     },
     "execution_count": 63,
     "metadata": {},
     "output_type": "execute_result"
    }
   ],
   "source": [
    "messenger.publish_log(1)"
   ]
  },
  {
   "cell_type": "code",
   "execution_count": 64,
   "metadata": {},
   "outputs": [
    {
     "data": {
      "text/plain": [
       "OrderedDict([(50,\n",
       "              {'Original': Order(tid='Henry', otype='Bid', price=109, qty=5, time=1, qid=None, oid=50),\n",
       "               'submitted_quotes': [Order(tid='Henry', otype='Bid', price=109, qty=5, time=1, qid=12, oid=50),\n",
       "                Order(tid='Henry', otype='Bid', price=109, qty=4, time=1, qid=12.000001, oid=50),\n",
       "                Order(tid='Henry', otype='Bid', price=109, qty=3, time=1, qid=12.000002, oid=50),\n",
       "                Order(tid='Henry', otype='Bid', price=109, qty=2, time=1, qid=12.000003, oid=50)],\n",
       "               'qty_remain': 2})])"
      ]
     },
     "execution_count": 64,
     "metadata": {},
     "output_type": "execute_result"
    }
   ],
   "source": [
    "henry.orders_dic"
   ]
  },
  {
   "cell_type": "markdown",
   "metadata": {},
   "source": [
    "The trade report details any executions"
   ]
  },
  {
   "cell_type": "code",
   "execution_count": 65,
   "metadata": {},
   "outputs": [
    {
     "data": {
      "text/html": [
       "<div>\n",
       "<style scoped>\n",
       "    .dataframe tbody tr th:only-of-type {\n",
       "        vertical-align: middle;\n",
       "    }\n",
       "\n",
       "    .dataframe tbody tr th {\n",
       "        vertical-align: top;\n",
       "    }\n",
       "\n",
       "    .dataframe thead th {\n",
       "        text-align: right;\n",
       "    }\n",
       "</style>\n",
       "<table border=\"1\" class=\"dataframe\">\n",
       "  <thead>\n",
       "    <tr style=\"text-align: right;\">\n",
       "      <th></th>\n",
       "      <th>tid</th>\n",
       "      <th>otype</th>\n",
       "      <th>client_price</th>\n",
       "      <th>order_qty</th>\n",
       "      <th>order_issue_time</th>\n",
       "      <th>accession_time</th>\n",
       "      <th>qid</th>\n",
       "      <th>oid</th>\n",
       "      <th>exec_time</th>\n",
       "      <th>exec_qty</th>\n",
       "      <th>exec_price</th>\n",
       "      <th>profit</th>\n",
       "      <th>improvement</th>\n",
       "      <th>BS</th>\n",
       "      <th>status</th>\n",
       "    </tr>\n",
       "  </thead>\n",
       "  <tbody>\n",
       "    <tr>\n",
       "      <th>0</th>\n",
       "      <td>Henry</td>\n",
       "      <td>Bid</td>\n",
       "      <td>109</td>\n",
       "      <td>5</td>\n",
       "      <td>1</td>\n",
       "      <td>1</td>\n",
       "      <td>12.000000</td>\n",
       "      <td>50</td>\n",
       "      <td>1</td>\n",
       "      <td>1</td>\n",
       "      <td>107</td>\n",
       "      <td>2</td>\n",
       "      <td>2</td>\n",
       "      <td>Buy</td>\n",
       "      <td>partial</td>\n",
       "    </tr>\n",
       "    <tr>\n",
       "      <th>1</th>\n",
       "      <td>Henry</td>\n",
       "      <td>Bid</td>\n",
       "      <td>109</td>\n",
       "      <td>4</td>\n",
       "      <td>1</td>\n",
       "      <td>1</td>\n",
       "      <td>12.000001</td>\n",
       "      <td>50</td>\n",
       "      <td>1</td>\n",
       "      <td>1</td>\n",
       "      <td>108</td>\n",
       "      <td>1</td>\n",
       "      <td>1</td>\n",
       "      <td>Buy</td>\n",
       "      <td>partial</td>\n",
       "    </tr>\n",
       "    <tr>\n",
       "      <th>2</th>\n",
       "      <td>Henry</td>\n",
       "      <td>Bid</td>\n",
       "      <td>109</td>\n",
       "      <td>3</td>\n",
       "      <td>1</td>\n",
       "      <td>1</td>\n",
       "      <td>12.000002</td>\n",
       "      <td>50</td>\n",
       "      <td>1</td>\n",
       "      <td>1</td>\n",
       "      <td>109</td>\n",
       "      <td>0</td>\n",
       "      <td>0</td>\n",
       "      <td>Buy</td>\n",
       "      <td>partial</td>\n",
       "    </tr>\n",
       "  </tbody>\n",
       "</table>\n",
       "</div>"
      ],
      "text/plain": [
       "     tid otype  client_price  order_qty  order_issue_time  accession_time  \\\n",
       "0  Henry   Bid           109          5                 1               1   \n",
       "1  Henry   Bid           109          4                 1               1   \n",
       "2  Henry   Bid           109          3                 1               1   \n",
       "\n",
       "         qid  oid  exec_time  exec_qty  exec_price  profit  improvement   BS  \\\n",
       "0  12.000000   50          1         1         107       2            2  Buy   \n",
       "1  12.000001   50          1         1         108       1            1  Buy   \n",
       "2  12.000002   50          1         1         109       0            0  Buy   \n",
       "\n",
       "    status  \n",
       "0  partial  \n",
       "1  partial  \n",
       "2  partial  "
      ]
     },
     "execution_count": 65,
     "metadata": {},
     "output_type": "execute_result"
    }
   ],
   "source": [
    "#get last order in orders_dic - this is an ordered dic\n",
    "oid=next(reversed(henry.orders_dic))\n",
    "\n",
    "pd.DataFrame(henry.blotter[oid])"
   ]
  },
  {
   "cell_type": "markdown",
   "metadata": {},
   "source": [
    "Because there were 3 legs to the execution, there are 3 ammendments:"
   ]
  },
  {
   "cell_type": "markdown",
   "metadata": {},
   "source": [
    "The fills and the ammendments have been reported to the trader."
   ]
  },
  {
   "cell_type": "markdown",
   "metadata": {},
   "source": [
    "Running profit is stored in the balance attribute and the executions are stored in the blotter, it is the difference between the original order price and the executed price."
   ]
  },
  {
   "cell_type": "code",
   "execution_count": 66,
   "metadata": {},
   "outputs": [
    {
     "data": {
      "text/plain": [
       "3"
      ]
     },
     "execution_count": 66,
     "metadata": {},
     "output_type": "execute_result"
    }
   ],
   "source": [
    "assert henry.balance==pd.DataFrame(henry.blotter[oid]).profit.sum()\n",
    "henry.balance"
   ]
  },
  {
   "cell_type": "markdown",
   "metadata": {},
   "source": [
    "The original order was for 5, 3 units have been executed so there should be a remaining order of qty 2. Note that qid is incremented for the ammended order on exchange."
   ]
  },
  {
   "cell_type": "code",
   "execution_count": 67,
   "metadata": {},
   "outputs": [
    {
     "data": {
      "text/plain": [
       "2"
      ]
     },
     "execution_count": 67,
     "metadata": {},
     "output_type": "execute_result"
    }
   ],
   "source": [
    "henry.orders_dic[50]['qty_remain']"
   ]
  },
  {
   "cell_type": "markdown",
   "metadata": {},
   "source": [
    "Check that the exchange agrees:"
   ]
  },
  {
   "cell_type": "code",
   "execution_count": 68,
   "metadata": {},
   "outputs": [
    {
     "data": {
      "text/plain": [
       "                              tid       \n",
       "otype                         Ask    Bid\n",
       "price time qid       oid qty            \n",
       "100   0    1.000000  1   1    NaN      0\n",
       "101   0    3.000000  3   1    NaN      1\n",
       "102   0    5.000000  5   1    NaN      2\n",
       "103   0    7.000000  7   1    NaN      3\n",
       "104   0    9.000000  9   1    NaN      4\n",
       "105   0    11.000000 11  1    NaN      5\n",
       "109   1    12.000003 50  2    NaN  Henry\n",
       "110   0    6.000000  6   1      3    NaN\n",
       "111   0    8.000000  8   1      4    NaN\n",
       "112   0    10.000000 10  1      5    NaN"
      ]
     },
     "execution_count": 68,
     "metadata": {},
     "output_type": "execute_result"
    }
   ],
   "source": [
    "exchange"
   ]
  },
  {
   "cell_type": "markdown",
   "metadata": {},
   "source": [
    "The order book will act how you would expect so if another Buy order is entered at 109, it will get a lower priority:"
   ]
  },
  {
   "cell_type": "code",
   "execution_count": 69,
   "metadata": {},
   "outputs": [],
   "source": [
    "john=giveaway(tid='John',exchange=exchange,timer=timer,time=0,messenger=messenger)\n",
    "new_order=Order(tid='John', otype='Bid', price=109, qty=1, qid=None,time=john.time, oid=51)\n",
    "message=Message(too='John',fromm='a god',time=timer.time,order=new_order,subject='New Customer Order')\n",
    "messenger.send(message)\n",
    "message=Message(too='John',fromm='a god',time=timer.time,order=None,subject='Get Order')\n",
    "messenger.send(message)"
   ]
  },
  {
   "cell_type": "code",
   "execution_count": 70,
   "metadata": {},
   "outputs": [
    {
     "name": "stdout",
     "output_type": "stream",
     "text": [
      "                              tid       \n",
      "otype                         Ask    Bid\n",
      "price time qid       oid qty            \n",
      "100   0    1.000000  1   1    NaN      0\n",
      "101   0    3.000000  3   1    NaN      1\n",
      "102   0    5.000000  5   1    NaN      2\n",
      "103   0    7.000000  7   1    NaN      3\n",
      "104   0    9.000000  9   1    NaN      4\n",
      "105   0    11.000000 11  1    NaN      5\n",
      "109   1    12.000003 50  2    NaN  Henry\n",
      "           16.000000 51  1    NaN   John\n",
      "110   0    6.000000  6   1      3    NaN\n",
      "111   0    8.000000  8   1      4    NaN\n",
      "112   0    10.000000 10  1      5    NaN\n"
     ]
    }
   ],
   "source": [
    "print(exchange)"
   ]
  },
  {
   "cell_type": "markdown",
   "metadata": {},
   "source": [
    "Check with a sell order of quantity 2 at 109 that Henry is completed not John."
   ]
  },
  {
   "cell_type": "code",
   "execution_count": 71,
   "metadata": {},
   "outputs": [
    {
     "name": "stdout",
     "output_type": "stream",
     "text": [
      "Recipient not subscribed: SD\n",
      "Recipient not subscribed: SD\n"
     ]
    }
   ],
   "source": [
    "timer.next_period()\n",
    "paul=giveaway(tid='Paul',exchange=exchange,timer=timer,time=0,messenger=messenger)\n",
    "new_order=Order(tid='Paul', otype='Ask', price=109, qty=2, qid=None,time=paul.time, oid=52)\n",
    "message=Message(too='Paul',fromm='a god',time=timer.time,order=new_order,subject='New Customer Order')\n",
    "messenger.send(message)\n",
    "message=Message(too='Paul',fromm='a god',time=timer.time,order=None,subject='Get Order')\n",
    "messenger.send(message)"
   ]
  },
  {
   "cell_type": "code",
   "execution_count": 72,
   "metadata": {},
   "outputs": [
    {
     "name": "stdout",
     "output_type": "stream",
     "text": [
      "                        tid      \n",
      "otype                   Ask   Bid\n",
      "price time qid oid qty           \n",
      "100   0    1   1   1    NaN     0\n",
      "101   0    3   3   1    NaN     1\n",
      "102   0    5   5   1    NaN     2\n",
      "103   0    7   7   1    NaN     3\n",
      "104   0    9   9   1    NaN     4\n",
      "105   0    11  11  1    NaN     5\n",
      "109   1    16  51  1    NaN  John\n",
      "110   0    6   6   1      3   NaN\n",
      "111   0    8   8   1      4   NaN\n",
      "112   0    10  10  1      5   NaN\n"
     ]
    }
   ],
   "source": [
    "print(exchange)"
   ]
  },
  {
   "cell_type": "markdown",
   "metadata": {},
   "source": [
    "Since the trade is completed, the trader's orders_dic is wiped"
   ]
  },
  {
   "cell_type": "code",
   "execution_count": 73,
   "metadata": {},
   "outputs": [
    {
     "data": {
      "text/plain": [
       "OrderedDict()"
      ]
     },
     "execution_count": 73,
     "metadata": {},
     "output_type": "execute_result"
    }
   ],
   "source": [
    "henry.orders_dic"
   ]
  },
  {
   "cell_type": "markdown",
   "metadata": {},
   "source": [
    "But the history of the order is record if trader.history=True"
   ]
  },
  {
   "cell_type": "code",
   "execution_count": 74,
   "metadata": {},
   "outputs": [
    {
     "data": {
      "text/plain": [
       "{50: {'Original': Order(tid='Henry', otype='Bid', price=109, qty=5, time=1, qid=None, oid=50),\n",
       "  'submitted_quotes': [Order(tid='Henry', otype='Bid', price=109, qty=5, time=1, qid=12, oid=50),\n",
       "   Order(tid='Henry', otype='Bid', price=109, qty=4, time=1, qid=12.000001, oid=50),\n",
       "   Order(tid='Henry', otype='Bid', price=109, qty=3, time=1, qid=12.000002, oid=50),\n",
       "   Order(tid='Henry', otype='Bid', price=109, qty=2, time=1, qid=12.000003, oid=50)],\n",
       "  'qty_remain': 0,\n",
       "  'completion_time': 2,\n",
       "  'status': 'complete'}}"
      ]
     },
     "execution_count": 74,
     "metadata": {},
     "output_type": "execute_result"
    }
   ],
   "source": [
    "henry.orders_dic_hist"
   ]
  },
  {
   "cell_type": "markdown",
   "metadata": {},
   "source": [
    "and executions are stored on the blotter"
   ]
  },
  {
   "cell_type": "code",
   "execution_count": 75,
   "metadata": {},
   "outputs": [
    {
     "data": {
      "text/html": [
       "<div>\n",
       "<style scoped>\n",
       "    .dataframe tbody tr th:only-of-type {\n",
       "        vertical-align: middle;\n",
       "    }\n",
       "\n",
       "    .dataframe tbody tr th {\n",
       "        vertical-align: top;\n",
       "    }\n",
       "\n",
       "    .dataframe thead th {\n",
       "        text-align: right;\n",
       "    }\n",
       "</style>\n",
       "<table border=\"1\" class=\"dataframe\">\n",
       "  <thead>\n",
       "    <tr style=\"text-align: right;\">\n",
       "      <th></th>\n",
       "      <th>tid</th>\n",
       "      <th>otype</th>\n",
       "      <th>client_price</th>\n",
       "      <th>order_qty</th>\n",
       "      <th>order_issue_time</th>\n",
       "      <th>accession_time</th>\n",
       "      <th>qid</th>\n",
       "      <th>oid</th>\n",
       "      <th>exec_time</th>\n",
       "      <th>exec_qty</th>\n",
       "      <th>exec_price</th>\n",
       "      <th>profit</th>\n",
       "      <th>improvement</th>\n",
       "      <th>BS</th>\n",
       "      <th>status</th>\n",
       "    </tr>\n",
       "  </thead>\n",
       "  <tbody>\n",
       "    <tr>\n",
       "      <th>0</th>\n",
       "      <td>Henry</td>\n",
       "      <td>Bid</td>\n",
       "      <td>109</td>\n",
       "      <td>5</td>\n",
       "      <td>1</td>\n",
       "      <td>1</td>\n",
       "      <td>12.000000</td>\n",
       "      <td>50</td>\n",
       "      <td>1</td>\n",
       "      <td>1</td>\n",
       "      <td>107</td>\n",
       "      <td>2</td>\n",
       "      <td>2</td>\n",
       "      <td>Buy</td>\n",
       "      <td>partial</td>\n",
       "    </tr>\n",
       "    <tr>\n",
       "      <th>1</th>\n",
       "      <td>Henry</td>\n",
       "      <td>Bid</td>\n",
       "      <td>109</td>\n",
       "      <td>4</td>\n",
       "      <td>1</td>\n",
       "      <td>1</td>\n",
       "      <td>12.000001</td>\n",
       "      <td>50</td>\n",
       "      <td>1</td>\n",
       "      <td>1</td>\n",
       "      <td>108</td>\n",
       "      <td>1</td>\n",
       "      <td>1</td>\n",
       "      <td>Buy</td>\n",
       "      <td>partial</td>\n",
       "    </tr>\n",
       "    <tr>\n",
       "      <th>2</th>\n",
       "      <td>Henry</td>\n",
       "      <td>Bid</td>\n",
       "      <td>109</td>\n",
       "      <td>3</td>\n",
       "      <td>1</td>\n",
       "      <td>1</td>\n",
       "      <td>12.000002</td>\n",
       "      <td>50</td>\n",
       "      <td>1</td>\n",
       "      <td>1</td>\n",
       "      <td>109</td>\n",
       "      <td>0</td>\n",
       "      <td>0</td>\n",
       "      <td>Buy</td>\n",
       "      <td>partial</td>\n",
       "    </tr>\n",
       "    <tr>\n",
       "      <th>3</th>\n",
       "      <td>Henry</td>\n",
       "      <td>Bid</td>\n",
       "      <td>109</td>\n",
       "      <td>2</td>\n",
       "      <td>1</td>\n",
       "      <td>1</td>\n",
       "      <td>12.000003</td>\n",
       "      <td>50</td>\n",
       "      <td>2</td>\n",
       "      <td>2</td>\n",
       "      <td>109</td>\n",
       "      <td>0</td>\n",
       "      <td>0</td>\n",
       "      <td>Buy</td>\n",
       "      <td>complete</td>\n",
       "    </tr>\n",
       "  </tbody>\n",
       "</table>\n",
       "</div>"
      ],
      "text/plain": [
       "     tid otype  client_price  order_qty  order_issue_time  accession_time  \\\n",
       "0  Henry   Bid           109          5                 1               1   \n",
       "1  Henry   Bid           109          4                 1               1   \n",
       "2  Henry   Bid           109          3                 1               1   \n",
       "3  Henry   Bid           109          2                 1               1   \n",
       "\n",
       "         qid  oid  exec_time  exec_qty  exec_price  profit  improvement   BS  \\\n",
       "0  12.000000   50          1         1         107       2            2  Buy   \n",
       "1  12.000001   50          1         1         108       1            1  Buy   \n",
       "2  12.000002   50          1         1         109       0            0  Buy   \n",
       "3  12.000003   50          2         2         109       0            0  Buy   \n",
       "\n",
       "     status  \n",
       "0   partial  \n",
       "1   partial  \n",
       "2   partial  \n",
       "3  complete  "
      ]
     },
     "execution_count": 75,
     "metadata": {},
     "output_type": "execute_result"
    }
   ],
   "source": [
    "pd.DataFrame(henry.blotter[50])"
   ]
  },
  {
   "cell_type": "code",
   "execution_count": null,
   "metadata": {},
   "outputs": [],
   "source": []
  }
 ],
 "metadata": {
  "kernelspec": {
   "display_name": "Python 3",
   "language": "python",
   "name": "python3"
  },
  "language_info": {
   "codemirror_mode": {
    "name": "ipython",
    "version": 3
   },
   "file_extension": ".py",
   "mimetype": "text/x-python",
   "name": "python",
   "nbconvert_exporter": "python",
   "pygments_lexer": "ipython3",
   "version": "3.7.4"
  }
 },
 "nbformat": 4,
 "nbformat_minor": 2
}
