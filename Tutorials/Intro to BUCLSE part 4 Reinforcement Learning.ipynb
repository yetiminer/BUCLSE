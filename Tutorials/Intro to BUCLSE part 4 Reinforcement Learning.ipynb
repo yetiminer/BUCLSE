{
 "cells": [
  {
   "cell_type": "code",
   "execution_count": 1,
   "metadata": {},
   "outputs": [],
   "source": [
    "#this allows relative imports in notebook\n",
    "import os\n",
    "import sys\n",
    "module_path = os.path.abspath(os.path.join('..'))\n",
    "if module_path not in sys.path:\n",
    "    sys.path.append(module_path)\n",
    "\n",
    "\n",
    "from UCLSE.rl_trader import RLTrader\n",
    "from UCLSE.rl_env import RLEnv\n",
    "from UCLSE.custom_timer import CustomTimer\n",
    "from UCLSE.message_environment import yamlLoad\n",
    "from UCLSE.messenger import Messenger\n",
    "from UCLSE.plotting_utilities import display_func\n",
    "import os\n",
    "import numpy as np\n",
    "import pandas as pd"
   ]
  },
  {
   "cell_type": "markdown",
   "metadata": {},
   "source": [
    "In this notebook we will see how an Reinforcement Learning experiment can easily be setup in BUCLSE."
   ]
  },
  {
   "cell_type": "markdown",
   "metadata": {},
   "source": [
    "Firstly we define a dictionary sufficient to define a trading environment as before."
   ]
  },
  {
   "cell_type": "code",
   "execution_count": 2,
   "metadata": {},
   "outputs": [
    {
     "data": {
      "text/plain": [
       "{'start_time': 0.0,\n",
       " 'end_time': 600.0,\n",
       " 'supply_price_low': 95,\n",
       " 'supply_price_high': 95,\n",
       " 'demand_price_low': 105,\n",
       " 'demand_price_high': 105,\n",
       " 'interval': 30,\n",
       " 'timemode': 'drip-poisson',\n",
       " 'buyers_spec': {'GVWY': 10, 'SHVR': 10, 'ZIC': 10, 'ZIP': 10},\n",
       " 'sellers_spec': {'GVWY': 10, 'SHVR': 10, 'ZIC': 10, 'ZIP': 10},\n",
       " 'verbose': False,\n",
       " 'trade_file': 'avg_balance.csv',\n",
       " 'trade_record': 'transactions.csv',\n",
       " 'dump_each_trade': True,\n",
       " 'quantity_f': <function __main__.geometric_q()>,\n",
       " 'timer': time: 0 time left: 48000.0 start: 0 end: 600 step: 0.0125,\n",
       " 'messenger': <UCLSE.messenger.Messenger at 0x16e11fbc4e0>}"
      ]
     },
     "execution_count": 2,
     "metadata": {},
     "output_type": "execute_result"
    }
   ],
   "source": [
    "environ_dic={\n",
    "'start_time': 0.0,\n",
    " 'end_time': 600.0, #how long the experiment goes on for\n",
    " 'supply_price_low': 95,\n",
    " 'supply_price_high': 95,\n",
    " 'demand_price_low': 105,\n",
    " 'demand_price_high': 105,\n",
    " 'interval': 30,\n",
    " 'timemode': 'drip-poisson',\n",
    " 'buyers_spec': {'GVWY': 10, 'SHVR': 10, 'ZIC': 10, 'ZIP': 10}, #how many of each type of trader we want\n",
    " 'sellers_spec': {'GVWY': 10, 'SHVR': 10, 'ZIC': 10, 'ZIP': 10},\n",
    " 'verbose': False,\n",
    " 'trade_file': 'avg_balance.csv', #profit and loss summary by trader type\n",
    " 'trade_record': 'transactions.csv', #list of all transactions\n",
    " 'dump_each_trade': True} #record each trade\n",
    "\n",
    "\n",
    "def geometric_q():\n",
    "    return np.random.geometric(0.6)\n",
    "\n",
    "environ_dic['quantity_f']=geometric_q\n",
    "\n",
    "timer=CustomTimer(start=0,end=600,step=1/80)\n",
    "messenger=Messenger()\n",
    "\n",
    "environ_dic['timer']=timer\n",
    "environ_dic['messenger']=messenger\n",
    "\n",
    "environ_dic"
   ]
  },
  {
   "cell_type": "markdown",
   "metadata": {},
   "source": [
    "Next we define a RL trader. This has a parent type trader so shares all of the methods needed to intereact with BUCLSE. We will give it some initial inventory at a certain average cost."
   ]
  },
  {
   "cell_type": "code",
   "execution_count": 3,
   "metadata": {},
   "outputs": [
    {
     "name": "stdout",
     "output_type": "stream",
     "text": [
      "adding exchange to RL trader  RL\n"
     ]
    }
   ],
   "source": [
    "rl_trader=RLTrader( ttype='RL', tid='RL', n_quote_limit=100\n",
    "                   ,timer=timer,messenger=messenger)"
   ]
  },
  {
   "cell_type": "markdown",
   "metadata": {},
   "source": [
    "Next we instantiate the RL environment. This is a subclass of the openai gym gym.EnV\n",
    "This means it has render and step methods.\n",
    "\n",
    "The RL environment will set up a Market_session object, (and through that associated exchange, traders and supply_demand objects).\n",
    "\n",
    "The RL environment will actually iterate through a number of steps until the order book has depth = thresh on both sides"
   ]
  },
  {
   "cell_type": "code",
   "execution_count": 4,
   "metadata": {},
   "outputs": [
    {
     "name": "stdout",
     "output_type": "stream",
     "text": [
      "using timer start time=0, end time=600, instead\n",
      "overwriting timer step size from: 0.01 to 0.0125\n",
      "adding exchange to RL trader  RL\n"
     ]
    }
   ],
   "source": [
    "lobenv=RLEnv(RL_trader=rl_trader,environ_dic=environ_dic,thresh=4)\n"
   ]
  },
  {
   "cell_type": "markdown",
   "metadata": {},
   "source": [
    "check what time it is, the eperiment will only begin once the LOB has reached a depth greater than the defined threshold. "
   ]
  },
  {
   "cell_type": "code",
   "execution_count": 5,
   "metadata": {},
   "outputs": [
    {
     "data": {
      "text/plain": [
       "4.625"
      ]
     },
     "execution_count": 5,
     "metadata": {},
     "output_type": "execute_result"
    }
   ],
   "source": [
    "timer.time"
   ]
  },
  {
   "cell_type": "markdown",
   "metadata": {},
   "source": [
    "The render method returns the lob"
   ]
  },
  {
   "cell_type": "code",
   "execution_count": 6,
   "metadata": {},
   "outputs": [
    {
     "data": {
      "image/png": "[encoded data removed]",
      "text/plain": [
       "<Figure size 960x320 with 2 Axes>"
      ]
     },
     "metadata": {},
     "output_type": "display_data"
    },
    {
     "name": "stdout",
     "output_type": "stream",
     "text": [
      "                          tid     \n",
      "otype                     Ask  Bid\n",
      "price time   qid oid qty          \n",
      "69.0  4.6250 20  -38 1    NaN  B36\n",
      "78.0  4.4125 18  -41 2    NaN  B39\n",
      "81.0  3.8625 16  -20 1    NaN  B18\n",
      "84.0  3.9375 17  -36 1    NaN  B34\n",
      "95.0  3.6125 14  -57 1    S15  NaN\n",
      "99.0  4.6125 19  -69 3    S27  NaN\n",
      "105.0 3.0625 12  -81 1    S39  NaN\n",
      "108.0 3.0125 11  -64 2    S22  NaN\n",
      "116.0 2.8375 10  -73 1    S31  NaN\n"
     ]
    }
   ],
   "source": [
    "_=lobenv.render()"
   ]
  },
  {
   "cell_type": "markdown",
   "metadata": {},
   "source": [
    "Give the RL trader inventory priced at mid point"
   ]
  },
  {
   "cell_type": "code",
   "execution_count": 8,
   "metadata": {},
   "outputs": [
    {
     "name": "stdout",
     "output_type": "stream",
     "text": [
      "oid gen RL_13.325_1\n"
     ]
    },
    {
     "data": {
      "text/plain": [
       "inventory: 1, avg cost 96.0, direction Long, cash -96.0,"
      ]
     },
     "execution_count": 8,
     "metadata": {},
     "output_type": "execute_result"
    }
   ],
   "source": [
    "rl_trader.setup_initial_inventory('Buy',1,lobenv.best_ask)\n",
    "rl_trader.trade_manager"
   ]
  },
  {
   "cell_type": "code",
   "execution_count": 10,
   "metadata": {},
   "outputs": [
    {
     "data": {
      "image/png": "[encoded data removed]",
      "text/plain": [
       "<Figure size 960x320 with 2 Axes>"
      ]
     },
     "metadata": {},
     "output_type": "display_data"
    },
    {
     "name": "stdout",
     "output_type": "stream",
     "text": [
      "                           tid     \n",
      "otype                      Ask  Bid\n",
      "price time    qid oid qty          \n",
      "78.0  12.3875 93  -40 2    NaN  B38\n",
      "79.0  12.6625 96  -15 2    NaN  B13\n",
      "      13.3250 102 -33 1    NaN  B31\n",
      "80.0  13.0625 100 -21 1    NaN  B19\n",
      "96.0  10.9750 83  -48 1    S06  NaN\n",
      "100.0 12.4125 94  -66 1    S24  NaN\n",
      "101.0 12.7500 97  -80 1    S38  NaN\n",
      "114.0 9.0000  68  -70 2    S28  NaN\n",
      "      12.8125 98  -69 1    S27  NaN\n",
      "115.0 13.1500 101 -68 1    S26  NaN\n"
     ]
    }
   ],
   "source": [
    "_=lobenv.render()"
   ]
  },
  {
   "cell_type": "markdown",
   "metadata": {},
   "source": [
    "The RL trader at this point can now submit actions, see results and receive rewards though the step method."
   ]
  },
  {
   "cell_type": "code",
   "execution_count": 9,
   "metadata": {
    "scrolled": true
   },
   "outputs": [
    {
     "data": {
      "text/plain": [
       "{(0, 0, 0): Do nothing,\n",
       " (1, 0, 0): cancel Bid,\n",
       " (1, 1, -1): Cross bid-ask spread and fill Bid quantity 1 at best,\n",
       " (1, 1, 0):  submit or replace Bid with spread 0 and quantity 1,\n",
       " (1, 1, 1):  submit or replace Bid with spread 1 and quantity 1,\n",
       " (1, 1, 2):  submit or replace Bid with spread 2 and quantity 1,\n",
       " (1, 1, 3):  submit or replace Bid with spread 3 and quantity 1,\n",
       " (1, 1, 4):  submit or replace Bid with spread 4 and quantity 1,\n",
       " (1, 1, 5):  submit or replace Bid with spread 5 and quantity 1,\n",
       " (-1, 0, 0): cancel Ask,\n",
       " (-1, -1, -1): Cross bid-ask spread and fill Ask quantity 1 at best,\n",
       " (-1, -1, 0):  submit or replace Ask with spread 0 and quantity 1,\n",
       " (-1, -1, 1):  submit or replace Ask with spread 1 and quantity 1,\n",
       " (-1, -1, 2):  submit or replace Ask with spread 2 and quantity 1,\n",
       " (-1, -1, 3):  submit or replace Ask with spread 3 and quantity 1,\n",
       " (-1, -1, 4):  submit or replace Ask with spread 4 and quantity 1,\n",
       " (-1, -1, 5):  submit or replace Ask with spread 5 and quantity 1}"
      ]
     },
     "execution_count": 9,
     "metadata": {},
     "output_type": "execute_result"
    }
   ],
   "source": [
    "lobenv.action_dic"
   ]
  },
  {
   "cell_type": "markdown",
   "metadata": {},
   "source": [
    "Demonstrate how to submit an action with the standard step method. \n",
    "\n",
    "After the order is submitted to exchange, the timer is increased by one, and the traders in the environment have the opportunity to respond.\n",
    "\n",
    "Rewards and stopping criteria are calculated.\n",
    "\n",
    "The step function returns the state of the lob, reward and a boolean stopping variable."
   ]
  },
  {
   "cell_type": "code",
   "execution_count": 11,
   "metadata": {},
   "outputs": [
    {
     "name": "stdout",
     "output_type": "stream",
     "text": [
      "LOB before\n"
     ]
    },
    {
     "data": {
      "image/png": "[encoded data removed]",
      "text/plain": [
       "<Figure size 960x320 with 2 Axes>"
      ]
     },
     "metadata": {},
     "output_type": "display_data"
    },
    {
     "name": "stdout",
     "output_type": "stream",
     "text": [
      "                           tid     \n",
      "otype                      Ask  Bid\n",
      "price time    qid oid qty          \n",
      "78.0  12.3875 93  -40 2    NaN  B38\n",
      "79.0  12.6625 96  -15 2    NaN  B13\n",
      "      13.3250 102 -33 1    NaN  B31\n",
      "80.0  13.0625 100 -21 1    NaN  B19\n",
      "96.0  10.9750 83  -48 1    S06  NaN\n",
      "100.0 12.4125 94  -66 1    S24  NaN\n",
      "101.0 12.7500 97  -80 1    S38  NaN\n",
      "114.0 9.0000  68  -70 2    S28  NaN\n",
      "      12.8125 98  -69 1    S27  NaN\n",
      "115.0 13.1500 101 -68 1    S26  NaN\n",
      "{'bids': array([[False, False, False, ..., False, False, False],\n",
      "       [False, False, False, ..., False, False, False],\n",
      "       [False, False, False, ..., False, False, False],\n",
      "       ...,\n",
      "       [False, False, False, ..., False, False, False],\n",
      "       [False, False, False, ..., False, False, False],\n",
      "       [False, False, False, ..., False, False, False]]), 'asks': array([[False, False, False, ..., False, False, False],\n",
      "       [False, False, False, ..., False, False, False],\n",
      "       [False, False, False, ..., False, False, False],\n",
      "       ...,\n",
      "       [False, False, False, ..., False, False, False],\n",
      "       [False, False, False, ..., False, False, False],\n",
      "       [False, False, False, ..., False, False, False]]), 'long_inventory': array([[False, False, False, ..., False, False, False],\n",
      "       [False, False, False, ..., False, False, False],\n",
      "       [False, False, False, ..., False, False, False],\n",
      "       ...,\n",
      "       [False, False, False, ..., False, False, False],\n",
      "       [False, False, False, ..., False, False, False],\n",
      "       [False, False, False, ..., False, False, False]]), 'short_inventory': None, 'trader_bids': array([[False, False, False, ..., False, False, False],\n",
      "       [False, False, False, ..., False, False, False],\n",
      "       [False, False, False, ..., False, False, False],\n",
      "       ...,\n",
      "       [False, False, False, ..., False, False, False],\n",
      "       [False, False, False, ..., False, False, False],\n",
      "       [False, False, False, ..., False, False, False]]), 'trader_asks': array([[False, False, False, ..., False, False, False],\n",
      "       [False, False, False, ..., False, False, False],\n",
      "       [False, False, False, ..., False, False, False],\n",
      "       ...,\n",
      "       [False, False, False, ..., False, False, False],\n",
      "       [False, False, False, ..., False, False, False],\n",
      "       [False, False, False, ..., False, False, False]])}\n",
      "RL trader does action (1,0,1) which is to add a bid order at 0 spread to best bid for quantity 1\n",
      "oid gen RL_13.325_2\n",
      "add_order < response=Proceed (time,oid,qid) None\n",
      "LOB after\n"
     ]
    },
    {
     "data": {
      "image/png": "[encoded data removed]",
      "text/plain": [
       "<Figure size 960x320 with 2 Axes>"
      ]
     },
     "metadata": {},
     "output_type": "display_data"
    },
    {
     "name": "stdout",
     "output_type": "stream",
     "text": [
      "                                   tid     \n",
      "otype                              Ask  Bid\n",
      "price time    qid oid         qty          \n",
      "78.0  12.3875 93  -40         2    NaN  B38\n",
      "79.0  12.6625 96  -15         2    NaN  B13\n",
      "      13.3250 102 -33         1    NaN  B31\n",
      "80.0  13.0625 100 -21         1    NaN  B19\n",
      "      13.3250 103 RL_13.325_2 1    NaN   RL\n",
      "96.0  10.9750 83  -48         1    S06  NaN\n",
      "100.0 12.4125 94  -66         1    S24  NaN\n",
      "101.0 12.7500 97  -80         1    S38  NaN\n",
      "114.0 9.0000  68  -70         2    S28  NaN\n",
      "      12.8125 98  -69         1    S27  NaN\n",
      "115.0 13.1500 101 -68         1    S26  NaN\n",
      "{'bids': array([[False, False, False, ..., False, False, False],\n",
      "       [False, False, False, ..., False, False, False],\n",
      "       [False, False, False, ..., False, False, False],\n",
      "       ...,\n",
      "       [False, False, False, ..., False, False, False],\n",
      "       [False, False, False, ..., False, False, False],\n",
      "       [False, False, False, ..., False, False, False]]), 'asks': array([[False, False, False, ..., False, False, False],\n",
      "       [False, False, False, ..., False, False, False],\n",
      "       [False, False, False, ..., False, False, False],\n",
      "       ...,\n",
      "       [False, False, False, ..., False, False, False],\n",
      "       [False, False, False, ..., False, False, False],\n",
      "       [False, False, False, ..., False, False, False]]), 'long_inventory': array([[False, False, False, ..., False, False, False],\n",
      "       [False, False, False, ..., False, False, False],\n",
      "       [False, False, False, ..., False, False, False],\n",
      "       ...,\n",
      "       [False, False, False, ..., False, False, False],\n",
      "       [False, False, False, ..., False, False, False],\n",
      "       [False, False, False, ..., False, False, False]]), 'short_inventory': None, 'trader_bids': array([[False, False, False, ..., False, False, False],\n",
      "       [False, False, False, ..., False, False, False],\n",
      "       [False, False, False, ..., False, False, False],\n",
      "       ...,\n",
      "       [False, False, False, ..., False, False, False],\n",
      "       [False, False, False, ..., False, False, False],\n",
      "       [False, False, False, ..., False, False, False]]), 'trader_asks': array([[False, False, False, ..., False, False, False],\n",
      "       [False, False, False, ..., False, False, False],\n",
      "       [False, False, False, ..., False, False, False],\n",
      "       ...,\n",
      "       [False, False, False, ..., False, False, False],\n",
      "       [False, False, False, ..., False, False, False],\n",
      "       [False, False, False, ..., False, False, False]])}\n",
      "inventory: 1, avg cost 96.0, direction Long, cash -96.0,\n"
     ]
    }
   ],
   "source": [
    "lobenv.sess.process_verbose=True #turn on the verbal messages from the exchange for exposition\n",
    "print('LOB before')\n",
    "_=lobenv.render())\n",
    "\n",
    "print('RL trader does action (1,0,1) which is to add a bid order at 0 spread to best bid for quantity 1')\n",
    "observation,reward,done,_=lobenv.step((1,1,0)) \n",
    "print('LOB after')\n",
    "_=lobenv.render()\n",
    "print(lobenv.trader.trade_manager)"
   ]
  },
  {
   "cell_type": "markdown",
   "metadata": {},
   "source": [
    "observation is the state variable (here the public anonymous lob), reward is the reward received and done is a boolean informing whether the experiment has finished. \n",
    "\n",
    "To see what the reward and finishing functions are:"
   ]
  },
  {
   "cell_type": "code",
   "execution_count": 10,
   "metadata": {},
   "outputs": [
    {
     "data": {
      "text/html": [
       "<!DOCTYPE html PUBLIC \"-//W3C//DTD HTML 4.01//EN\"\n",
       "   \"http://www.w3.org/TR/html4/strict.dtd\">\n",
       "\n",
       "<html>\n",
       "<head>\n",
       "  <title></title>\n",
       "  <meta http-equiv=\"content-type\" content=\"text/html; charset=None\">\n",
       "  <style type=\"text/css\">\n",
       "td.linenos { background-color: #f0f0f0; padding-right: 10px; }\n",
       "span.lineno { background-color: #f0f0f0; padding: 0 5px 0 5px; }\n",
       "pre { line-height: 125%; }\n",
       "body .hll { background-color: #ffffcc }\n",
       "body  { background: #f8f8f8; }\n",
       "body .c { color: #408080; font-style: italic } /* Comment */\n",
       "body .err { border: 1px solid #FF0000 } /* Error */\n",
       "body .k { color: #008000; font-weight: bold } /* Keyword */\n",
       "body .o { color: #666666 } /* Operator */\n",
       "body .ch { color: #408080; font-style: italic } /* Comment.Hashbang */\n",
       "body .cm { color: #408080; font-style: italic } /* Comment.Multiline */\n",
       "body .cp { color: #BC7A00 } /* Comment.Preproc */\n",
       "body .cpf { color: #408080; font-style: italic } /* Comment.PreprocFile */\n",
       "body .c1 { color: #408080; font-style: italic } /* Comment.Single */\n",
       "body .cs { color: #408080; font-style: italic } /* Comment.Special */\n",
       "body .gd { color: #A00000 } /* Generic.Deleted */\n",
       "body .ge { font-style: italic } /* Generic.Emph */\n",
       "body .gr { color: #FF0000 } /* Generic.Error */\n",
       "body .gh { color: #000080; font-weight: bold } /* Generic.Heading */\n",
       "body .gi { color: #00A000 } /* Generic.Inserted */\n",
       "body .go { color: #888888 } /* Generic.Output */\n",
       "body .gp { color: #000080; font-weight: bold } /* Generic.Prompt */\n",
       "body .gs { font-weight: bold } /* Generic.Strong */\n",
       "body .gu { color: #800080; font-weight: bold } /* Generic.Subheading */\n",
       "body .gt { color: #0044DD } /* Generic.Traceback */\n",
       "body .kc { color: #008000; font-weight: bold } /* Keyword.Constant */\n",
       "body .kd { color: #008000; font-weight: bold } /* Keyword.Declaration */\n",
       "body .kn { color: #008000; font-weight: bold } /* Keyword.Namespace */\n",
       "body .kp { color: #008000 } /* Keyword.Pseudo */\n",
       "body .kr { color: #008000; font-weight: bold } /* Keyword.Reserved */\n",
       "body .kt { color: #B00040 } /* Keyword.Type */\n",
       "body .m { color: #666666 } /* Literal.Number */\n",
       "body .s { color: #BA2121 } /* Literal.String */\n",
       "body .na { color: #7D9029 } /* Name.Attribute */\n",
       "body .nb { color: #008000 } /* Name.Builtin */\n",
       "body .nc { color: #0000FF; font-weight: bold } /* Name.Class */\n",
       "body .no { color: #880000 } /* Name.Constant */\n",
       "body .nd { color: #AA22FF } /* Name.Decorator */\n",
       "body .ni { color: #999999; font-weight: bold } /* Name.Entity */\n",
       "body .ne { color: #D2413A; font-weight: bold } /* Name.Exception */\n",
       "body .nf { color: #0000FF } /* Name.Function */\n",
       "body .nl { color: #A0A000 } /* Name.Label */\n",
       "body .nn { color: #0000FF; font-weight: bold } /* Name.Namespace */\n",
       "body .nt { color: #008000; font-weight: bold } /* Name.Tag */\n",
       "body .nv { color: #19177C } /* Name.Variable */\n",
       "body .ow { color: #AA22FF; font-weight: bold } /* Operator.Word */\n",
       "body .w { color: #bbbbbb } /* Text.Whitespace */\n",
       "body .mb { color: #666666 } /* Literal.Number.Bin */\n",
       "body .mf { color: #666666 } /* Literal.Number.Float */\n",
       "body .mh { color: #666666 } /* Literal.Number.Hex */\n",
       "body .mi { color: #666666 } /* Literal.Number.Integer */\n",
       "body .mo { color: #666666 } /* Literal.Number.Oct */\n",
       "body .sa { color: #BA2121 } /* Literal.String.Affix */\n",
       "body .sb { color: #BA2121 } /* Literal.String.Backtick */\n",
       "body .sc { color: #BA2121 } /* Literal.String.Char */\n",
       "body .dl { color: #BA2121 } /* Literal.String.Delimiter */\n",
       "body .sd { color: #BA2121; font-style: italic } /* Literal.String.Doc */\n",
       "body .s2 { color: #BA2121 } /* Literal.String.Double */\n",
       "body .se { color: #BB6622; font-weight: bold } /* Literal.String.Escape */\n",
       "body .sh { color: #BA2121 } /* Literal.String.Heredoc */\n",
       "body .si { color: #BB6688; font-weight: bold } /* Literal.String.Interpol */\n",
       "body .sx { color: #008000 } /* Literal.String.Other */\n",
       "body .sr { color: #BB6688 } /* Literal.String.Regex */\n",
       "body .s1 { color: #BA2121 } /* Literal.String.Single */\n",
       "body .ss { color: #19177C } /* Literal.String.Symbol */\n",
       "body .bp { color: #008000 } /* Name.Builtin.Pseudo */\n",
       "body .fm { color: #0000FF } /* Name.Function.Magic */\n",
       "body .vc { color: #19177C } /* Name.Variable.Class */\n",
       "body .vg { color: #19177C } /* Name.Variable.Global */\n",
       "body .vi { color: #19177C } /* Name.Variable.Instance */\n",
       "body .vm { color: #19177C } /* Name.Variable.Magic */\n",
       "body .il { color: #666666 } /* Literal.Number.Integer.Long */\n",
       "\n",
       "  </style>\n",
       "</head>\n",
       "<body>\n",
       "<h2></h2>\n",
       "\n",
       "<div class=\"highlight\"><pre><span></span>\t<span class=\"k\">def</span> <span class=\"nf\">stop_checker</span><span class=\"p\">(</span><span class=\"bp\">self</span><span class=\"p\">):</span>\n",
       "\t\t<span class=\"n\">stop</span><span class=\"o\">=</span><span class=\"bp\">False</span>\n",
       "\n",
       "\t\t<span class=\"k\">if</span> <span class=\"bp\">self</span><span class=\"o\">.</span><span class=\"n\">trader</span><span class=\"o\">.</span><span class=\"n\">inventory</span><span class=\"o\">&gt;</span><span class=\"bp\">self</span><span class=\"o\">.</span><span class=\"n\">inventory_limit</span><span class=\"p\">:</span> \n",
       "\t\t\t<span class=\"k\">return</span> <span class=\"bp\">True</span>\n",
       "\t\t<span class=\"k\">elif</span> <span class=\"bp\">self</span><span class=\"o\">.</span><span class=\"n\">period_count</span><span class=\"o\">&gt;</span><span class=\"bp\">self</span><span class=\"o\">.</span><span class=\"n\">time_limit</span><span class=\"p\">:</span>\n",
       "\t\t\t<span class=\"k\">return</span> <span class=\"bp\">True</span>\n",
       "\t\t<span class=\"k\">elif</span> <span class=\"bp\">self</span><span class=\"o\">.</span><span class=\"n\">trader</span><span class=\"o\">.</span><span class=\"n\">inventory</span><span class=\"o\">==</span><span class=\"mi\">0</span> <span class=\"ow\">and</span> <span class=\"bp\">self</span><span class=\"o\">.</span><span class=\"n\">trader</span><span class=\"o\">.</span><span class=\"n\">n_quotes</span><span class=\"o\">==</span><span class=\"mi\">0</span><span class=\"p\">:</span>\n",
       "\t\t\t<span class=\"c1\">#a trade has been completed</span>\n",
       "\t\t\t<span class=\"k\">return</span> <span class=\"bp\">True</span>\n",
       "\t\t<span class=\"k\">else</span><span class=\"p\">:</span>    \n",
       "\t\t\t<span class=\"k\">return</span> <span class=\"n\">stop</span>\n",
       "</pre></div>\n",
       "</body>\n",
       "</html>\n"
      ],
      "text/plain": [
       "<IPython.core.display.HTML object>"
      ]
     },
     "execution_count": 10,
     "metadata": {},
     "output_type": "execute_result"
    }
   ],
   "source": [
    "display_func('UCLSE.rl_env.RLEnv','stop_checker')"
   ]
  },
  {
   "cell_type": "markdown",
   "metadata": {},
   "source": [
    "This will end when the inventory is greater than a limit, time has expired or the trader has no inventory and no open orders at exchange."
   ]
  },
  {
   "cell_type": "code",
   "execution_count": 11,
   "metadata": {},
   "outputs": [
    {
     "data": {
      "text/html": [
       "<!DOCTYPE html PUBLIC \"-//W3C//DTD HTML 4.01//EN\"\n",
       "   \"http://www.w3.org/TR/html4/strict.dtd\">\n",
       "\n",
       "<html>\n",
       "<head>\n",
       "  <title></title>\n",
       "  <meta http-equiv=\"content-type\" content=\"text/html; charset=None\">\n",
       "  <style type=\"text/css\">\n",
       "td.linenos { background-color: #f0f0f0; padding-right: 10px; }\n",
       "span.lineno { background-color: #f0f0f0; padding: 0 5px 0 5px; }\n",
       "pre { line-height: 125%; }\n",
       "body .hll { background-color: #ffffcc }\n",
       "body  { background: #f8f8f8; }\n",
       "body .c { color: #408080; font-style: italic } /* Comment */\n",
       "body .err { border: 1px solid #FF0000 } /* Error */\n",
       "body .k { color: #008000; font-weight: bold } /* Keyword */\n",
       "body .o { color: #666666 } /* Operator */\n",
       "body .ch { color: #408080; font-style: italic } /* Comment.Hashbang */\n",
       "body .cm { color: #408080; font-style: italic } /* Comment.Multiline */\n",
       "body .cp { color: #BC7A00 } /* Comment.Preproc */\n",
       "body .cpf { color: #408080; font-style: italic } /* Comment.PreprocFile */\n",
       "body .c1 { color: #408080; font-style: italic } /* Comment.Single */\n",
       "body .cs { color: #408080; font-style: italic } /* Comment.Special */\n",
       "body .gd { color: #A00000 } /* Generic.Deleted */\n",
       "body .ge { font-style: italic } /* Generic.Emph */\n",
       "body .gr { color: #FF0000 } /* Generic.Error */\n",
       "body .gh { color: #000080; font-weight: bold } /* Generic.Heading */\n",
       "body .gi { color: #00A000 } /* Generic.Inserted */\n",
       "body .go { color: #888888 } /* Generic.Output */\n",
       "body .gp { color: #000080; font-weight: bold } /* Generic.Prompt */\n",
       "body .gs { font-weight: bold } /* Generic.Strong */\n",
       "body .gu { color: #800080; font-weight: bold } /* Generic.Subheading */\n",
       "body .gt { color: #0044DD } /* Generic.Traceback */\n",
       "body .kc { color: #008000; font-weight: bold } /* Keyword.Constant */\n",
       "body .kd { color: #008000; font-weight: bold } /* Keyword.Declaration */\n",
       "body .kn { color: #008000; font-weight: bold } /* Keyword.Namespace */\n",
       "body .kp { color: #008000 } /* Keyword.Pseudo */\n",
       "body .kr { color: #008000; font-weight: bold } /* Keyword.Reserved */\n",
       "body .kt { color: #B00040 } /* Keyword.Type */\n",
       "body .m { color: #666666 } /* Literal.Number */\n",
       "body .s { color: #BA2121 } /* Literal.String */\n",
       "body .na { color: #7D9029 } /* Name.Attribute */\n",
       "body .nb { color: #008000 } /* Name.Builtin */\n",
       "body .nc { color: #0000FF; font-weight: bold } /* Name.Class */\n",
       "body .no { color: #880000 } /* Name.Constant */\n",
       "body .nd { color: #AA22FF } /* Name.Decorator */\n",
       "body .ni { color: #999999; font-weight: bold } /* Name.Entity */\n",
       "body .ne { color: #D2413A; font-weight: bold } /* Name.Exception */\n",
       "body .nf { color: #0000FF } /* Name.Function */\n",
       "body .nl { color: #A0A000 } /* Name.Label */\n",
       "body .nn { color: #0000FF; font-weight: bold } /* Name.Namespace */\n",
       "body .nt { color: #008000; font-weight: bold } /* Name.Tag */\n",
       "body .nv { color: #19177C } /* Name.Variable */\n",
       "body .ow { color: #AA22FF; font-weight: bold } /* Operator.Word */\n",
       "body .w { color: #bbbbbb } /* Text.Whitespace */\n",
       "body .mb { color: #666666 } /* Literal.Number.Bin */\n",
       "body .mf { color: #666666 } /* Literal.Number.Float */\n",
       "body .mh { color: #666666 } /* Literal.Number.Hex */\n",
       "body .mi { color: #666666 } /* Literal.Number.Integer */\n",
       "body .mo { color: #666666 } /* Literal.Number.Oct */\n",
       "body .sa { color: #BA2121 } /* Literal.String.Affix */\n",
       "body .sb { color: #BA2121 } /* Literal.String.Backtick */\n",
       "body .sc { color: #BA2121 } /* Literal.String.Char */\n",
       "body .dl { color: #BA2121 } /* Literal.String.Delimiter */\n",
       "body .sd { color: #BA2121; font-style: italic } /* Literal.String.Doc */\n",
       "body .s2 { color: #BA2121 } /* Literal.String.Double */\n",
       "body .se { color: #BB6622; font-weight: bold } /* Literal.String.Escape */\n",
       "body .sh { color: #BA2121 } /* Literal.String.Heredoc */\n",
       "body .si { color: #BB6688; font-weight: bold } /* Literal.String.Interpol */\n",
       "body .sx { color: #008000 } /* Literal.String.Other */\n",
       "body .sr { color: #BB6688 } /* Literal.String.Regex */\n",
       "body .s1 { color: #BA2121 } /* Literal.String.Single */\n",
       "body .ss { color: #19177C } /* Literal.String.Symbol */\n",
       "body .bp { color: #008000 } /* Name.Builtin.Pseudo */\n",
       "body .fm { color: #0000FF } /* Name.Function.Magic */\n",
       "body .vc { color: #19177C } /* Name.Variable.Class */\n",
       "body .vg { color: #19177C } /* Name.Variable.Global */\n",
       "body .vi { color: #19177C } /* Name.Variable.Instance */\n",
       "body .vm { color: #19177C } /* Name.Variable.Magic */\n",
       "body .il { color: #666666 } /* Literal.Number.Integer.Long */\n",
       "\n",
       "  </style>\n",
       "</head>\n",
       "<body>\n",
       "<h2></h2>\n",
       "\n",
       "<div class=\"highlight\"><pre><span></span>\t<span class=\"k\">def</span> <span class=\"nf\">reward_get</span><span class=\"p\">(</span><span class=\"bp\">self</span><span class=\"p\">):</span>\n",
       "\t\t\t\t\n",
       "\t\t<span class=\"k\">if</span> <span class=\"bp\">self</span><span class=\"o\">.</span><span class=\"n\">trader</span><span class=\"o\">.</span><span class=\"n\">inventory</span><span class=\"o\">==</span><span class=\"mi\">0</span> <span class=\"ow\">and</span> <span class=\"bp\">self</span><span class=\"o\">.</span><span class=\"n\">trader</span><span class=\"o\">.</span><span class=\"n\">balance</span><span class=\"o\">&gt;</span><span class=\"mi\">0</span> <span class=\"ow\">and</span> <span class=\"bp\">self</span><span class=\"o\">.</span><span class=\"n\">trader</span><span class=\"o\">.</span><span class=\"n\">n_quotes</span><span class=\"o\">==</span><span class=\"mi\">0</span><span class=\"p\">:</span>\n",
       "\t\t\t<span class=\"n\">reward</span><span class=\"o\">=</span><span class=\"mi\">1</span>\n",
       "\t\t<span class=\"k\">else</span><span class=\"p\">:</span>\n",
       "\t\t\t<span class=\"n\">reward</span><span class=\"o\">=-</span><span class=\"mi\">1</span>\n",
       "\t\t\n",
       "\t\t<span class=\"k\">return</span> <span class=\"n\">reward</span>\n",
       "</pre></div>\n",
       "</body>\n",
       "</html>\n"
      ],
      "text/plain": [
       "<IPython.core.display.HTML object>"
      ]
     },
     "execution_count": 11,
     "metadata": {},
     "output_type": "execute_result"
    }
   ],
   "source": [
    "display_func('UCLSE.rl_env.RLEnv','reward_get')"
   ]
  },
  {
   "cell_type": "markdown",
   "metadata": {},
   "source": [
    "Reward is positive if there is no inventory, no quotes and a positive cash balance, else reward is negative."
   ]
  },
  {
   "cell_type": "markdown",
   "metadata": {},
   "source": [
    "Check the last few changes happening at exchange"
   ]
  },
  {
   "cell_type": "code",
   "execution_count": 12,
   "metadata": {},
   "outputs": [
    {
     "data": {
      "text/html": [
       "<div>\n",
       "<style scoped>\n",
       "    .dataframe tbody tr th:only-of-type {\n",
       "        vertical-align: middle;\n",
       "    }\n",
       "\n",
       "    .dataframe tbody tr th {\n",
       "        vertical-align: top;\n",
       "    }\n",
       "\n",
       "    .dataframe thead th {\n",
       "        text-align: right;\n",
       "    }\n",
       "</style>\n",
       "<table border=\"1\" class=\"dataframe\">\n",
       "  <thead>\n",
       "    <tr style=\"text-align: right;\">\n",
       "      <th></th>\n",
       "      <th>oid</th>\n",
       "      <th>otype</th>\n",
       "      <th>p1_qid</th>\n",
       "      <th>p2_qid</th>\n",
       "      <th>party1</th>\n",
       "      <th>party2</th>\n",
       "      <th>price</th>\n",
       "      <th>qid</th>\n",
       "      <th>qty</th>\n",
       "      <th>tape_time</th>\n",
       "      <th>tid</th>\n",
       "      <th>time</th>\n",
       "      <th>type</th>\n",
       "    </tr>\n",
       "  </thead>\n",
       "  <tbody>\n",
       "    <tr>\n",
       "      <th>112</th>\n",
       "      <td>-64</td>\n",
       "      <td>Ask</td>\n",
       "      <td>NaN</td>\n",
       "      <td>NaN</td>\n",
       "      <td>NaN</td>\n",
       "      <td>NaN</td>\n",
       "      <td>104.0</td>\n",
       "      <td>63.0</td>\n",
       "      <td>1</td>\n",
       "      <td>8.825</td>\n",
       "      <td>S22</td>\n",
       "      <td>8.8250</td>\n",
       "      <td>New Order</td>\n",
       "    </tr>\n",
       "    <tr>\n",
       "      <th>113</th>\n",
       "      <td>-33</td>\n",
       "      <td>Bid</td>\n",
       "      <td>NaN</td>\n",
       "      <td>NaN</td>\n",
       "      <td>NaN</td>\n",
       "      <td>NaN</td>\n",
       "      <td>82.0</td>\n",
       "      <td>58.0</td>\n",
       "      <td>1</td>\n",
       "      <td>8.875</td>\n",
       "      <td>B31</td>\n",
       "      <td>8.7375</td>\n",
       "      <td>Cancel</td>\n",
       "    </tr>\n",
       "    <tr>\n",
       "      <th>114</th>\n",
       "      <td>-33</td>\n",
       "      <td>Bid</td>\n",
       "      <td>NaN</td>\n",
       "      <td>NaN</td>\n",
       "      <td>NaN</td>\n",
       "      <td>NaN</td>\n",
       "      <td>82.0</td>\n",
       "      <td>64.0</td>\n",
       "      <td>1</td>\n",
       "      <td>8.875</td>\n",
       "      <td>B31</td>\n",
       "      <td>8.8750</td>\n",
       "      <td>New Order</td>\n",
       "    </tr>\n",
       "    <tr>\n",
       "      <th>115</th>\n",
       "      <td>-21</td>\n",
       "      <td>Bid</td>\n",
       "      <td>NaN</td>\n",
       "      <td>NaN</td>\n",
       "      <td>NaN</td>\n",
       "      <td>NaN</td>\n",
       "      <td>94.0</td>\n",
       "      <td>65.0</td>\n",
       "      <td>1</td>\n",
       "      <td>8.900</td>\n",
       "      <td>B19</td>\n",
       "      <td>8.9000</td>\n",
       "      <td>New Order</td>\n",
       "    </tr>\n",
       "    <tr>\n",
       "      <th>116</th>\n",
       "      <td>RL_8.9_2</td>\n",
       "      <td>Bid</td>\n",
       "      <td>NaN</td>\n",
       "      <td>NaN</td>\n",
       "      <td>NaN</td>\n",
       "      <td>NaN</td>\n",
       "      <td>94.0</td>\n",
       "      <td>66.0</td>\n",
       "      <td>1</td>\n",
       "      <td>8.900</td>\n",
       "      <td>RL</td>\n",
       "      <td>8.9000</td>\n",
       "      <td>New Order</td>\n",
       "    </tr>\n",
       "  </tbody>\n",
       "</table>\n",
       "</div>"
      ],
      "text/plain": [
       "          oid otype  p1_qid  p2_qid party1 party2  price   qid  qty  \\\n",
       "112       -64   Ask     NaN     NaN    NaN    NaN  104.0  63.0    1   \n",
       "113       -33   Bid     NaN     NaN    NaN    NaN   82.0  58.0    1   \n",
       "114       -33   Bid     NaN     NaN    NaN    NaN   82.0  64.0    1   \n",
       "115       -21   Bid     NaN     NaN    NaN    NaN   94.0  65.0    1   \n",
       "116  RL_8.9_2   Bid     NaN     NaN    NaN    NaN   94.0  66.0    1   \n",
       "\n",
       "     tape_time  tid    time       type  \n",
       "112      8.825  S22  8.8250  New Order  \n",
       "113      8.875  B31  8.7375     Cancel  \n",
       "114      8.875  B31  8.8750  New Order  \n",
       "115      8.900  B19  8.9000  New Order  \n",
       "116      8.900   RL  8.9000  New Order  "
      ]
     },
     "execution_count": 12,
     "metadata": {},
     "output_type": "execute_result"
    }
   ],
   "source": [
    "pd.DataFrame(lobenv.sess.exchange.tape).tail(5)"
   ]
  },
  {
   "cell_type": "markdown",
   "metadata": {},
   "source": [
    "Cancel the order with action (-1,0,0). RL trader not on LOB anymore"
   ]
  },
  {
   "cell_type": "code",
   "execution_count": 13,
   "metadata": {},
   "outputs": [
    {
     "data": {
      "image/png": "[encoded data removed]",
      "text/plain": [
       "<Figure size 960x320 with 2 Axes>"
      ]
     },
     "metadata": {},
     "output_type": "display_data"
    },
    {
     "name": "stdout",
     "output_type": "stream",
     "text": [
      "                           tid     \n",
      "otype                      Ask  Bid\n",
      "price time    qid oid qty          \n",
      "78.0  12.3875 93  -40 2    NaN  B38\n",
      "79.0  12.6625 96  -15 2    NaN  B13\n",
      "      13.3250 102 -33 1    NaN  B31\n",
      "80.0  13.0625 100 -21 1    NaN  B19\n",
      "96.0  10.9750 83  -48 1    S06  NaN\n",
      "100.0 12.4125 94  -66 1    S24  NaN\n",
      "101.0 12.7500 97  -80 1    S38  NaN\n",
      "114.0 9.0000  68  -70 2    S28  NaN\n",
      "      12.8125 98  -69 1    S27  NaN\n",
      "115.0 13.1500 101 -68 1    S26  NaN\n"
     ]
    }
   ],
   "source": [
    "_,reward,done,_=lobenv.step((1,0,0))\n",
    "_=lobenv.render()"
   ]
  },
  {
   "cell_type": "code",
   "execution_count": 14,
   "metadata": {
    "scrolled": true
   },
   "outputs": [
    {
     "data": {
      "text/html": [
       "<div>\n",
       "<style scoped>\n",
       "    .dataframe tbody tr th:only-of-type {\n",
       "        vertical-align: middle;\n",
       "    }\n",
       "\n",
       "    .dataframe tbody tr th {\n",
       "        vertical-align: top;\n",
       "    }\n",
       "\n",
       "    .dataframe thead th {\n",
       "        text-align: right;\n",
       "    }\n",
       "</style>\n",
       "<table border=\"1\" class=\"dataframe\">\n",
       "  <thead>\n",
       "    <tr style=\"text-align: right;\">\n",
       "      <th></th>\n",
       "      <th>oid</th>\n",
       "      <th>otype</th>\n",
       "      <th>p1_qid</th>\n",
       "      <th>p2_qid</th>\n",
       "      <th>party1</th>\n",
       "      <th>party2</th>\n",
       "      <th>price</th>\n",
       "      <th>qid</th>\n",
       "      <th>qty</th>\n",
       "      <th>tape_time</th>\n",
       "      <th>tid</th>\n",
       "      <th>time</th>\n",
       "      <th>type</th>\n",
       "    </tr>\n",
       "  </thead>\n",
       "  <tbody>\n",
       "    <tr>\n",
       "      <th>113</th>\n",
       "      <td>-33</td>\n",
       "      <td>Bid</td>\n",
       "      <td>NaN</td>\n",
       "      <td>NaN</td>\n",
       "      <td>NaN</td>\n",
       "      <td>NaN</td>\n",
       "      <td>82.0</td>\n",
       "      <td>58.0</td>\n",
       "      <td>1</td>\n",
       "      <td>8.8750</td>\n",
       "      <td>B31</td>\n",
       "      <td>8.7375</td>\n",
       "      <td>Cancel</td>\n",
       "    </tr>\n",
       "    <tr>\n",
       "      <th>114</th>\n",
       "      <td>-33</td>\n",
       "      <td>Bid</td>\n",
       "      <td>NaN</td>\n",
       "      <td>NaN</td>\n",
       "      <td>NaN</td>\n",
       "      <td>NaN</td>\n",
       "      <td>82.0</td>\n",
       "      <td>64.0</td>\n",
       "      <td>1</td>\n",
       "      <td>8.8750</td>\n",
       "      <td>B31</td>\n",
       "      <td>8.8750</td>\n",
       "      <td>New Order</td>\n",
       "    </tr>\n",
       "    <tr>\n",
       "      <th>115</th>\n",
       "      <td>-21</td>\n",
       "      <td>Bid</td>\n",
       "      <td>NaN</td>\n",
       "      <td>NaN</td>\n",
       "      <td>NaN</td>\n",
       "      <td>NaN</td>\n",
       "      <td>94.0</td>\n",
       "      <td>65.0</td>\n",
       "      <td>1</td>\n",
       "      <td>8.9000</td>\n",
       "      <td>B19</td>\n",
       "      <td>8.9000</td>\n",
       "      <td>New Order</td>\n",
       "    </tr>\n",
       "    <tr>\n",
       "      <th>116</th>\n",
       "      <td>RL_8.9_2</td>\n",
       "      <td>Bid</td>\n",
       "      <td>NaN</td>\n",
       "      <td>NaN</td>\n",
       "      <td>NaN</td>\n",
       "      <td>NaN</td>\n",
       "      <td>94.0</td>\n",
       "      <td>66.0</td>\n",
       "      <td>1</td>\n",
       "      <td>8.9000</td>\n",
       "      <td>RL</td>\n",
       "      <td>8.9000</td>\n",
       "      <td>New Order</td>\n",
       "    </tr>\n",
       "    <tr>\n",
       "      <th>117</th>\n",
       "      <td>RL_8.9_2</td>\n",
       "      <td>Bid</td>\n",
       "      <td>NaN</td>\n",
       "      <td>NaN</td>\n",
       "      <td>NaN</td>\n",
       "      <td>NaN</td>\n",
       "      <td>94.0</td>\n",
       "      <td>66.0</td>\n",
       "      <td>1</td>\n",
       "      <td>8.9125</td>\n",
       "      <td>RL</td>\n",
       "      <td>8.9000</td>\n",
       "      <td>Cancel</td>\n",
       "    </tr>\n",
       "  </tbody>\n",
       "</table>\n",
       "</div>"
      ],
      "text/plain": [
       "          oid otype  p1_qid  p2_qid party1 party2  price   qid  qty  \\\n",
       "113       -33   Bid     NaN     NaN    NaN    NaN   82.0  58.0    1   \n",
       "114       -33   Bid     NaN     NaN    NaN    NaN   82.0  64.0    1   \n",
       "115       -21   Bid     NaN     NaN    NaN    NaN   94.0  65.0    1   \n",
       "116  RL_8.9_2   Bid     NaN     NaN    NaN    NaN   94.0  66.0    1   \n",
       "117  RL_8.9_2   Bid     NaN     NaN    NaN    NaN   94.0  66.0    1   \n",
       "\n",
       "     tape_time  tid    time       type  \n",
       "113     8.8750  B31  8.7375     Cancel  \n",
       "114     8.8750  B31  8.8750  New Order  \n",
       "115     8.9000  B19  8.9000  New Order  \n",
       "116     8.9000   RL  8.9000  New Order  \n",
       "117     8.9125   RL  8.9000     Cancel  "
      ]
     },
     "execution_count": 14,
     "metadata": {},
     "output_type": "execute_result"
    }
   ],
   "source": [
    "pd.DataFrame(lobenv.sess.exchange.tape).tail(5)"
   ]
  },
  {
   "cell_type": "markdown",
   "metadata": {},
   "source": [
    "Buy at best bid. Note that this will end the experiment since the inventory limit is 1."
   ]
  },
  {
   "cell_type": "code",
   "execution_count": 15,
   "metadata": {},
   "outputs": [
    {
     "name": "stdout",
     "output_type": "stream",
     "text": [
      "oid gen RL_13.375_4\n",
      "add_order < response=Proceed (time,oid,qid) None\n",
      "<RLEnv instance>\n",
      "inventory: 3, avg cost 97.3333, direction Long, cash -292.0,\n",
      "reward:-1,finished: True\n"
     ]
    },
    {
     "data": {
      "image/png": "[encoded data removed]",
      "text/plain": [
       "<Figure size 960x320 with 2 Axes>"
      ]
     },
     "metadata": {},
     "output_type": "display_data"
    },
    {
     "name": "stdout",
     "output_type": "stream",
     "text": [
      "                           tid     \n",
      "otype                      Ask  Bid\n",
      "price time    qid oid qty          \n",
      "78    12.3875 93  -40 2    NaN  B38\n",
      "79    13.3250 102 -33 1    NaN  B31\n",
      "80    13.0625 100 -21 1    NaN  B19\n",
      "81    13.3750 105 -15 2    NaN  B13\n",
      "101   12.7500 97  -80 1    S38  NaN\n",
      "114   9.0000  68  -70 2    S28  NaN\n",
      "      12.8125 98  -69 1    S27  NaN\n",
      "115   13.1500 101 -68 1    S26  NaN\n"
     ]
    }
   ],
   "source": [
    "_,reward,done,_=lobenv.step((1,1,-1))\n",
    "\n",
    "print(lobenv)\n",
    "print(lobenv.trader.trade_manager)\n",
    "print(f'reward:{reward},finished: {done}')\n",
    "_=lobenv.render()"
   ]
  },
  {
   "cell_type": "code",
   "execution_count": 26,
   "metadata": {},
   "outputs": [
    {
     "data": {
      "text/html": [
       "<div>\n",
       "<style scoped>\n",
       "    .dataframe tbody tr th:only-of-type {\n",
       "        vertical-align: middle;\n",
       "    }\n",
       "\n",
       "    .dataframe tbody tr th {\n",
       "        vertical-align: top;\n",
       "    }\n",
       "\n",
       "    .dataframe thead th {\n",
       "        text-align: right;\n",
       "    }\n",
       "</style>\n",
       "<table border=\"1\" class=\"dataframe\">\n",
       "  <thead>\n",
       "    <tr style=\"text-align: right;\">\n",
       "      <th></th>\n",
       "      <th>oid</th>\n",
       "      <th>otype</th>\n",
       "      <th>p1_qid</th>\n",
       "      <th>p2_qid</th>\n",
       "      <th>party1</th>\n",
       "      <th>party2</th>\n",
       "      <th>price</th>\n",
       "      <th>qid</th>\n",
       "      <th>qty</th>\n",
       "      <th>tape_time</th>\n",
       "      <th>tid</th>\n",
       "      <th>time</th>\n",
       "      <th>type</th>\n",
       "    </tr>\n",
       "  </thead>\n",
       "  <tbody>\n",
       "    <tr>\n",
       "      <th>126</th>\n",
       "      <td>None</td>\n",
       "      <td>Ask</td>\n",
       "      <td>NaN</td>\n",
       "      <td>NaN</td>\n",
       "      <td>NaN</td>\n",
       "      <td>NaN</td>\n",
       "      <td>95.0</td>\n",
       "      <td>45.0</td>\n",
       "      <td>1</td>\n",
       "      <td>8.9625</td>\n",
       "      <td>S10</td>\n",
       "      <td>7.5750</td>\n",
       "      <td>Fill</td>\n",
       "    </tr>\n",
       "    <tr>\n",
       "      <th>127</th>\n",
       "      <td>None</td>\n",
       "      <td>Bid</td>\n",
       "      <td>NaN</td>\n",
       "      <td>NaN</td>\n",
       "      <td>NaN</td>\n",
       "      <td>NaN</td>\n",
       "      <td>95.0</td>\n",
       "      <td>70.0</td>\n",
       "      <td>1</td>\n",
       "      <td>8.9625</td>\n",
       "      <td>RL</td>\n",
       "      <td>8.9625</td>\n",
       "      <td>Fill</td>\n",
       "    </tr>\n",
       "    <tr>\n",
       "      <th>128</th>\n",
       "      <td>NaN</td>\n",
       "      <td>NaN</td>\n",
       "      <td>45.0</td>\n",
       "      <td>70.0</td>\n",
       "      <td>S10</td>\n",
       "      <td>RL</td>\n",
       "      <td>95.0</td>\n",
       "      <td>NaN</td>\n",
       "      <td>1</td>\n",
       "      <td>8.9625</td>\n",
       "      <td>NaN</td>\n",
       "      <td>NaN</td>\n",
       "      <td>Trade</td>\n",
       "    </tr>\n",
       "    <tr>\n",
       "      <th>129</th>\n",
       "      <td>-64</td>\n",
       "      <td>Ask</td>\n",
       "      <td>NaN</td>\n",
       "      <td>NaN</td>\n",
       "      <td>NaN</td>\n",
       "      <td>NaN</td>\n",
       "      <td>104.0</td>\n",
       "      <td>63.0</td>\n",
       "      <td>1</td>\n",
       "      <td>8.9750</td>\n",
       "      <td>S22</td>\n",
       "      <td>8.8250</td>\n",
       "      <td>Cancel</td>\n",
       "    </tr>\n",
       "    <tr>\n",
       "      <th>130</th>\n",
       "      <td>-64</td>\n",
       "      <td>Ask</td>\n",
       "      <td>NaN</td>\n",
       "      <td>NaN</td>\n",
       "      <td>NaN</td>\n",
       "      <td>NaN</td>\n",
       "      <td>104.0</td>\n",
       "      <td>71.0</td>\n",
       "      <td>1</td>\n",
       "      <td>8.9750</td>\n",
       "      <td>S22</td>\n",
       "      <td>8.9750</td>\n",
       "      <td>New Order</td>\n",
       "    </tr>\n",
       "  </tbody>\n",
       "</table>\n",
       "</div>"
      ],
      "text/plain": [
       "      oid otype  p1_qid  p2_qid party1 party2  price   qid  qty  tape_time  \\\n",
       "126  None   Ask     NaN     NaN    NaN    NaN   95.0  45.0    1     8.9625   \n",
       "127  None   Bid     NaN     NaN    NaN    NaN   95.0  70.0    1     8.9625   \n",
       "128   NaN   NaN    45.0    70.0    S10     RL   95.0   NaN    1     8.9625   \n",
       "129   -64   Ask     NaN     NaN    NaN    NaN  104.0  63.0    1     8.9750   \n",
       "130   -64   Ask     NaN     NaN    NaN    NaN  104.0  71.0    1     8.9750   \n",
       "\n",
       "     tid    time       type  \n",
       "126  S10  7.5750       Fill  \n",
       "127   RL  8.9625       Fill  \n",
       "128  NaN     NaN      Trade  \n",
       "129  S22  8.8250     Cancel  \n",
       "130  S22  8.9750  New Order  "
      ]
     },
     "execution_count": 26,
     "metadata": {},
     "output_type": "execute_result"
    }
   ],
   "source": [
    "pd.DataFrame(lobenv.sess.exchange.tape).tail(5)"
   ]
  },
  {
   "cell_type": "markdown",
   "metadata": {},
   "source": [
    "The reset command returns the trader back to starting inventory. The order book is maintained. "
   ]
  },
  {
   "cell_type": "code",
   "execution_count": 16,
   "metadata": {},
   "outputs": [
    {
     "name": "stdout",
     "output_type": "stream",
     "text": [
      "oid gen RL_13.3875_5\n"
     ]
    },
    {
     "data": {
      "text/plain": [
       "inventory: 1, avg cost 91.0, direction Long, cash -91,"
      ]
     },
     "execution_count": 16,
     "metadata": {},
     "output_type": "execute_result"
    }
   ],
   "source": [
    "rl_trader.reset()\n",
    "rl_trader.setup_initial_inventory('Buy',1,lobenv.mid_price)\n",
    "rl_trader.trade_manager"
   ]
  },
  {
   "cell_type": "code",
   "execution_count": 18,
   "metadata": {},
   "outputs": [
    {
     "name": "stdout",
     "output_type": "stream",
     "text": [
      "LOB before\n"
     ]
    },
    {
     "data": {
      "image/png": "[encoded data removed]",
      "text/plain": [
       "<Figure size 960x320 with 2 Axes>"
      ]
     },
     "metadata": {},
     "output_type": "display_data"
    },
    {
     "name": "stdout",
     "output_type": "stream",
     "text": [
      "                           tid     \n",
      "otype                      Ask  Bid\n",
      "price time    qid oid qty          \n",
      "78    12.3875 93  -40 2    NaN  B38\n",
      "79    13.3250 102 -33 1    NaN  B31\n",
      "80    13.0625 100 -21 1    NaN  B19\n",
      "81    13.3750 105 -15 2    NaN  B13\n",
      "101   12.7500 97  -80 1    S38  NaN\n",
      "114   9.0000  68  -70 2    S28  NaN\n",
      "      12.8125 98  -69 1    S27  NaN\n",
      "115   13.1500 101 -68 1    S26  NaN\n",
      "oid gen RL_13.3875_6\n",
      "add_order < response=Proceed (time,oid,qid) None\n",
      "LOB after\n"
     ]
    },
    {
     "data": {
      "image/png": "[encoded data removed]",
      "text/plain": [
       "<Figure size 960x320 with 2 Axes>"
      ]
     },
     "metadata": {},
     "output_type": "display_data"
    },
    {
     "name": "stdout",
     "output_type": "stream",
     "text": [
      "                                  tid     \n",
      "otype                             Ask  Bid\n",
      "price time    qid        oid qty          \n",
      "78    12.3875 93.000000  -40 2    NaN  B38\n",
      "79    13.3250 102.000000 -33 1    NaN  B31\n",
      "80    13.0625 100.000000 -21 1    NaN  B19\n",
      "81    13.3750 105.000001 -15 1    NaN  B13\n",
      "101   12.7500 97.000000  -80 1    S38  NaN\n",
      "114   9.0000  68.000000  -70 2    S28  NaN\n",
      "      12.8125 98.000000  -69 1    S27  NaN\n",
      "115   13.1500 101.000000 -68 1    S26  NaN\n",
      "inventory: 0, avg cost 0, direction Long, cash -10,\n"
     ]
    }
   ],
   "source": [
    "\n",
    "print('LOB before')\n",
    "_=lobenv.render()\n",
    "\n",
    "\n",
    "observation,reward,done,_=lobenv.step((-1,-1,-1)) \n",
    "print('LOB after')\n",
    "_=lobenv.render()\n",
    "print(lobenv.trader.trade_manager)"
   ]
  },
  {
   "cell_type": "code",
   "execution_count": 19,
   "metadata": {},
   "outputs": [
    {
     "data": {
      "text/plain": [
       "{'RL_13.3625_3': [{'tid': 'RL',\n",
       "   'otype': 'Bid',\n",
       "   'client_price': 96.0,\n",
       "   'order_qty': 1,\n",
       "   'order_issue_time': 13.3625,\n",
       "   'accession_time': 13.3625,\n",
       "   'qid': 104.0,\n",
       "   'oid': 'RL_13.3625_3',\n",
       "   'exec_time': 13.3625,\n",
       "   'exec_qty': 1,\n",
       "   'exec_price': 96.0,\n",
       "   'profit': 0,\n",
       "   'improvement': 0.0,\n",
       "   'BS': 'Buy',\n",
       "   'status': 'complete'}],\n",
       " 'RL_13.375_4': [{'tid': 'RL',\n",
       "   'otype': 'Bid',\n",
       "   'client_price': 100,\n",
       "   'order_qty': 1,\n",
       "   'order_issue_time': 13.375,\n",
       "   'accession_time': 13.375,\n",
       "   'qid': 106.0,\n",
       "   'oid': 'RL_13.375_4',\n",
       "   'exec_time': 13.375,\n",
       "   'exec_qty': 1,\n",
       "   'exec_price': 100,\n",
       "   'profit': 0,\n",
       "   'improvement': 0,\n",
       "   'BS': 'Buy',\n",
       "   'status': 'complete'}],\n",
       " 'RL_13.3875_6': [{'tid': 'RL',\n",
       "   'otype': 'Ask',\n",
       "   'client_price': 81,\n",
       "   'order_qty': 1,\n",
       "   'order_issue_time': 13.3875,\n",
       "   'accession_time': 13.3875,\n",
       "   'qid': 107.0,\n",
       "   'oid': 'RL_13.3875_6',\n",
       "   'exec_time': 13.3875,\n",
       "   'exec_qty': 1,\n",
       "   'exec_price': 81,\n",
       "   'profit': -10,\n",
       "   'improvement': 0,\n",
       "   'BS': 'Sell',\n",
       "   'status': 'complete'}]}"
      ]
     },
     "execution_count": 19,
     "metadata": {},
     "output_type": "execute_result"
    }
   ],
   "source": [
    "rl_trader.blotter"
   ]
  },
  {
   "cell_type": "code",
   "execution_count": null,
   "metadata": {},
   "outputs": [],
   "source": []
  }
 ],
 "metadata": {
  "kernelspec": {
   "display_name": "Python 3",
   "language": "python",
   "name": "python3"
  },
  "language_info": {
   "codemirror_mode": {
    "name": "ipython",
    "version": 3
   },
   "file_extension": ".py",
   "mimetype": "text/x-python",
   "name": "python",
   "nbconvert_exporter": "python",
   "pygments_lexer": "ipython3",
   "version": "3.6.6"
  }
 },
 "nbformat": 4,
 "nbformat_minor": 2
}
