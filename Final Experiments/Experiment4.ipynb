{
 "cells": [
  {
   "cell_type": "markdown",
   "metadata": {},
   "source": [
    "pure tabular learning"
   ]
  },
  {
   "cell_type": "code",
   "execution_count": 1,
   "metadata": {},
   "outputs": [],
   "source": [
    "#this allows relative imports in notebook\n",
    "import os\n",
    "import sys\n",
    "module_path = os.path.abspath(os.path.join('..'))\n",
    "if module_path not in sys.path:\n",
    "    sys.path.append(module_path)"
   ]
  },
  {
   "cell_type": "code",
   "execution_count": 2,
   "metadata": {},
   "outputs": [],
   "source": [
    "from UCLSE.dyna_q.Experiment4 import Experiment,Dyna_QAgentTabular\n",
    "from UCLSE.dyna_q.dyna_q import TabularMemory\n",
    "import numpy as np\n",
    "import pandas as pd\n",
    "import visdom"
   ]
  },
  {
   "cell_type": "code",
   "execution_count": 3,
   "metadata": {},
   "outputs": [],
   "source": [
    "name='Experiment4'"
   ]
  },
  {
   "cell_type": "code",
   "execution_count": 4,
   "metadata": {},
   "outputs": [
    {
     "name": "stderr",
     "output_type": "stream",
     "text": [
      "WARNING:root:Setting up a new session...\n"
     ]
    }
   ],
   "source": [
    "vis=visdom.Visdom(port=8097)"
   ]
  },
  {
   "cell_type": "code",
   "execution_count": 5,
   "metadata": {},
   "outputs": [],
   "source": [
    "def reward_oracle(observation,cutoff=50,ub=6,lb=-2,lamb=0.5):\n",
    "\n",
    "\n",
    "    distance=observation.distance\n",
    "    inventory=observation.inventory\n",
    "    orders_out=observation.orders_out\n",
    "    bid_change=observation.bid_change\n",
    "    bid_ask_spread=observation.bid_ask_spread\n",
    "    time_left=observation.time_left\n",
    "\n",
    "    ans=lamb*bid_change\n",
    "\n",
    "    if inventory==0:   #terminal            \n",
    "            \n",
    "            ans+=-(1-lamb)*distance\n",
    "            ans-=lamb*bid_change\n",
    "\n",
    "    elif inventory>1: #terminal\n",
    "            \n",
    "            ans+=-bid_ask_spread*(inventory-1)\n",
    "            ans+=-(1-lamb)*distance\n",
    "           \n",
    "    else:\n",
    "\n",
    "            if orders_out>0: \n",
    "                ans+=1/250\n",
    "\n",
    "\n",
    "            if time_left==1: #terminal takes account of exit spread\n",
    "               \n",
    "                ans+=-(1-lamb)*distance\n",
    "\n",
    "            if -distance>=ub:\n",
    "                \n",
    "                ans+=-(1-lamb)*distance\n",
    "              \n",
    "\n",
    "            elif -distance<lb:\n",
    "               \n",
    "                ans+=-(1-lamb)*distance\n",
    "               \n",
    "\n",
    "    return ans \n",
    "\n",
    "def done_oracle(observation,cutoff=50,lb=-2,ub=6):\n",
    "\n",
    "    distance=observation.distance\n",
    "    inventory=observation.inventory\n",
    "    orders_out=observation.orders_out\n",
    "    time_left=observation.time_left\n",
    "\n",
    "    if inventory==0:\n",
    "        done=1\n",
    "        why=f'inventory {inventory}=0'\n",
    "    elif time_left>=1:\n",
    "        done=1\n",
    "        why=f'time up {time_left}'\n",
    "    elif inventory>1:\n",
    "        done=1\n",
    "        why=f'inventory {inventory}>1'\n",
    "    elif -distance>=ub:\n",
    "        done=1\n",
    "        why=f'-distance {distance} >ub {ub}'\n",
    "    elif -distance<lb: \n",
    "        done=1\n",
    "        why=f'-distance {distance}<lb {lb}'\n",
    "\n",
    "    else:\n",
    "        done=0 \n",
    "        why=None\n",
    "    return done,why"
   ]
  },
  {
   "cell_type": "code",
   "execution_count": 6,
   "metadata": {},
   "outputs": [
    {
     "name": "stdout",
     "output_type": "stream",
     "text": [
      "sequence made\n",
      "adding exchange to RL trader  RL\n",
      "adding exchange to RL trader  RL\n",
      "sequence made\n",
      "adding exchange to RL trader  RL\n",
      "adding exchange to RL trader  RL\n",
      "sequence made\n",
      "adding exchange to RL trader  RL\n",
      "adding exchange to RL trader  RL\n"
     ]
    }
   ],
   "source": [
    "trader_pref_kwargs={'qty_min':-5,'qty_max':5,'sigma_pv':1}\n",
    "timer_kwargs={'start':0,'end':5000,'step':1}\n",
    "price_sequence_kwargs={'kappa':0.0002,'mean':100,'sigma':1,'block_length':10}\n",
    "noise_kwargs={'sigma':1}\n",
    "messenger_kwargs={'logging':True}\n",
    "env_kwargs={'trader_arrival_rate':1,'recording':True,#'process_verbose':False,\n",
    "                'bookkeep_verbose':False, 'lob_verbose':False}\n",
    "sigma_n=5\n",
    "\n",
    "def cont_coef():\n",
    "    return np.random.uniform(0.2,0.8)\n",
    "\n",
    "def personal_memory():\n",
    "    return int(np.random.uniform(5,15))\n",
    "\n",
    "trader_kwargs={'ZIP':{'prefix':'ZIP','number':10,'object_name':'WW_Zip',\n",
    "                          'setup_kwargs':\n",
    "                                {'market_make':True,'prior':(100,sigma_n)}},\n",
    "               'HBL':{'prefix':'HBL','number':10,'object_name':'HBL',\n",
    "                          'setup_kwargs':\n",
    "                              {'memory':100,'grace_period':20}},\n",
    "               'CON':{'prefix':'CON','number':10,'object_name':'ContTrader',\n",
    "                      'setup_kwargs':\n",
    "                          {'cont_coeff':cont_coef,'personal_memory':personal_memory,'profit_target':4, 'market_make':True,\n",
    "                          'prior':(100,sigma_n)}},\n",
    "               'NOI':{'prefix':'NOI','number':10,'object_name':'NoiseTrader',\n",
    "                          'setup_kwargs':{'memory':20}}\n",
    "              }\n",
    "\n",
    "lobenv_kwargs={'cutoff':100,'profit_target':10,'loss_limit':-2,'reward_func':reward_oracle,'lamb':0.5}\n",
    "\n",
    "\n",
    "exploration ={\"mode\":'Greedy',\n",
    "        \"type\": \"exponential\",\n",
    "        \"init_epsilon\": 0.8,\n",
    "        \"min_epsilon\": 0.01,\n",
    "        \"decay_steps\": 100000,\n",
    "        \"decay_eps\": 0.99,\n",
    "        \"choice\":'least_bonus'}\n",
    "\n",
    "agent_kwargs={'n_actions':5,'initial_Q':1,'init_epsilon':0.8,'exploration':exploration,\n",
    "             'memory_capacity':1000000,'n_statespace':9,'discount':0.99}\n",
    "\n",
    "\n",
    "\n",
    "experiment=Experiment(trader_pref_kwargs,timer_kwargs,\n",
    "           price_sequence_kwargs,noise_kwargs,\n",
    "           messenger_kwargs,env_kwargs,trader_kwargs,\n",
    "           lobenv_kwargs,agent_kwargs=agent_kwargs,visdom=vis,agent=Dyna_QAgentTabular,name=name)"
   ]
  },
  {
   "cell_type": "code",
   "execution_count": 7,
   "metadata": {},
   "outputs": [],
   "source": [
    "experiment.new_train_setup(planning_steps=1,planning=True,graph=True,MaxEpisodes=1000)"
   ]
  },
  {
   "cell_type": "code",
   "execution_count": 9,
   "metadata": {},
   "outputs": [
    {
     "name": "stdout",
     "output_type": "stream",
     "text": [
      "Exploration is Greedy\n",
      "Dyna-Q - EXP: 1 | Ep: 21 | timestep: 5 | Ep_r:  0.008 Profit: -1 Avg loss:-0.03828571428571428 |  Time to backup 0\n",
      "Dyna-Q - EXP: 1 | Ep: 41 | timestep: 10 | Ep_r:  0.032 Profit: -1 Avg loss:-0.039219512195121944 |  Time to backup 0\n"
     ]
    },
    {
     "ename": "KeyboardInterrupt",
     "evalue": "",
     "output_type": "error",
     "traceback": [
      "\u001b[1;31m---------------------------------------------------------------------------\u001b[0m",
      "\u001b[1;31mKeyboardInterrupt\u001b[0m                         Traceback (most recent call last)",
      "\u001b[1;32m<ipython-input-9-2bdef18f3152>\u001b[0m in \u001b[0;36m<module>\u001b[1;34m\u001b[0m\n\u001b[1;32m----> 1\u001b[1;33m \u001b[0mexperiment\u001b[0m\u001b[1;33m.\u001b[0m\u001b[0mtrain\u001b[0m\u001b[1;33m(\u001b[0m\u001b[0mMaxEpisodes\u001b[0m\u001b[1;33m=\u001b[0m\u001b[1;36m1001\u001b[0m\u001b[1;33m,\u001b[0m\u001b[0mfolder\u001b[0m\u001b[1;33m=\u001b[0m\u001b[1;34m'Results/'\u001b[0m\u001b[1;33m+\u001b[0m\u001b[0mexperiment\u001b[0m\u001b[1;33m.\u001b[0m\u001b[0mname\u001b[0m\u001b[1;33m,\u001b[0m\u001b[0mstart_episode\u001b[0m\u001b[1;33m=\u001b[0m\u001b[0mexperiment\u001b[0m\u001b[1;33m.\u001b[0m\u001b[0mepisode\u001b[0m\u001b[1;33m)\u001b[0m\u001b[1;33m\u001b[0m\u001b[1;33m\u001b[0m\u001b[0m\n\u001b[0m",
      "\u001b[1;32m~\\OneDrive - University College London\\BUCLSE\\UCLSE\\dyna_q\\Experiment4.py\u001b[0m in \u001b[0;36mtrain\u001b[1;34m(self, MaxEpisodes, start_episode, total_steps, folder)\u001b[0m\n\u001b[0;32m    154\u001b[0m                                         \u001b[0mep_r\u001b[0m \u001b[1;33m=\u001b[0m \u001b[1;36m0\u001b[0m\u001b[1;33m\u001b[0m\u001b[1;33m\u001b[0m\u001b[0m\n\u001b[0;32m    155\u001b[0m                                         \u001b[0mtimestep\u001b[0m \u001b[1;33m=\u001b[0m \u001b[1;36m0\u001b[0m\u001b[1;33m\u001b[0m\u001b[1;33m\u001b[0m\u001b[0m\n\u001b[1;32m--> 156\u001b[1;33m                                         \u001b[0ms\u001b[0m\u001b[1;33m,\u001b[0m\u001b[0mr0\u001b[0m \u001b[1;33m=\u001b[0m \u001b[0mlobenv\u001b[0m\u001b[1;33m.\u001b[0m\u001b[0mreset\u001b[0m\u001b[1;33m(\u001b[0m\u001b[1;33m)\u001b[0m\u001b[1;33m\u001b[0m\u001b[1;33m\u001b[0m\u001b[0m\n\u001b[0m\u001b[0;32m    157\u001b[0m                                         \u001b[0mep_r\u001b[0m\u001b[1;33m=\u001b[0m\u001b[0mlobenv\u001b[0m\u001b[1;33m.\u001b[0m\u001b[0mlamb\u001b[0m\u001b[1;33m*\u001b[0m\u001b[0mr0\u001b[0m\u001b[1;33m\u001b[0m\u001b[1;33m\u001b[0m\u001b[0m\n\u001b[0;32m    158\u001b[0m                                         \u001b[0minitial\u001b[0m\u001b[1;33m=\u001b[0m\u001b[1;32mTrue\u001b[0m\u001b[1;33m\u001b[0m\u001b[1;33m\u001b[0m\u001b[0m\n",
      "\u001b[1;32m~\\OneDrive - University College London\\BUCLSE\\UCLSE\\minimal_lobenv.py\u001b[0m in \u001b[0;36mreset\u001b[1;34m(self, wait_period, hard)\u001b[0m\n\u001b[0;32m    294\u001b[0m                         \u001b[1;32mwhile\u001b[0m \u001b[0mbuffer\u001b[0m\u001b[1;33m<\u001b[0m\u001b[0mwait_period\u001b[0m\u001b[1;33m-\u001b[0m\u001b[1;36m2\u001b[0m\u001b[1;33m:\u001b[0m\u001b[1;33m\u001b[0m\u001b[1;33m\u001b[0m\u001b[0m\n\u001b[0;32m    295\u001b[0m                                 \u001b[0mself\u001b[0m\u001b[1;33m.\u001b[0m\u001b[0msess\u001b[0m\u001b[1;33m.\u001b[0m\u001b[0mtimer\u001b[0m\u001b[1;33m.\u001b[0m\u001b[0mnext_period\u001b[0m\u001b[1;33m(\u001b[0m\u001b[1;33m)\u001b[0m\u001b[1;33m\u001b[0m\u001b[1;33m\u001b[0m\u001b[0m\n\u001b[1;32m--> 296\u001b[1;33m                                 \u001b[0mself\u001b[0m\u001b[1;33m.\u001b[0m\u001b[0msess\u001b[0m\u001b[1;33m.\u001b[0m\u001b[0msimulate_one_period\u001b[0m\u001b[1;33m(\u001b[0m\u001b[0mupdating\u001b[0m\u001b[1;33m=\u001b[0m\u001b[1;32mTrue\u001b[0m\u001b[1;33m)\u001b[0m\u001b[1;33m\u001b[0m\u001b[1;33m\u001b[0m\u001b[0m\n\u001b[0m\u001b[0;32m    297\u001b[0m                                 \u001b[0mbuffer\u001b[0m\u001b[1;33m=\u001b[0m\u001b[0mbuffer\u001b[0m\u001b[1;33m+\u001b[0m\u001b[1;36m1\u001b[0m\u001b[1;33m\u001b[0m\u001b[1;33m\u001b[0m\u001b[0m\n\u001b[0;32m    298\u001b[0m \u001b[1;33m\u001b[0m\u001b[0m\n",
      "\u001b[1;32m~\\OneDrive - University College London\\BUCLSE\\UCLSE\\wang_wellman_new.py\u001b[0m in \u001b[0;36msimulate_one_period\u001b[1;34m(self, recording, updating)\u001b[0m\n\u001b[0;32m    279\u001b[0m \u001b[1;33m\u001b[0m\u001b[0m\n\u001b[0;32m    280\u001b[0m                 \u001b[0mlob\u001b[0m\u001b[1;33m=\u001b[0m\u001b[1;32mNone\u001b[0m\u001b[1;33m\u001b[0m\u001b[1;33m\u001b[0m\u001b[0m\n\u001b[1;32m--> 281\u001b[1;33m                 \u001b[1;32mif\u001b[0m \u001b[0mupdating\u001b[0m\u001b[1;33m:\u001b[0m \u001b[0mlob\u001b[0m\u001b[1;33m=\u001b[0m\u001b[0mself\u001b[0m\u001b[1;33m.\u001b[0m\u001b[0mupdate_traders\u001b[0m\u001b[1;33m(\u001b[0m\u001b[1;33m)\u001b[0m\u001b[1;33m\u001b[0m\u001b[1;33m\u001b[0m\u001b[0m\n\u001b[0m\u001b[0;32m    282\u001b[0m \u001b[1;33m\u001b[0m\u001b[0m\n\u001b[0;32m    283\u001b[0m                 \u001b[1;32mif\u001b[0m \u001b[0mrecording\u001b[0m\u001b[1;33m:\u001b[0m\u001b[1;33m\u001b[0m\u001b[1;33m\u001b[0m\u001b[0m\n",
      "\u001b[1;32m~\\OneDrive - University College London\\BUCLSE\\UCLSE\\wang_wellman_new.py\u001b[0m in \u001b[0;36mupdate_traders\u001b[1;34m(self)\u001b[0m\n\u001b[0;32m    311\u001b[0m                 \u001b[0mlob\u001b[0m\u001b[1;33m=\u001b[0m\u001b[0mself\u001b[0m\u001b[1;33m.\u001b[0m\u001b[0mexchange\u001b[0m\u001b[1;33m.\u001b[0m\u001b[0mpublish_lob\u001b[0m\u001b[1;33m(\u001b[0m\u001b[1;33m)\u001b[0m\u001b[1;33m\u001b[0m\u001b[1;33m\u001b[0m\u001b[0m\n\u001b[0;32m    312\u001b[0m                 \u001b[1;32mfor\u001b[0m \u001b[0m_\u001b[0m\u001b[1;33m,\u001b[0m\u001b[0mt\u001b[0m \u001b[1;32min\u001b[0m \u001b[0mself\u001b[0m\u001b[1;33m.\u001b[0m\u001b[0mtraders\u001b[0m\u001b[1;33m.\u001b[0m\u001b[0mitems\u001b[0m\u001b[1;33m(\u001b[0m\u001b[1;33m)\u001b[0m\u001b[1;33m:\u001b[0m\u001b[1;33m\u001b[0m\u001b[1;33m\u001b[0m\u001b[0m\n\u001b[1;32m--> 313\u001b[1;33m                         \u001b[0mt\u001b[0m\u001b[1;33m.\u001b[0m\u001b[0mrespond\u001b[0m\u001b[1;33m(\u001b[0m\u001b[1;32mNone\u001b[0m\u001b[1;33m,\u001b[0m \u001b[0mlob\u001b[0m\u001b[1;33m,\u001b[0m \u001b[1;32mNone\u001b[0m\u001b[1;33m,\u001b[0m \u001b[0mverbose\u001b[0m\u001b[1;33m=\u001b[0m\u001b[1;32mFalse\u001b[0m\u001b[1;33m,\u001b[0m\u001b[0mtape\u001b[0m\u001b[1;33m=\u001b[0m\u001b[0mrecent_tape\u001b[0m\u001b[1;33m)\u001b[0m\u001b[1;33m\u001b[0m\u001b[1;33m\u001b[0m\u001b[0m\n\u001b[0m\u001b[0;32m    314\u001b[0m                 \u001b[1;32mreturn\u001b[0m \u001b[0mlob\u001b[0m\u001b[1;33m\u001b[0m\u001b[1;33m\u001b[0m\u001b[0m\n\u001b[0;32m    315\u001b[0m \u001b[1;33m\u001b[0m\u001b[0m\n",
      "\u001b[1;32m~\\OneDrive - University College London\\BUCLSE\\UCLSE\\WW_traders.py\u001b[0m in \u001b[0;36mrespond\u001b[1;34m(self, time, lob, trade, verbose, tape)\u001b[0m\n\u001b[0;32m    386\u001b[0m                 \u001b[0mversion\u001b[0m\u001b[1;33m=\u001b[0m\u001b[0mlob\u001b[0m\u001b[1;33m[\u001b[0m\u001b[1;34m'version'\u001b[0m\u001b[1;33m]\u001b[0m\u001b[1;33m\u001b[0m\u001b[1;33m\u001b[0m\u001b[0m\n\u001b[0;32m    387\u001b[0m                 \u001b[1;32mif\u001b[0m \u001b[0mself\u001b[0m\u001b[1;33m.\u001b[0m\u001b[0mlob_version\u001b[0m\u001b[1;33m!=\u001b[0m\u001b[0mversion\u001b[0m\u001b[1;33m:\u001b[0m\u001b[1;33m\u001b[0m\u001b[1;33m\u001b[0m\u001b[0m\n\u001b[1;32m--> 388\u001b[1;33m                         \u001b[0mself\u001b[0m\u001b[1;33m.\u001b[0m\u001b[0mupdate_fso\u001b[0m\u001b[1;33m(\u001b[0m\u001b[0mtape\u001b[0m\u001b[1;33m,\u001b[0m\u001b[0mversion\u001b[0m\u001b[1;33m)\u001b[0m\u001b[1;33m\u001b[0m\u001b[1;33m\u001b[0m\u001b[0m\n\u001b[0m\u001b[0;32m    389\u001b[0m                         \u001b[0mself\u001b[0m\u001b[1;33m.\u001b[0m\u001b[0mupdate_lob\u001b[0m\u001b[1;33m(\u001b[0m\u001b[0mlob\u001b[0m\u001b[1;33m)\u001b[0m\u001b[1;33m\u001b[0m\u001b[1;33m\u001b[0m\u001b[0m\n\u001b[0;32m    390\u001b[0m                         \u001b[0mself\u001b[0m\u001b[1;33m.\u001b[0m\u001b[0mupdate_time\u001b[0m\u001b[1;33m(\u001b[0m\u001b[0mself\u001b[0m\u001b[1;33m.\u001b[0m\u001b[0mtime\u001b[0m\u001b[1;33m)\u001b[0m\u001b[1;33m\u001b[0m\u001b[1;33m\u001b[0m\u001b[0m\n",
      "\u001b[1;32m~\\OneDrive - University College London\\BUCLSE\\UCLSE\\WW_traders.py\u001b[0m in \u001b[0;36mupdate_fso\u001b[1;34m(cls, input_list, version)\u001b[0m\n\u001b[0;32m    379\u001b[0m         \u001b[1;32mdef\u001b[0m \u001b[0mupdate_fso\u001b[0m\u001b[1;33m(\u001b[0m\u001b[0mcls\u001b[0m\u001b[1;33m,\u001b[0m\u001b[0minput_list\u001b[0m\u001b[1;33m,\u001b[0m\u001b[0mversion\u001b[0m\u001b[1;33m)\u001b[0m\u001b[1;33m:\u001b[0m\u001b[1;33m\u001b[0m\u001b[1;33m\u001b[0m\u001b[0m\n\u001b[0;32m    380\u001b[0m                 \u001b[1;31m#update the class FSO object\u001b[0m\u001b[1;33m\u001b[0m\u001b[1;33m\u001b[0m\u001b[1;33m\u001b[0m\u001b[0m\n\u001b[1;32m--> 381\u001b[1;33m                 \u001b[0mcls\u001b[0m\u001b[1;33m.\u001b[0m\u001b[0mfso\u001b[0m\u001b[1;33m.\u001b[0m\u001b[0mupdate\u001b[0m\u001b[1;33m(\u001b[0m\u001b[0minput_list\u001b[0m\u001b[1;33m,\u001b[0m\u001b[0mversion\u001b[0m\u001b[1;33m)\u001b[0m\u001b[1;33m\u001b[0m\u001b[1;33m\u001b[0m\u001b[0m\n\u001b[0m\u001b[0;32m    382\u001b[0m \u001b[1;33m\u001b[0m\u001b[0m\n\u001b[0;32m    383\u001b[0m \u001b[1;33m\u001b[0m\u001b[0m\n",
      "\u001b[1;32m~\\OneDrive - University College London\\BUCLSE\\UCLSE\\FSO.py\u001b[0m in \u001b[0;36mupdate\u001b[1;34m(self, input_list, version)\u001b[0m\n\u001b[0;32m    245\u001b[0m                         \u001b[0mself\u001b[0m\u001b[1;33m.\u001b[0m\u001b[0mlast_version\u001b[0m\u001b[1;33m=\u001b[0m\u001b[0mversion\u001b[0m\u001b[1;33m\u001b[0m\u001b[1;33m\u001b[0m\u001b[0m\n\u001b[0;32m    246\u001b[0m \u001b[1;33m\u001b[0m\u001b[0m\n\u001b[1;32m--> 247\u001b[1;33m                         \u001b[0mself\u001b[0m\u001b[1;33m.\u001b[0m\u001b[0madd_all\u001b[0m\u001b[1;33m(\u001b[0m\u001b[0minput_list\u001b[0m\u001b[1;33m)\u001b[0m\u001b[1;33m\u001b[0m\u001b[1;33m\u001b[0m\u001b[0m\n\u001b[0m\u001b[0;32m    248\u001b[0m                         \u001b[1;32mif\u001b[0m \u001b[0mlen\u001b[0m\u001b[1;33m(\u001b[0m\u001b[0mself\u001b[0m\u001b[1;33m.\u001b[0m\u001b[0mask_q\u001b[0m\u001b[1;33m)\u001b[0m\u001b[1;33m>\u001b[0m\u001b[0mself\u001b[0m\u001b[1;33m.\u001b[0m\u001b[0mmemory\u001b[0m\u001b[1;33m:\u001b[0m\u001b[1;33m\u001b[0m\u001b[1;33m\u001b[0m\u001b[0m\n\u001b[0;32m    249\u001b[0m                                 \u001b[0mself\u001b[0m\u001b[1;33m.\u001b[0m\u001b[0msubtract_all\u001b[0m\u001b[1;33m(\u001b[0m\u001b[1;33m)\u001b[0m\u001b[1;33m\u001b[0m\u001b[1;33m\u001b[0m\u001b[0m\n",
      "\u001b[1;32m~\\OneDrive - University College London\\BUCLSE\\UCLSE\\FSO.py\u001b[0m in \u001b[0;36madd_all\u001b[1;34m(self, input_list)\u001b[0m\n\u001b[0;32m    224\u001b[0m \t\t\t\t\t\t  (self.add_rejected_bid,reject_list_ask)]\n\u001b[0;32m    225\u001b[0m \u001b[1;33m\u001b[0m\u001b[0m\n\u001b[1;32m--> 226\u001b[1;33m                 \u001b[1;32mfor\u001b[0m \u001b[0mdo\u001b[0m\u001b[1;33m,\u001b[0m\u001b[0mdata\u001b[0m \u001b[1;32min\u001b[0m \u001b[0madd_do_data_pairs\u001b[0m\u001b[1;33m:\u001b[0m \u001b[0mdo\u001b[0m\u001b[1;33m(\u001b[0m\u001b[0mdata\u001b[0m\u001b[1;33m)\u001b[0m\u001b[1;33m\u001b[0m\u001b[1;33m\u001b[0m\u001b[0m\n\u001b[0m\u001b[0;32m    227\u001b[0m \u001b[1;33m\u001b[0m\u001b[0m\n\u001b[0;32m    228\u001b[0m \u001b[1;33m\u001b[0m\u001b[0m\n",
      "\u001b[1;32m~\\OneDrive - University College London\\BUCLSE\\UCLSE\\FSO.py\u001b[0m in \u001b[0;36madd_cancelled_ask\u001b[1;34m(self, complete_ask_list)\u001b[0m\n\u001b[0;32m    134\u001b[0m \u001b[1;33m\u001b[0m\u001b[0m\n\u001b[0;32m    135\u001b[0m         \u001b[1;32mdef\u001b[0m \u001b[0madd_cancelled_ask\u001b[0m\u001b[1;33m(\u001b[0m\u001b[0mself\u001b[0m\u001b[1;33m,\u001b[0m\u001b[0mcomplete_ask_list\u001b[0m\u001b[1;33m)\u001b[0m\u001b[1;33m:\u001b[0m\u001b[1;33m\u001b[0m\u001b[1;33m\u001b[0m\u001b[0m\n\u001b[1;32m--> 136\u001b[1;33m                 \u001b[0mself\u001b[0m\u001b[1;33m.\u001b[0m\u001b[0mcancelled_ask_side\u001b[0m\u001b[1;33m=\u001b[0m\u001b[0mself\u001b[0m\u001b[1;33m.\u001b[0m\u001b[0madd_to_queue_counter\u001b[0m\u001b[1;33m(\u001b[0m\u001b[0mself\u001b[0m\u001b[1;33m.\u001b[0m\u001b[0mcancelled_ask_q\u001b[0m\u001b[1;33m,\u001b[0m\u001b[0mself\u001b[0m\u001b[1;33m.\u001b[0m\u001b[0mcancelled_ask_side\u001b[0m\u001b[1;33m,\u001b[0m\u001b[0mcomplete_ask_list\u001b[0m\u001b[1;33m)\u001b[0m\u001b[1;33m\u001b[0m\u001b[1;33m\u001b[0m\u001b[0m\n\u001b[0m\u001b[0;32m    137\u001b[0m \u001b[1;33m\u001b[0m\u001b[0m\n\u001b[0;32m    138\u001b[0m         \u001b[1;32mdef\u001b[0m \u001b[0madd_traded_bid\u001b[0m\u001b[1;33m(\u001b[0m\u001b[0mself\u001b[0m\u001b[1;33m,\u001b[0m\u001b[0mtrade_bid_list\u001b[0m\u001b[1;33m)\u001b[0m\u001b[1;33m:\u001b[0m\u001b[1;33m\u001b[0m\u001b[1;33m\u001b[0m\u001b[0m\n",
      "\u001b[1;32m~\\OneDrive - University College London\\BUCLSE\\UCLSE\\FSO.py\u001b[0m in \u001b[0;36madd_to_queue_counter\u001b[1;34m(self, target_q, target_counter, input_list)\u001b[0m\n\u001b[0;32m    102\u001b[0m \u001b[1;33m\u001b[0m\u001b[0m\n\u001b[0;32m    103\u001b[0m \u001b[1;33m\u001b[0m\u001b[0m\n\u001b[1;32m--> 104\u001b[1;33m                 \u001b[0mtarget_counter\u001b[0m\u001b[1;33m=\u001b[0m\u001b[0mtarget_counter\u001b[0m\u001b[1;33m+\u001b[0m\u001b[0mnew_counts\u001b[0m\u001b[1;33m\u001b[0m\u001b[1;33m\u001b[0m\u001b[0m\n\u001b[0m\u001b[0;32m    105\u001b[0m                 \u001b[1;32mreturn\u001b[0m \u001b[0mtarget_counter\u001b[0m\u001b[1;33m\u001b[0m\u001b[1;33m\u001b[0m\u001b[0m\n\u001b[0;32m    106\u001b[0m \u001b[1;33m\u001b[0m\u001b[0m\n",
      "\u001b[1;32m~\\Anaconda3\\envs\\gym2\\lib\\collections\\__init__.py\u001b[0m in \u001b[0;36m__add__\u001b[1;34m(self, other)\u001b[0m\n\u001b[0;32m    731\u001b[0m         \u001b[1;32mif\u001b[0m \u001b[1;32mnot\u001b[0m \u001b[0misinstance\u001b[0m\u001b[1;33m(\u001b[0m\u001b[0mother\u001b[0m\u001b[1;33m,\u001b[0m \u001b[0mCounter\u001b[0m\u001b[1;33m)\u001b[0m\u001b[1;33m:\u001b[0m\u001b[1;33m\u001b[0m\u001b[1;33m\u001b[0m\u001b[0m\n\u001b[0;32m    732\u001b[0m             \u001b[1;32mreturn\u001b[0m \u001b[0mNotImplemented\u001b[0m\u001b[1;33m\u001b[0m\u001b[1;33m\u001b[0m\u001b[0m\n\u001b[1;32m--> 733\u001b[1;33m         \u001b[0mresult\u001b[0m \u001b[1;33m=\u001b[0m \u001b[0mCounter\u001b[0m\u001b[1;33m(\u001b[0m\u001b[1;33m)\u001b[0m\u001b[1;33m\u001b[0m\u001b[1;33m\u001b[0m\u001b[0m\n\u001b[0m\u001b[0;32m    734\u001b[0m         \u001b[1;32mfor\u001b[0m \u001b[0melem\u001b[0m\u001b[1;33m,\u001b[0m \u001b[0mcount\u001b[0m \u001b[1;32min\u001b[0m \u001b[0mself\u001b[0m\u001b[1;33m.\u001b[0m\u001b[0mitems\u001b[0m\u001b[1;33m(\u001b[0m\u001b[1;33m)\u001b[0m\u001b[1;33m:\u001b[0m\u001b[1;33m\u001b[0m\u001b[1;33m\u001b[0m\u001b[0m\n\u001b[0;32m    735\u001b[0m             \u001b[0mnewcount\u001b[0m \u001b[1;33m=\u001b[0m \u001b[0mcount\u001b[0m \u001b[1;33m+\u001b[0m \u001b[0mother\u001b[0m\u001b[1;33m[\u001b[0m\u001b[0melem\u001b[0m\u001b[1;33m]\u001b[0m\u001b[1;33m\u001b[0m\u001b[1;33m\u001b[0m\u001b[0m\n",
      "\u001b[1;32m~\\Anaconda3\\envs\\gym2\\lib\\collections\\__init__.py\u001b[0m in \u001b[0;36m__init__\u001b[1;34m(*args, **kwds)\u001b[0m\n\u001b[0;32m    565\u001b[0m         \u001b[1;32mif\u001b[0m \u001b[0mlen\u001b[0m\u001b[1;33m(\u001b[0m\u001b[0margs\u001b[0m\u001b[1;33m)\u001b[0m \u001b[1;33m>\u001b[0m \u001b[1;36m1\u001b[0m\u001b[1;33m:\u001b[0m\u001b[1;33m\u001b[0m\u001b[1;33m\u001b[0m\u001b[0m\n\u001b[0;32m    566\u001b[0m             \u001b[1;32mraise\u001b[0m \u001b[0mTypeError\u001b[0m\u001b[1;33m(\u001b[0m\u001b[1;34m'expected at most 1 arguments, got %d'\u001b[0m \u001b[1;33m%\u001b[0m \u001b[0mlen\u001b[0m\u001b[1;33m(\u001b[0m\u001b[0margs\u001b[0m\u001b[1;33m)\u001b[0m\u001b[1;33m)\u001b[0m\u001b[1;33m\u001b[0m\u001b[1;33m\u001b[0m\u001b[0m\n\u001b[1;32m--> 567\u001b[1;33m         \u001b[0msuper\u001b[0m\u001b[1;33m(\u001b[0m\u001b[0mCounter\u001b[0m\u001b[1;33m,\u001b[0m \u001b[0mself\u001b[0m\u001b[1;33m)\u001b[0m\u001b[1;33m.\u001b[0m\u001b[0m__init__\u001b[0m\u001b[1;33m(\u001b[0m\u001b[1;33m)\u001b[0m\u001b[1;33m\u001b[0m\u001b[1;33m\u001b[0m\u001b[0m\n\u001b[0m\u001b[0;32m    568\u001b[0m         \u001b[0mself\u001b[0m\u001b[1;33m.\u001b[0m\u001b[0mupdate\u001b[0m\u001b[1;33m(\u001b[0m\u001b[1;33m*\u001b[0m\u001b[0margs\u001b[0m\u001b[1;33m,\u001b[0m \u001b[1;33m**\u001b[0m\u001b[0mkwds\u001b[0m\u001b[1;33m)\u001b[0m\u001b[1;33m\u001b[0m\u001b[1;33m\u001b[0m\u001b[0m\n\u001b[0;32m    569\u001b[0m \u001b[1;33m\u001b[0m\u001b[0m\n",
      "\u001b[1;31mKeyboardInterrupt\u001b[0m: "
     ]
    }
   ],
   "source": [
    "experiment.train(MaxEpisodes=1001,folder='Results/'+experiment.name,start_episode=experiment.episode)"
   ]
  },
  {
   "cell_type": "code",
   "execution_count": 8,
   "metadata": {},
   "outputs": [
    {
     "name": "stdout",
     "output_type": "stream",
     "text": [
      "=> loading checkpoint 'Results/Experiment4\\dyna_best.pth.tar'\n",
      "=> loaded checkpoint 'Results/Experiment4\\dyna_best.pth.tar' (epoch 919)\n",
      "keys unused in checkpoint data:  ['episode', 'learn_step_counter', 'setup']\n"
     ]
    }
   ],
   "source": [
    "Experiment.resume(exp=experiment,best=True,folder='Results/'+experiment.name)"
   ]
  },
  {
   "cell_type": "code",
   "execution_count": 9,
   "metadata": {},
   "outputs": [
    {
     "name": "stdout",
     "output_type": "stream",
     "text": [
      "sequence made\n",
      "adding exchange to RL trader  RL\n",
      "adding exchange to RL trader  RL\n",
      "Dyna-Q - EXP 1, | Ep: , 1, | timestep:  14 | Ep_r: -1.9422410375044021|profit:-3 start:226|end:240\n",
      "Dyna-Q - EXP 1, | Ep: , 26, | timestep:  7 | Ep_r: -0.9745624597604|profit:-2 start:3658|end:3665\n",
      "sequence made\n",
      "adding exchange to RL trader  RL\n",
      "adding exchange to RL trader  RL\n"
     ]
    }
   ],
   "source": [
    "experiment.test_setup(MaxEpisodes=50,agent=experiment.agent)"
   ]
  },
  {
   "cell_type": "code",
   "execution_count": 10,
   "metadata": {},
   "outputs": [
    {
     "data": {
      "text/plain": [
       "state counter length: 339, state_action counter length: 365, total experiences: 3798"
      ]
     },
     "execution_count": 10,
     "metadata": {},
     "output_type": "execute_result"
    }
   ],
   "source": [
    "experiment.agent_test.tabular"
   ]
  },
  {
   "cell_type": "code",
   "execution_count": 11,
   "metadata": {},
   "outputs": [
    {
     "data": {
      "image/png": "[encoded data removed]",
      "text/plain": [
       "<Figure size 1280x1280 with 2 Axes>"
      ]
     },
     "metadata": {},
     "output_type": "display_data"
    }
   ],
   "source": [
    "path='Results'\n",
    "d,memory=experiment.plotbm_results(experiment,'CVAE reward and profit distribution',\n",
    "                                   'CVAE imbalance histogram',name=experiment.name,path=path)"
   ]
  },
  {
   "cell_type": "code",
   "execution_count": 12,
   "metadata": {},
   "outputs": [],
   "source": [
    "returns,memory=experiment.memory_returns_loader(experiment)"
   ]
  },
  {
   "cell_type": "code",
   "execution_count": 13,
   "metadata": {},
   "outputs": [
    {
     "data": {
      "image/png": "[encoded data removed]",
      "text/plain": [
       "<Figure size 1280x1280 with 2 Axes>"
      ]
     },
     "metadata": {},
     "output_type": "display_data"
    }
   ],
   "source": [
    "returns,memory=experiment.plotbm_results(experiment,'title1','title2',returns,memory,'messing')"
   ]
  },
  {
   "cell_type": "code",
   "execution_count": 14,
   "metadata": {},
   "outputs": [],
   "source": [
    "clf,train_score,test_score,importances=experiment.fit_tree(memory,os.path.join('Results',experiment.name),experiment)"
   ]
  },
  {
   "cell_type": "code",
   "execution_count": null,
   "metadata": {},
   "outputs": [],
   "source": [
    "train_score,test_score"
   ]
  },
  {
   "cell_type": "code",
   "execution_count": 18,
   "metadata": {},
   "outputs": [
    {
     "data": {
      "text/html": [
       "<div>\n",
       "<style scoped>\n",
       "    .dataframe tbody tr th:only-of-type {\n",
       "        vertical-align: middle;\n",
       "    }\n",
       "\n",
       "    .dataframe tbody tr th {\n",
       "        vertical-align: top;\n",
       "    }\n",
       "\n",
       "    .dataframe thead th {\n",
       "        text-align: right;\n",
       "    }\n",
       "</style>\n",
       "<table border=\"1\" class=\"dataframe\">\n",
       "  <thead>\n",
       "    <tr style=\"text-align: right;\">\n",
       "      <th></th>\n",
       "      <th>obs_name</th>\n",
       "      <th>importance</th>\n",
       "      <th>test_score</th>\n",
       "    </tr>\n",
       "  </thead>\n",
       "  <tbody>\n",
       "    <tr>\n",
       "      <th>0</th>\n",
       "      <td>distance</td>\n",
       "      <td>0.277411</td>\n",
       "      <td>0.33</td>\n",
       "    </tr>\n",
       "    <tr>\n",
       "      <th>1</th>\n",
       "      <td>inventory</td>\n",
       "      <td>0.000000</td>\n",
       "      <td>0.33</td>\n",
       "    </tr>\n",
       "    <tr>\n",
       "      <th>2</th>\n",
       "      <td>orders_out</td>\n",
       "      <td>0.000000</td>\n",
       "      <td>0.33</td>\n",
       "    </tr>\n",
       "    <tr>\n",
       "      <th>3</th>\n",
       "      <td>bid_change</td>\n",
       "      <td>0.000000</td>\n",
       "      <td>0.33</td>\n",
       "    </tr>\n",
       "    <tr>\n",
       "      <th>4</th>\n",
       "      <td>ask_change</td>\n",
       "      <td>0.000000</td>\n",
       "      <td>0.33</td>\n",
       "    </tr>\n",
       "    <tr>\n",
       "      <th>5</th>\n",
       "      <td>bid_ask_spread</td>\n",
       "      <td>0.358244</td>\n",
       "      <td>0.33</td>\n",
       "    </tr>\n",
       "    <tr>\n",
       "      <th>6</th>\n",
       "      <td>position_in_lob</td>\n",
       "      <td>0.000000</td>\n",
       "      <td>0.33</td>\n",
       "    </tr>\n",
       "    <tr>\n",
       "      <th>7</th>\n",
       "      <td>imbalance</td>\n",
       "      <td>0.364345</td>\n",
       "      <td>0.33</td>\n",
       "    </tr>\n",
       "    <tr>\n",
       "      <th>8</th>\n",
       "      <td>time_left</td>\n",
       "      <td>0.000000</td>\n",
       "      <td>0.33</td>\n",
       "    </tr>\n",
       "  </tbody>\n",
       "</table>\n",
       "</div>"
      ],
      "text/plain": [
       "          obs_name  importance  test_score\n",
       "0         distance    0.277411        0.33\n",
       "1        inventory    0.000000        0.33\n",
       "2       orders_out    0.000000        0.33\n",
       "3       bid_change    0.000000        0.33\n",
       "4       ask_change    0.000000        0.33\n",
       "5   bid_ask_spread    0.358244        0.33\n",
       "6  position_in_lob    0.000000        0.33\n",
       "7        imbalance    0.364345        0.33\n",
       "8        time_left    0.000000        0.33"
      ]
     },
     "execution_count": 18,
     "metadata": {},
     "output_type": "execute_result"
    }
   ],
   "source": [
    "importances['test_score']=test_score\n",
    "importances['train_score']=train_score\n",
    "importances"
   ]
  },
  {
   "cell_type": "code",
   "execution_count": null,
   "metadata": {},
   "outputs": [],
   "source": []
  }
 ],
 "metadata": {
  "kernelspec": {
   "display_name": "Python 3",
   "language": "python",
   "name": "python3"
  },
  "language_info": {
   "codemirror_mode": {
    "name": "ipython",
    "version": 3
   },
   "file_extension": ".py",
   "mimetype": "text/x-python",
   "name": "python",
   "nbconvert_exporter": "python",
   "pygments_lexer": "ipython3",
   "version": "3.7.4"
  }
 },
 "nbformat": 4,
 "nbformat_minor": 2
}
