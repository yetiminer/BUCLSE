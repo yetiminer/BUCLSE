{
 "cells": [
  {
   "cell_type": "markdown",
   "metadata": {},
   "source": [
    "pure tabular learning"
   ]
  },
  {
   "cell_type": "code",
   "execution_count": 2,
   "metadata": {},
   "outputs": [],
   "source": [
    "#this allows relative imports in notebook\n",
    "import os\n",
    "import sys\n",
    "module_path = os.path.abspath(os.path.join('..'))\n",
    "if module_path not in sys.path:\n",
    "    sys.path.append(module_path)"
   ]
  },
  {
   "cell_type": "code",
   "execution_count": 3,
   "metadata": {},
   "outputs": [],
   "source": [
    "from UCLSE.dyna_q.Experiment4 import Experiment,Dyna_QAgentTabular\n",
    "from UCLSE.dyna_q.dyna_q import TabularMemory\n",
    "import numpy as np\n",
    "import pandas as pd\n",
    "import visdom"
   ]
  },
  {
   "cell_type": "code",
   "execution_count": 4,
   "metadata": {},
   "outputs": [],
   "source": [
    "name='Experiment4'"
   ]
  },
  {
   "cell_type": "code",
   "execution_count": 6,
   "metadata": {},
   "outputs": [
    {
     "name": "stderr",
     "output_type": "stream",
     "text": [
      "WARNING:root:Setting up a new session...\n"
     ]
    }
   ],
   "source": [
    "vis=visdom.Visdom(port=8097)"
   ]
  },
  {
   "cell_type": "code",
   "execution_count": 7,
   "metadata": {},
   "outputs": [],
   "source": [
    "def reward_oracle(observation,cutoff=50,ub=6,lb=-2,lamb=0.5):\n",
    "\n",
    "\n",
    "    distance=observation.distance\n",
    "    inventory=observation.inventory\n",
    "    orders_out=observation.orders_out\n",
    "    bid_change=observation.bid_change\n",
    "    bid_ask_spread=observation.bid_ask_spread\n",
    "    time_left=observation.time_left\n",
    "\n",
    "    ans=lamb*bid_change\n",
    "\n",
    "    if inventory==0:   #terminal            \n",
    "            \n",
    "            ans+=-(1-lamb)*distance\n",
    "            ans-=lamb*bid_change\n",
    "\n",
    "    elif inventory>1: #terminal\n",
    "            \n",
    "            ans+=-bid_ask_spread*(inventory-1)\n",
    "            ans+=-(1-lamb)*distance\n",
    "           \n",
    "    else:\n",
    "\n",
    "            if orders_out>0: \n",
    "                ans+=1/250\n",
    "\n",
    "\n",
    "            if time_left==1: #terminal takes account of exit spread\n",
    "               \n",
    "                ans+=-(1-lamb)*distance\n",
    "\n",
    "            if -distance>=ub:\n",
    "                \n",
    "                ans+=-(1-lamb)*distance\n",
    "              \n",
    "\n",
    "            elif -distance<lb:\n",
    "               \n",
    "                ans+=-(1-lamb)*distance\n",
    "               \n",
    "\n",
    "    return ans \n",
    "\n",
    "def done_oracle(observation,cutoff=50,lb=-2,ub=6):\n",
    "\n",
    "    distance=observation.distance\n",
    "    inventory=observation.inventory\n",
    "    orders_out=observation.orders_out\n",
    "    time_left=observation.time_left\n",
    "\n",
    "    if inventory==0:\n",
    "        done=1\n",
    "        why=f'inventory {inventory}=0'\n",
    "    elif time_left>=1:\n",
    "        done=1\n",
    "        why=f'time up {time_left}'\n",
    "    elif inventory>1:\n",
    "        done=1\n",
    "        why=f'inventory {inventory}>1'\n",
    "    elif -distance>=ub:\n",
    "        done=1\n",
    "        why=f'-distance {distance} >ub {ub}'\n",
    "    elif -distance<lb: \n",
    "        done=1\n",
    "        why=f'-distance {distance}<lb {lb}'\n",
    "\n",
    "    else:\n",
    "        done=0 \n",
    "        why=None\n",
    "    return done,why"
   ]
  },
  {
   "cell_type": "code",
   "execution_count": 13,
   "metadata": {},
   "outputs": [
    {
     "name": "stdout",
     "output_type": "stream",
     "text": [
      "sequence made\n",
      "adding exchange to RL trader  RL\n",
      "adding exchange to RL trader  RL\n",
      "sequence made\n",
      "adding exchange to RL trader  RL\n",
      "adding exchange to RL trader  RL\n",
      "sequence made\n",
      "adding exchange to RL trader  RL\n",
      "adding exchange to RL trader  RL\n"
     ]
    }
   ],
   "source": [
    "trader_pref_kwargs={'qty_min':-5,'qty_max':5,'sigma_pv':1}\n",
    "timer_kwargs={'start':0,'end':5000,'step':1}\n",
    "price_sequence_kwargs={'kappa':0.0002,'mean':100,'sigma':1,'block_length':10}\n",
    "noise_kwargs={'sigma':1}\n",
    "messenger_kwargs={'logging':True}\n",
    "env_kwargs={'trader_arrival_rate':1,'recording':True,#'process_verbose':False,\n",
    "                'bookkeep_verbose':False, 'lob_verbose':False}\n",
    "sigma_n=5\n",
    "\n",
    "def cont_coef():\n",
    "    return np.random.uniform(0.2,0.8)\n",
    "\n",
    "def personal_memory():\n",
    "    return int(np.random.uniform(5,15))\n",
    "\n",
    "trader_kwargs={'ZIP':{'prefix':'ZIP','number':10,'object_name':'WW_Zip',\n",
    "                          'setup_kwargs':\n",
    "                                {'market_make':True,'prior':(100,sigma_n)}},\n",
    "               'HBL':{'prefix':'HBL','number':10,'object_name':'HBL',\n",
    "                          'setup_kwargs':\n",
    "                              {'memory':100,'grace_period':20}},\n",
    "               'CON':{'prefix':'CON','number':10,'object_name':'ContTrader',\n",
    "                      'setup_kwargs':\n",
    "                          {'cont_coeff':cont_coef,'personal_memory':personal_memory,'profit_target':4, 'market_make':True,\n",
    "                          'prior':(100,sigma_n)}},\n",
    "               'NOI':{'prefix':'NOI','number':10,'object_name':'NoiseTrader',\n",
    "                          'setup_kwargs':{'memory':20}}\n",
    "              }\n",
    "\n",
    "\n",
    "\n",
    "exploration ={\"mode\":'Greedy',\n",
    "        \"type\": \"exponential\",\n",
    "        \"init_epsilon\": 0.8,\n",
    "        \"min_epsilon\": 0.01,\n",
    "        \"decay_steps\": 100000,\n",
    "        \"decay_eps\": 0.99,\n",
    "        \"choice\":'least_bonus'}\n",
    "\n",
    "\n",
    "action_list={0:(0,0,0), #do nothing \n",
    "         1:(-1,1,-1) #add ask at best bid (hit the bid)\n",
    "        }\n",
    "\n",
    "\n",
    "lobenv_kwargs={'cutoff':100,'profit_target':10,'loss_limit':-1,'reward_func':reward_oracle,\n",
    "               'lamb':0.5,'action_list':action_list}\n",
    "\n",
    "\n",
    "agent_kwargs={'n_actions':len(action_list),'initial_Q':1,'init_epsilon':0.8,'exploration':exploration,\n",
    "             'memory_capacity':1000000,'n_statespace':9,'discount':0.99}\n",
    "\n",
    "\n",
    "\n",
    "experiment=Experiment(trader_pref_kwargs,timer_kwargs,\n",
    "           price_sequence_kwargs,noise_kwargs,\n",
    "           messenger_kwargs,env_kwargs,trader_kwargs,\n",
    "           lobenv_kwargs,agent_kwargs=agent_kwargs,visdom=vis,agent=Dyna_QAgentTabular,name=name)"
   ]
  },
  {
   "cell_type": "code",
   "execution_count": 12,
   "metadata": {},
   "outputs": [
    {
     "data": {
      "text/plain": [
       "{0: (0, 0, 0), 1: (-1, 1, -1)}"
      ]
     },
     "execution_count": 12,
     "metadata": {},
     "output_type": "execute_result"
    }
   ],
   "source": [
    "experiment.lobenvs[0].action_list"
   ]
  },
  {
   "cell_type": "code",
   "execution_count": 14,
   "metadata": {},
   "outputs": [],
   "source": [
    "experiment.new_train_setup(planning_steps=1,planning=True,graph=True,MaxEpisodes=1000)"
   ]
  },
  {
   "cell_type": "code",
   "execution_count": 15,
   "metadata": {},
   "outputs": [
    {
     "name": "stdout",
     "output_type": "stream",
     "text": [
      "Exploration is Greedy\n",
      "Dyna-Q - EXP: 1 | Ep: 21 | timestep: 1 | Ep_r:  0.0 Profit: -1 Avg loss:0.045454545454545456 |  Time to backup 0\n",
      "Dyna-Q - EXP: 1 | Ep: 41 | timestep: 3 | Ep_r:  -1.0 Profit: -2 Avg loss:0.023809523809523808 |  Time to backup 0\n",
      "Saving best checkpoint at episode 51 with reward 0\n"
     ]
    },
    {
     "name": "stderr",
     "output_type": "stream",
     "text": [
      "C:\\Users\\micro_zo50ceu\\OneDrive - University College London\\BUCLSE\\UCLSE\\dyna_q\\Experiment1a.py:701: UserWarning: Not DeepQ model - no neural net Q\n",
      "  warnings.warn('Not DeepQ model - no neural net Q')\n",
      "C:\\Users\\micro_zo50ceu\\OneDrive - University College London\\BUCLSE\\UCLSE\\dyna_q\\Experiment1a.py:711: UserWarning: not strict double Q model\n",
      "  warnings.warn('not strict double Q model')\n"
     ]
    },
    {
     "name": "stdout",
     "output_type": "stream",
     "text": [
      "Dyna-Q - EXP: 1 | Ep: 61 | timestep: 1 | Ep_r:  0.0 Profit: -1 Avg loss:0.01 |  Time to backup 0\n",
      "Dyna-Q - EXP: 1 | Ep: 81 | timestep: 1 | Ep_r:  0.0 Profit: -1 Avg loss:-0.065 |  Time to backup 0\n",
      "sequence made\n",
      "adding exchange to RL trader  RL\n",
      "adding exchange to RL trader  RL\n",
      "sequence made\n",
      "adding exchange to RL trader  RL\n",
      "adding exchange to RL trader  RL\n",
      "sequence made\n",
      "adding exchange to RL trader  RL\n",
      "adding exchange to RL trader  RL\n",
      "Dyna-Q - EXP: 1 | Ep: 101 | timestep: 4 | Ep_r:  0.0 Profit: 38 Avg loss:-0.085 |  Time to backup 0\n",
      "Dyna-Q - EXP: 1 | Ep: 121 | timestep: 9 | Ep_r:  -1.0 Profit: -2 Avg loss:-0.13 |  Time to backup 0.0\n",
      "Dyna-Q - EXP: 1 | Ep: 141 | timestep: 37 | Ep_r:  1.0 Profit: 0 Avg loss:-0.095 |  Time to backup 0.0\n",
      "Dyna-Q - EXP: 1 | Ep: 161 | timestep: 12 | Ep_r:  -1.0 Profit: -2 Avg loss:-0.11 |  Time to backup 0.0\n",
      "sequence made\n",
      "adding exchange to RL trader  RL\n",
      "adding exchange to RL trader  RL\n",
      "Dyna-Q - EXP: 1 | Ep: 181 | timestep: 3 | Ep_r:  0.0 Profit: -1 Avg loss:-0.13 |  Time to backup 0.0\n",
      "sequence made\n",
      "adding exchange to RL trader  RL\n",
      "adding exchange to RL trader  RL\n",
      "sequence made\n",
      "adding exchange to RL trader  RL\n",
      "adding exchange to RL trader  RL\n",
      "Dyna-Q - EXP: 1 | Ep: 201 | timestep: 1 | Ep_r:  0.0 Profit: -1 Avg loss:-0.185 |  Time to backup 0.0\n",
      "Dyna-Q - EXP: 1 | Ep: 221 | timestep: 1 | Ep_r:  0.0 Profit: -1 Avg loss:-0.09 |  Time to backup 0.0\n",
      "Dyna-Q - EXP: 1 | Ep: 241 | timestep: 1 | Ep_r:  0.0 Profit: -1 Avg loss:0.02 |  Time to backup 0.005033731460571289\n",
      "Saving best checkpoint at episode 242 with reward 0.02\n",
      "Dyna-Q - EXP: 1 | Ep: 261 | timestep: 1 | Ep_r:  0.0 Profit: -1 Avg loss:0.05 |  Time to backup 0.0036203861236572266\n",
      "Dyna-Q - EXP: 1 | Ep: 281 | timestep: 2 | Ep_r:  0.0 Profit: -3 Avg loss:0.025 |  Time to backup 0.002000570297241211\n",
      "sequence made\n",
      "adding exchange to RL trader  RL\n",
      "adding exchange to RL trader  RL\n",
      "sequence made\n",
      "adding exchange to RL trader  RL\n",
      "adding exchange to RL trader  RL\n",
      "Dyna-Q - EXP: 1 | Ep: 301 | timestep: 1 | Ep_r:  0.0 Profit: -1 Avg loss:0.01 |  Time to backup 0.0019915103912353516\n",
      "sequence made\n",
      "adding exchange to RL trader  RL\n",
      "adding exchange to RL trader  RL\n",
      "Dyna-Q - EXP: 1 | Ep: 321 | timestep: 2 | Ep_r:  0.0 Profit: -1 Avg loss:-0.07 |  Time to backup 0.004544973373413086\n",
      "Dyna-Q - EXP: 1 | Ep: 341 | timestep: 2 | Ep_r:  0.0 Profit: -1 Avg loss:-0.035 |  Time to backup 0.00450587272644043\n",
      "Dyna-Q - EXP: 1 | Ep: 361 | timestep: 2 | Ep_r:  0.0 Profit: -1 Avg loss:0.04 |  Time to backup 0.0050051212310791016\n",
      "Saving best checkpoint at episode 364 with reward 0.06\n",
      "Dyna-Q - EXP: 1 | Ep: 381 | timestep: 2 | Ep_r:  0.0 Profit: -1 Avg loss:0.12 |  Time to backup 0.002122640609741211\n",
      "sequence made\n",
      "adding exchange to RL trader  RL\n",
      "adding exchange to RL trader  RL\n",
      "sequence made\n",
      "adding exchange to RL trader  RL\n",
      "adding exchange to RL trader  RL\n",
      "Dyna-Q - EXP: 1 | Ep: 401 | timestep: 1 | Ep_r:  0.0 Profit: -1 Avg loss:0.12 |  Time to backup 0.0\n",
      "sequence made\n",
      "adding exchange to RL trader  RL\n",
      "adding exchange to RL trader  RL\n",
      "Dyna-Q - EXP: 1 | Ep: 421 | timestep: 2 | Ep_r:  0.25 Profit: 0 Avg loss:0.03 |  Time to backup 0.0030362606048583984\n",
      "Dyna-Q - EXP: 1 | Ep: 441 | timestep: 1 | Ep_r:  0.0 Profit: -1 Avg loss:-0.025 |  Time to backup 0.0\n",
      "Dyna-Q - EXP: 1 | Ep: 461 | timestep: 1 | Ep_r:  0.0 Profit: -1 Avg loss:0.025 |  Time to backup 0.0\n",
      "sequence made\n",
      "adding exchange to RL trader  RL\n",
      "adding exchange to RL trader  RL\n",
      "Dyna-Q - EXP: 1 | Ep: 481 | timestep: 1 | Ep_r:  0.0 Profit: -1 Avg loss:0.025 |  Time to backup 0.0\n",
      "sequence made\n",
      "adding exchange to RL trader  RL\n",
      "adding exchange to RL trader  RL\n",
      "Dyna-Q - EXP: 1 | Ep: 501 | timestep: 1 | Ep_r:  0.0 Profit: -1 Avg loss:0.0 |  Time to backup 0.005095005035400391\n",
      "sequence made\n",
      "adding exchange to RL trader  RL\n",
      "adding exchange to RL trader  RL\n",
      "Dyna-Q - EXP: 1 | Ep: 521 | timestep: 3 | Ep_r:  0.0 Profit: -1 Avg loss:-0.04 |  Time to backup 0.004117250442504883\n",
      "Dyna-Q - EXP: 1 | Ep: 541 | timestep: 2 | Ep_r:  0.0 Profit: -1 Avg loss:-0.085 |  Time to backup 0.002018451690673828\n",
      "Dyna-Q - EXP: 1 | Ep: 561 | timestep: 1 | Ep_r:  0.0 Profit: -1 Avg loss:-0.105 |  Time to backup 0.0\n",
      "sequence made\n",
      "adding exchange to RL trader  RL\n",
      "adding exchange to RL trader  RL\n",
      "sequence made\n",
      "adding exchange to RL trader  RL\n",
      "adding exchange to RL trader  RL\n",
      "Dyna-Q - EXP: 1 | Ep: 581 | timestep: 1 | Ep_r:  0.0 Profit: -1 Avg loss:-0.075 |  Time to backup 0.0\n",
      "sequence made\n",
      "adding exchange to RL trader  RL\n",
      "adding exchange to RL trader  RL\n",
      "Dyna-Q - EXP: 1 | Ep: 601 | timestep: 1 | Ep_r:  0.0 Profit: 37 Avg loss:0.025 |  Time to backup 0.0030508041381835938\n",
      "Dyna-Q - EXP: 1 | Ep: 621 | timestep: 1 | Ep_r:  0.0 Profit: -1 Avg loss:0.04 |  Time to backup 0.0021140575408935547\n",
      "Dyna-Q - EXP: 1 | Ep: 641 | timestep: 3 | Ep_r:  0.0 Profit: -5 Avg loss:0.06 |  Time to backup 0.0\n",
      "Saving best checkpoint at episode 649 with reward 0.08\n",
      "Dyna-Q - EXP: 1 | Ep: 661 | timestep: 2 | Ep_r:  0.0 Profit: -4 Avg loss:0.045 |  Time to backup 0.0\n",
      "sequence made\n",
      "adding exchange to RL trader  RL\n",
      "adding exchange to RL trader  RL\n",
      "Dyna-Q - EXP: 1 | Ep: 681 | timestep: 2 | Ep_r:  0.0 Profit: -3 Avg loss:0.045 |  Time to backup 0.010025501251220703\n",
      "sequence made\n",
      "adding exchange to RL trader  RL\n",
      "adding exchange to RL trader  RL\n",
      "sequence made\n",
      "adding exchange to RL trader  RL\n",
      "adding exchange to RL trader  RL\n",
      "Dyna-Q - EXP: 1 | Ep: 701 | timestep: 1 | Ep_r:  0.0 Profit: -1 Avg loss:0.045 |  Time to backup 0.0\n",
      "Dyna-Q - EXP: 1 | Ep: 721 | timestep: 6 | Ep_r:  0.0 Profit: -5 Avg loss:0.065 |  Time to backup 0.0\n",
      "Dyna-Q - EXP: 1 | Ep: 741 | timestep: 2 | Ep_r:  0.0 Profit: -3 Avg loss:-0.015 |  Time to backup 0.008096933364868164\n",
      "Dyna-Q - EXP: 1 | Ep: 761 | timestep: 1 | Ep_r:  0.0 Profit: -1 Avg loss:0.005 |  Time to backup 0.0\n",
      "Dyna-Q - EXP: 1 | Ep: 781 | timestep: 2 | Ep_r:  0.0 Profit: -1 Avg loss:0.035 |  Time to backup 0.0\n",
      "sequence made\n",
      "adding exchange to RL trader  RL\n",
      "adding exchange to RL trader  RL\n",
      "sequence made\n",
      "adding exchange to RL trader  RL\n",
      "adding exchange to RL trader  RL\n",
      "sequence made\n",
      "adding exchange to RL trader  RL\n",
      "adding exchange to RL trader  RL\n",
      "Dyna-Q - EXP: 1 | Ep: 801 | timestep: 1 | Ep_r:  0.0 Profit: -3 Avg loss:0.035 |  Time to backup 0.004036426544189453\n",
      "Dyna-Q - EXP: 1 | Ep: 821 | timestep: 3 | Ep_r:  0.0 Profit: -1 Avg loss:0.005 |  Time to backup 0.0\n",
      "Dyna-Q - EXP: 1 | Ep: 841 | timestep: 2 | Ep_r:  0.0 Profit: -1 Avg loss:0.045 |  Time to backup 0.0\n",
      "Dyna-Q - EXP: 1 | Ep: 861 | timestep: 2 | Ep_r:  0.0 Profit: -1 Avg loss:0.045 |  Time to backup 0.008176326751708984\n",
      "sequence made\n",
      "adding exchange to RL trader  RL\n",
      "adding exchange to RL trader  RL\n",
      "sequence made\n",
      "adding exchange to RL trader  RL\n",
      "adding exchange to RL trader  RL\n",
      "Dyna-Q - EXP: 1 | Ep: 881 | timestep: 1 | Ep_r:  0.0 Profit: -1 Avg loss:0.02 |  Time to backup 0.0\n",
      "sequence made\n",
      "adding exchange to RL trader  RL\n",
      "adding exchange to RL trader  RL\n",
      "Dyna-Q - EXP: 1 | Ep: 901 | timestep: 1 | Ep_r:  0.0 Profit: -1 Avg loss:0.02 |  Time to backup 0.005105257034301758\n",
      "Saving best checkpoint at episode 918 with reward 0.085\n",
      "Dyna-Q - EXP: 1 | Ep: 921 | timestep: 2 | Ep_r:  0.0 Profit: -3 Avg loss:0.1 |  Time to backup 0.0032362937927246094\n",
      "Dyna-Q - EXP: 1 | Ep: 941 | timestep: 1 | Ep_r:  0.0 Profit: -1 Avg loss:0.04 |  Time to backup 0.010358333587646484\n",
      "Dyna-Q - EXP: 1 | Ep: 961 | timestep: 1 | Ep_r:  0.0 Profit: -1 Avg loss:0.04 |  Time to backup 0.0\n",
      "sequence made\n",
      "adding exchange to RL trader  RL\n",
      "adding exchange to RL trader  RL\n",
      "Dyna-Q - EXP: 1 | Ep: 981 | timestep: 1 | Ep_r:  0.0 Profit: -1 Avg loss:0.0 |  Time to backup 0.002231121063232422\n",
      "sequence made\n",
      "adding exchange to RL trader  RL\n",
      "adding exchange to RL trader  RL\n",
      "sequence made\n",
      "adding exchange to RL trader  RL\n",
      "adding exchange to RL trader  RL\n",
      "Dyna-Q - EXP: 1 | Ep: 1001 | timestep: 3 | Ep_r:  0.0 Profit: -1 Avg loss:0.0 |  Time to backup 0.007050275802612305\n",
      "Saving checkpoint at episode 1000\n"
     ]
    }
   ],
   "source": [
    "experiment.train(MaxEpisodes=1001,folder='Results/'+experiment.name,start_episode=experiment.episode)"
   ]
  },
  {
   "cell_type": "code",
   "execution_count": 7,
   "metadata": {},
   "outputs": [
    {
     "name": "stdout",
     "output_type": "stream",
     "text": [
      "=> loading checkpoint 'Results/Experiment4\\dyna_best.pth.tar'\n",
      "=> loaded checkpoint 'Results/Experiment4\\dyna_best.pth.tar' (epoch 104)\n",
      "keys unused in checkpoint data:  ['episode', 'learn_step_counter', 'setup']\n"
     ]
    }
   ],
   "source": [
    "Experiment.resume(exp=experiment,best=True,folder='Results/'+experiment.name)"
   ]
  },
  {
   "cell_type": "code",
   "execution_count": 8,
   "metadata": {},
   "outputs": [
    {
     "name": "stdout",
     "output_type": "stream",
     "text": [
      "sequence made\n",
      "adding exchange to RL trader  RL\n",
      "adding exchange to RL trader  RL\n",
      "Dyna-Q - EXP 1, | Ep: , 1, | timestep:  3 | Ep_r: 0.0078804|profit:-1 start:288|end:291\n",
      "r0 0.5\n",
      "r0 -0.5\n",
      "Dyna-Q - EXP 1, | Ep: , 26, | timestep:  5 | Ep_r: 0.9979304|profit:0 start:3512|end:3517\n",
      "sequence made\n",
      "adding exchange to RL trader  RL\n",
      "adding exchange to RL trader  RL\n",
      "r0 0.5\n"
     ]
    }
   ],
   "source": [
    "experiment.test_setup(MaxEpisodes=50,agent=experiment.agent)"
   ]
  },
  {
   "cell_type": "code",
   "execution_count": 10,
   "metadata": {},
   "outputs": [
    {
     "data": {
      "text/plain": [
       "state counter length: 372, state_action counter length: 402, total experiences: 860"
      ]
     },
     "execution_count": 10,
     "metadata": {},
     "output_type": "execute_result"
    }
   ],
   "source": [
    "experiment.agent_test.tabular"
   ]
  },
  {
   "cell_type": "code",
   "execution_count": 11,
   "metadata": {},
   "outputs": [
    {
     "data": {
      "image/png": "[encoded data removed]",
      "text/plain": [
       "<Figure size 1280x1280 with 2 Axes>"
      ]
     },
     "metadata": {},
     "output_type": "display_data"
    }
   ],
   "source": [
    "path='Results'\n",
    "d,memory=experiment.plotbm_results(experiment,'CVAE reward and profit distribution',\n",
    "                                   'CVAE imbalance histogram',name=experiment.name,path=path)"
   ]
  },
  {
   "cell_type": "code",
   "execution_count": null,
   "metadata": {},
   "outputs": [],
   "source": [
    "clf,train_score,test_score,importances=experiment.fit_tree(memory,os.path.join('Results',experiment.name),experiment)"
   ]
  },
  {
   "cell_type": "code",
   "execution_count": null,
   "metadata": {},
   "outputs": [],
   "source": [
    "train_score,test_score"
   ]
  },
  {
   "cell_type": "code",
   "execution_count": null,
   "metadata": {},
   "outputs": [],
   "source": [
    "importances"
   ]
  }
 ],
 "metadata": {
  "kernelspec": {
   "display_name": "Python 3",
   "language": "python",
   "name": "python3"
  },
  "language_info": {
   "codemirror_mode": {
    "name": "ipython",
    "version": 3
   },
   "file_extension": ".py",
   "mimetype": "text/x-python",
   "name": "python",
   "nbconvert_exporter": "python",
   "pygments_lexer": "ipython3",
   "version": "3.7.4"
  }
 },
 "nbformat": 4,
 "nbformat_minor": 2
}
