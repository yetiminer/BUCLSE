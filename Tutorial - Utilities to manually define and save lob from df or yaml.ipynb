{
 "cells": [
  {
   "cell_type": "markdown",
   "metadata": {},
   "source": [
    "Explain how we can manually define a lob for testing using a number of utilities"
   ]
  },
  {
   "cell_type": "code",
   "execution_count": 1,
   "metadata": {},
   "outputs": [],
   "source": [
    "#from UCLSE.exchange import Order, Exchange\n",
    "#from UCLSE.environment import yamlLoad\n",
    "import pandas as pd\n",
    "from UCLSE.test.utils import (build_df_from_yaml, build_lob_from_df,\n",
    "                              build_df_from_dic_dic,dump_order_df_to_yaml,\n",
    "                              yaml_dump,yamlLoad)"
   ]
  },
  {
   "cell_type": "markdown",
   "metadata": {},
   "source": [
    "Can manually define a lob as follows:"
   ]
  },
  {
   "cell_type": "code",
   "execution_count": 2,
   "metadata": {},
   "outputs": [
    {
     "data": {
      "text/html": [
       "<div>\n",
       "<style scoped>\n",
       "    .dataframe tbody tr th:only-of-type {\n",
       "        vertical-align: middle;\n",
       "    }\n",
       "\n",
       "    .dataframe tbody tr th {\n",
       "        vertical-align: top;\n",
       "    }\n",
       "\n",
       "    .dataframe thead th {\n",
       "        text-align: right;\n",
       "    }\n",
       "</style>\n",
       "<table border=\"1\" class=\"dataframe\">\n",
       "  <thead>\n",
       "    <tr style=\"text-align: right;\">\n",
       "      <th></th>\n",
       "      <th>tid</th>\n",
       "      <th>otype</th>\n",
       "      <th>price</th>\n",
       "      <th>qty</th>\n",
       "      <th>time</th>\n",
       "      <th>qid</th>\n",
       "    </tr>\n",
       "  </thead>\n",
       "  <tbody>\n",
       "    <tr>\n",
       "      <th>0</th>\n",
       "      <td>0</td>\n",
       "      <td>Ask</td>\n",
       "      <td>107</td>\n",
       "      <td>1</td>\n",
       "      <td>0</td>\n",
       "      <td>1000</td>\n",
       "    </tr>\n",
       "    <tr>\n",
       "      <th>1</th>\n",
       "      <td>1</td>\n",
       "      <td>Ask</td>\n",
       "      <td>108</td>\n",
       "      <td>1</td>\n",
       "      <td>1</td>\n",
       "      <td>1001</td>\n",
       "    </tr>\n",
       "    <tr>\n",
       "      <th>2</th>\n",
       "      <td>2</td>\n",
       "      <td>Ask</td>\n",
       "      <td>109</td>\n",
       "      <td>1</td>\n",
       "      <td>2</td>\n",
       "      <td>1002</td>\n",
       "    </tr>\n",
       "    <tr>\n",
       "      <th>3</th>\n",
       "      <td>3</td>\n",
       "      <td>Ask</td>\n",
       "      <td>110</td>\n",
       "      <td>1</td>\n",
       "      <td>3</td>\n",
       "      <td>1003</td>\n",
       "    </tr>\n",
       "    <tr>\n",
       "      <th>4</th>\n",
       "      <td>4</td>\n",
       "      <td>Ask</td>\n",
       "      <td>111</td>\n",
       "      <td>1</td>\n",
       "      <td>4</td>\n",
       "      <td>1004</td>\n",
       "    </tr>\n",
       "    <tr>\n",
       "      <th>5</th>\n",
       "      <td>5</td>\n",
       "      <td>Ask</td>\n",
       "      <td>112</td>\n",
       "      <td>1</td>\n",
       "      <td>5</td>\n",
       "      <td>1005</td>\n",
       "    </tr>\n",
       "    <tr>\n",
       "      <th>0</th>\n",
       "      <td>0</td>\n",
       "      <td>Bid</td>\n",
       "      <td>100</td>\n",
       "      <td>1</td>\n",
       "      <td>0</td>\n",
       "      <td>1000</td>\n",
       "    </tr>\n",
       "    <tr>\n",
       "      <th>1</th>\n",
       "      <td>1</td>\n",
       "      <td>Bid</td>\n",
       "      <td>101</td>\n",
       "      <td>1</td>\n",
       "      <td>1</td>\n",
       "      <td>1001</td>\n",
       "    </tr>\n",
       "    <tr>\n",
       "      <th>2</th>\n",
       "      <td>2</td>\n",
       "      <td>Bid</td>\n",
       "      <td>102</td>\n",
       "      <td>1</td>\n",
       "      <td>2</td>\n",
       "      <td>1002</td>\n",
       "    </tr>\n",
       "    <tr>\n",
       "      <th>3</th>\n",
       "      <td>3</td>\n",
       "      <td>Bid</td>\n",
       "      <td>103</td>\n",
       "      <td>1</td>\n",
       "      <td>3</td>\n",
       "      <td>1003</td>\n",
       "    </tr>\n",
       "    <tr>\n",
       "      <th>4</th>\n",
       "      <td>4</td>\n",
       "      <td>Bid</td>\n",
       "      <td>104</td>\n",
       "      <td>1</td>\n",
       "      <td>4</td>\n",
       "      <td>1004</td>\n",
       "    </tr>\n",
       "    <tr>\n",
       "      <th>5</th>\n",
       "      <td>5</td>\n",
       "      <td>Bid</td>\n",
       "      <td>105</td>\n",
       "      <td>1</td>\n",
       "      <td>5</td>\n",
       "      <td>1005</td>\n",
       "    </tr>\n",
       "  </tbody>\n",
       "</table>\n",
       "</div>"
      ],
      "text/plain": [
       "   tid otype  price  qty  time   qid\n",
       "0    0   Ask    107    1     0  1000\n",
       "1    1   Ask    108    1     1  1001\n",
       "2    2   Ask    109    1     2  1002\n",
       "3    3   Ask    110    1     3  1003\n",
       "4    4   Ask    111    1     4  1004\n",
       "5    5   Ask    112    1     5  1005\n",
       "0    0   Bid    100    1     0  1000\n",
       "1    1   Bid    101    1     1  1001\n",
       "2    2   Bid    102    1     2  1002\n",
       "3    3   Bid    103    1     3  1003\n",
       "4    4   Bid    104    1     4  1004\n",
       "5    5   Bid    105    1     5  1005"
      ]
     },
     "execution_count": 2,
     "metadata": {},
     "output_type": "execute_result"
    }
   ],
   "source": [
    "ask_dic={'tid':list(range(6)),'otype':['Ask' for i in range(6)],\n",
    "         'price':[107+i for i in range(6)],\n",
    " 'qty':[1 for i in range(6)],\n",
    " 'time':[i for i in range(6)],\n",
    " 'qid':[1000+i for i in range(6)] }\n",
    "\n",
    "order_df=pd.DataFrame(ask_dic)\n",
    "\n",
    "bid_dic={'tid':list(range(6)),'otype':['Bid' for i in range(6)],\n",
    "         'price':[100+i for i in range(6)],\n",
    " 'qty':[1 for i in range(6)],\n",
    " 'time':[i for i in range(6)],\n",
    " 'qid':[1000+i for i in range(6)] }\n",
    "\n",
    "order_df=order_df.append(pd.DataFrame(bid_dic))\n",
    "#ensure cols in correct order for Order definition\n",
    "order_df=order_df[['tid','otype','price','qty','time','qid']]\n",
    "\n",
    "order_df.sort_v"
   ]
  },
  {
   "cell_type": "markdown",
   "metadata": {},
   "source": [
    "We can use the add_order method of the exchange object, row by row to add orders into the lob. This function does just that:"
   ]
  },
  {
   "cell_type": "code",
   "execution_count": 3,
   "metadata": {},
   "outputs": [
    {
     "data": {
      "text/plain": [
       "{107: [1, [[0, 1, 0, 0]]],\n",
       " 108: [1, [[1, 1, 1, 1]]],\n",
       " 109: [1, [[2, 1, 2, 2]]],\n",
       " 110: [1, [[3, 1, 3, 3]]],\n",
       " 111: [1, [[4, 1, 4, 4]]],\n",
       " 112: [1, [[5, 1, 5, 5]]]}"
      ]
     },
     "execution_count": 3,
     "metadata": {},
     "output_type": "execute_result"
    }
   ],
   "source": [
    "exch=build_lob_from_df(order_df,exch=None)\n",
    "exch.asks.lob"
   ]
  },
  {
   "cell_type": "code",
   "execution_count": 4,
   "metadata": {},
   "outputs": [
    {
     "data": {
      "text/plain": [
       "{100: [1, [[0, 1, 0, 6]]],\n",
       " 101: [1, [[1, 1, 1, 7]]],\n",
       " 102: [1, [[2, 1, 2, 8]]],\n",
       " 103: [1, [[3, 1, 3, 9]]],\n",
       " 104: [1, [[4, 1, 4, 10]]],\n",
       " 105: [1, [[5, 1, 5, 11]]]}"
      ]
     },
     "execution_count": 4,
     "metadata": {},
     "output_type": "execute_result"
    }
   ],
   "source": [
    "exch.bids.lob"
   ]
  },
  {
   "cell_type": "markdown",
   "metadata": {},
   "source": [
    "We can save this df into a yaml file"
   ]
  },
  {
   "cell_type": "code",
   "execution_count": 5,
   "metadata": {},
   "outputs": [],
   "source": [
    "dump_order_df_to_yaml(order_df,'document.yaml')"
   ]
  },
  {
   "cell_type": "markdown",
   "metadata": {},
   "source": [
    "And also load order books from yaml files:"
   ]
  },
  {
   "cell_type": "code",
   "execution_count": 11,
   "metadata": {},
   "outputs": [],
   "source": [
    "order_df2=build_df_from_yaml('document.yaml')\n",
    "order_df2.sort_values(['otype','price','time'],inplace=True)\n",
    "assert (order_df2==order_df).all().all()\n",
    "exch2=build_lob_from_df(order_df2,exch=None)\n",
    "assert exch2.bids.lob==exch.bids.lob\n",
    "assert exch2.asks.lob==exch.asks.lob"
   ]
  },
  {
   "cell_type": "markdown",
   "metadata": {},
   "source": [
    "which results in the same thing."
   ]
  }
 ],
 "metadata": {
  "kernelspec": {
   "display_name": "Python 3",
   "language": "python",
   "name": "python3"
  },
  "language_info": {
   "codemirror_mode": {
    "name": "ipython",
    "version": 3
   },
   "file_extension": ".py",
   "mimetype": "text/x-python",
   "name": "python",
   "nbconvert_exporter": "python",
   "pygments_lexer": "ipython3",
   "version": "3.5.4"
  }
 },
 "nbformat": 4,
 "nbformat_minor": 2
}
