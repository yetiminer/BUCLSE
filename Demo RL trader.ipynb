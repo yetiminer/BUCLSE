{
 "cells": [
  {
   "cell_type": "code",
   "execution_count": 1,
   "metadata": {},
   "outputs": [],
   "source": [
    "from UCLSE.rl_trader import RLTrader\n",
    "from UCLSE.rl_env import RLEnv\n",
    "from UCLSE.custom_timer import CustomTimer\n",
    "from UCLSE.environment import yamlLoad\n",
    "import os"
   ]
  },
  {
   "cell_type": "code",
   "execution_count": 2,
   "metadata": {},
   "outputs": [],
   "source": [
    "pa=os.getcwd()\n",
    "config_name='UCLSE\\\\test\\\\fixtures\\\\mkt_cfg.yml'\n",
    "config_path=os.path.join(pa,config_name)\n",
    "environ_dic=yamlLoad(config_path)"
   ]
  },
  {
   "cell_type": "code",
   "execution_count": 3,
   "metadata": {},
   "outputs": [],
   "source": [
    "#instantiate timer object\n",
    "start_time=0\n",
    "end_time=50\n",
    "timer=CustomTimer(start=start_time,end=end_time)"
   ]
  },
  {
   "cell_type": "code",
   "execution_count": 4,
   "metadata": {},
   "outputs": [],
   "source": [
    "#instantiate trader\n",
    "rl_trader=RLTrader( ttype='RL', tid='RL',balance=0,n_quote_limit=100,inventory=1,direction='Long',avg_cost=120,timer=timer)"
   ]
  },
  {
   "cell_type": "code",
   "execution_count": 6,
   "metadata": {},
   "outputs": [
    {
     "name": "stdout",
     "output_type": "stream",
     "text": [
      "S23 B11\n",
      "S35 B24\n",
      "mid price: 88,best_bid: 80, bid_change 0, best_ask 95, ask_change 0, bid ask spread 15\n",
      "                      tid      \n",
      "otype                 Ask   Bid\n",
      "price time qid qty             \n",
      "79    B23  1   Bid    NaN  79.0\n",
      "80    B32  1   Bid    NaN  80.0\n",
      "95    S20  1   Ask   95.0   NaN\n",
      "      S26  1   Ask   95.0   NaN\n",
      "      S31  1   Ask   95.0   NaN\n",
      "      S32  1   Ask   95.0   NaN\n",
      "      S37  1   Ask   95.0   NaN\n",
      "103   S18  1   Ask  103.0   NaN\n",
      "440   S15  1   Ask  440.0   NaN\n",
      "906   S05  1   Ask  906.0   NaN\n"
     ]
    }
   ],
   "source": [
    "#initiate environment\n",
    "lobenv=RLEnv(RL_trader=rl_trader,environ_dic=environ_dic)\n",
    "\n",
    "print(lobenv)\n",
    "lobenv.render()"
   ]
  },
  {
   "cell_type": "markdown",
   "metadata": {},
   "source": [
    "These are the available actions"
   ]
  },
  {
   "cell_type": "code",
   "execution_count": 7,
   "metadata": {},
   "outputs": [
    {
     "name": "stdout",
     "output_type": "stream",
     "text": [
      "\tdef setup_actions(self):\n",
      "\t\ttime=self.time\n",
      "\t\tself.action_dic={\n",
      "\t\t\t-1: self.cancel_bids, \t\t\t\t\t\t\t#Cancel bid\n",
      "\t\t\t1:self.do_order_wrap(time,otype='Bid',spread=-1,qty=1), #add bid at best ask\n",
      "\t\t\t10:self.do_order_wrap(time,otype='Bid',spread=0,qty=1), # 'Add bid at best_bid-spread',\n",
      "\t\t\t11:self.do_order_wrap(time,otype='Bid',spread=1,qty=1),\n",
      "\t\t\t12:self.do_order_wrap(time,otype='Bid',spread=2,qty=1),\n",
      "\t\t\t13:self.do_order_wrap(time,otype='Bid',spread=3,qty=1),\n",
      "\t\t\t14:self.do_order_wrap(time,otype='Bid',spread=4,qty=1),\n",
      "\t\t\t15:self.do_order_wrap(time,otype='Bid',spread=1,qty=1),                   \n",
      "\t\t\t-2: self.cancel_asks, \t\t\t\t\t\t\t#Cancel ask\n",
      "\t\t\t2:self.do_order_wrap(time,otype='Ask',spread=-1,qty=1),#add ask at best bid (hit the bid)\n",
      "\t\t\t20:self.do_order_wrap(time,otype='Ask',spread=0,qty=1), # Add ask at best_bid+spread\n",
      "\t\t\t21:self.do_order_wrap(time,otype='Ask',spread=1,qty=1),\n",
      "\t\t\t22:self.do_order_wrap(time,otype='Ask',spread=2,qty=1),\n",
      "\t\t\t23:self.do_order_wrap(time,otype='Ask',spread=3,qty=1),\n",
      "\t\t\t24:self.do_order_wrap(time,otype='Ask',spread=4,qty=1),\n",
      "\t\t\t25:self.do_order_wrap(time,otype='Ask',spread=1,qty=1),            \n",
      "\t\t\t0: self.do_nothing,\n",
      "\t\t\t  }\n",
      "\n"
     ]
    }
   ],
   "source": [
    "import inspect\n",
    "lines = inspect.getsource(lobenv.setup_actions)\n",
    "print(lines)"
   ]
  },
  {
   "cell_type": "markdown",
   "metadata": {},
   "source": [
    "Add a bid order at best bid"
   ]
  },
  {
   "cell_type": "code",
   "execution_count": 8,
   "metadata": {},
   "outputs": [
    {
     "name": "stdout",
     "output_type": "stream",
     "text": [
      "oid gen RL_7.6_1\n",
      "80\n",
      "Order(tid='RL', otype='Bid', price=80, qty=1, time=7.600000000000074, qid=None, oid='RL_7.6_1')\n",
      "                      tid      \n",
      "otype                 Ask   Bid\n",
      "price time qid qty             \n",
      "79    B23  1   Bid    NaN  79.0\n",
      "80    B32  1   Bid    NaN  80.0\n",
      "      RL   1   Bid    NaN  80.0\n",
      "95    S20  1   Ask   95.0   NaN\n",
      "      S26  1   Ask   95.0   NaN\n",
      "      S31  1   Ask   95.0   NaN\n",
      "      S32  1   Ask   95.0   NaN\n",
      "      S37  1   Ask   95.0   NaN\n",
      "103   S18  1   Ask  103.0   NaN\n",
      "440   S15  1   Ask  440.0   NaN\n",
      "906   S05  1   Ask  906.0   NaN\n"
     ]
    }
   ],
   "source": [
    "_,reward,done,_=lobenv.step(10)\n",
    "lobenv.render()\n"
   ]
  },
  {
   "cell_type": "markdown",
   "metadata": {},
   "source": [
    "Cancel bid order"
   ]
  },
  {
   "cell_type": "code",
   "execution_count": 9,
   "metadata": {},
   "outputs": [
    {
     "name": "stdout",
     "output_type": "stream",
     "text": [
      "                      tid      \n",
      "otype                 Ask   Bid\n",
      "price time qid qty             \n",
      "79    B23  1   Bid    NaN  79.0\n",
      "80    B32  1   Bid    NaN  80.0\n",
      "95    S20  1   Ask   95.0   NaN\n",
      "      S26  1   Ask   95.0   NaN\n",
      "      S31  1   Ask   95.0   NaN\n",
      "      S32  1   Ask   95.0   NaN\n",
      "      S37  1   Ask   95.0   NaN\n",
      "103   S18  1   Ask  103.0   NaN\n",
      "440   S15  1   Ask  440.0   NaN\n",
      "906   S05  1   Ask  906.0   NaN\n"
     ]
    }
   ],
   "source": [
    "_,reward,done,_=lobenv.step(-1)\n",
    "lobenv.render()"
   ]
  },
  {
   "cell_type": "markdown",
   "metadata": {},
   "source": [
    "Add an order at best ask+1"
   ]
  },
  {
   "cell_type": "code",
   "execution_count": 16,
   "metadata": {},
   "outputs": [
    {
     "name": "stdout",
     "output_type": "stream",
     "text": [
      "oid gen RL_7.6625_3\n",
      "96\n",
      "Order(tid='RL', otype='Ask', price=96, qty=1, time=7.662500000000075, qid=None, oid='RL_7.6625_3')\n",
      "                      tid      \n",
      "otype                 Ask   Bid\n",
      "price time qid qty             \n",
      "79    B23  1   Bid    NaN  79.0\n",
      "80    B32  1   Bid    NaN  80.0\n",
      "95    S20  1   Ask   95.0   NaN\n",
      "      S26  1   Ask   95.0   NaN\n",
      "      S31  1   Ask   95.0   NaN\n",
      "      S32  1   Ask   95.0   NaN\n",
      "      S37  1   Ask   95.0   NaN\n",
      "96    RL   1   Ask   96.0   NaN\n",
      "103   S18  1   Ask  103.0   NaN\n",
      "440   S15  1   Ask  440.0   NaN\n",
      "906   S05  1   Ask  906.0   NaN\n"
     ]
    }
   ],
   "source": [
    "_,reward,done,_=lobenv.step(21)\n",
    "lobenv.render()"
   ]
  },
  {
   "cell_type": "markdown",
   "metadata": {},
   "source": [
    "or do nothing"
   ]
  },
  {
   "cell_type": "code",
   "execution_count": 17,
   "metadata": {},
   "outputs": [
    {
     "name": "stdout",
     "output_type": "stream",
     "text": [
      "                      tid      \n",
      "otype                 Ask   Bid\n",
      "price time qid qty             \n",
      "79    B23  1   Bid    NaN  79.0\n",
      "80    B32  1   Bid    NaN  80.0\n",
      "95    S20  1   Ask   95.0   NaN\n",
      "      S26  1   Ask   95.0   NaN\n",
      "      S31  1   Ask   95.0   NaN\n",
      "      S32  1   Ask   95.0   NaN\n",
      "      S37  1   Ask   95.0   NaN\n",
      "96    RL   1   Ask   96.0   NaN\n",
      "103   S18  1   Ask  103.0   NaN\n",
      "440   S15  1   Ask  440.0   NaN\n",
      "906   S05  1   Ask  906.0   NaN\n"
     ]
    }
   ],
   "source": [
    "_,reward,done,_=lobenv.step(0)\n",
    "lobenv.render()"
   ]
  },
  {
   "cell_type": "markdown",
   "metadata": {},
   "source": [
    "hit the bid"
   ]
  },
  {
   "cell_type": "code",
   "execution_count": 18,
   "metadata": {},
   "outputs": [
    {
     "name": "stdout",
     "output_type": "stream",
     "text": [
      "oid gen RL_7.6875_4\n",
      "80\n",
      "Order(tid='RL', otype='Ask', price=80, qty=1, time=7.6875000000000755, qid=None, oid='RL_7.6875_4')\n",
      "B32 RL\n",
      "                      tid      \n",
      "otype                 Ask   Bid\n",
      "price time qid qty             \n",
      "79    B23  1   Bid    NaN  79.0\n",
      "95    S20  1   Ask   95.0   NaN\n",
      "      S26  1   Ask   95.0   NaN\n",
      "      S31  1   Ask   95.0   NaN\n",
      "      S32  1   Ask   95.0   NaN\n",
      "      S37  1   Ask   95.0   NaN\n",
      "103   S18  1   Ask  103.0   NaN\n",
      "440   S15  1   Ask  440.0   NaN\n",
      "906   S05  1   Ask  906.0   NaN\n"
     ]
    }
   ],
   "source": [
    "_,reward,done,_=lobenv.step(2)\n",
    "lobenv.render()\n"
   ]
  },
  {
   "cell_type": "markdown",
   "metadata": {},
   "source": [
    "check a trade has been done "
   ]
  },
  {
   "cell_type": "code",
   "execution_count": 19,
   "metadata": {
    "scrolled": true
   },
   "outputs": [
    {
     "data": {
      "text/plain": [
       "[{'type': 'Ask',\n",
       "  'time': 7.6875000000000755,\n",
       "  'price': 80,\n",
       "  'party1': 'B32',\n",
       "  'party2': 'RL',\n",
       "  'qty': 1,\n",
       "  'p1_qid': 48,\n",
       "  'p2_qid': 53.0,\n",
       "  'oid': 'RL_7.6875_4',\n",
       "  'tid': 'RL',\n",
       "  'order qty': 1,\n",
       "  'order_issue_time': 7.6875000000000755,\n",
       "  'profit': -40,\n",
       "  'BS': 'Sell',\n",
       "  'status': 'full'}]"
      ]
     },
     "execution_count": 19,
     "metadata": {},
     "output_type": "execute_result"
    }
   ],
   "source": [
    "rl_trader.blotter"
   ]
  },
  {
   "cell_type": "markdown",
   "metadata": {},
   "source": [
    "The stopping conditions are as follows:\n",
    "- inventory bigger than limit\n",
    "- run out of time\n",
    "- no inventory and number of quotes on exchange is zero\n",
    "    \n",
    "    \n",
    "This can be seen from:"
   ]
  },
  {
   "cell_type": "code",
   "execution_count": 22,
   "metadata": {},
   "outputs": [
    {
     "name": "stdout",
     "output_type": "stream",
     "text": [
      "\tdef stop_checker(self):\n",
      "\t\tstop=False\n",
      "\n",
      "\t\tif self.trader.inventory>self.inventory_limit: \n",
      "\t\t\treturn True\n",
      "\t\telif self.period_count>self.time_limit:\n",
      "\t\t\treturn True\n",
      "\t\telif self.trader.inventory==0 and self.trader.n_quotes==0:\n",
      "\t\t\t#a trade has been completed\n",
      "\t\t\treturn True\n",
      "\t\telse:    \n",
      "\t\t\treturn stop\n",
      "\n"
     ]
    }
   ],
   "source": [
    "lines = inspect.getsource(lobenv.stop_checker)\n",
    "print(lines)"
   ]
  },
  {
   "cell_type": "markdown",
   "metadata": {},
   "source": [
    "Environment can be printed:"
   ]
  },
  {
   "cell_type": "code",
   "execution_count": 24,
   "metadata": {},
   "outputs": [
    {
     "name": "stdout",
     "output_type": "stream",
     "text": [
      "mid price: 87,best_bid: 79, bid_change -1, best_ask 95, ask_change 0, bid ask spread 16\n"
     ]
    }
   ],
   "source": [
    "print(lobenv)"
   ]
  },
  {
   "cell_type": "markdown",
   "metadata": {},
   "source": [
    "Environment stores lob history:"
   ]
  },
  {
   "cell_type": "code",
   "execution_count": 25,
   "metadata": {},
   "outputs": [
    {
     "data": {
      "text/plain": [
       "odict_keys([7.600000000000074, 7.612500000000074, 7.625000000000075, 7.637500000000075, 7.650000000000075, 7.662500000000075, 7.675000000000075, 7.6875000000000755, 7.700000000000076])"
      ]
     },
     "execution_count": 25,
     "metadata": {},
     "output_type": "execute_result"
    }
   ],
   "source": [
    "key_list=lobenv.lob_history.keys()\n",
    "key_list"
   ]
  },
  {
   "cell_type": "code",
   "execution_count": 26,
   "metadata": {},
   "outputs": [
    {
     "data": {
      "text/plain": [
       "{'time': 7.637500000000075,\n",
       " 'bids': {'best': 80, 'worst': 0, 'n': 2, 'lob': [[79, 1], [80, 1]]},\n",
       " 'asks': {'best': 95,\n",
       "  'worst': 1000,\n",
       "  'n': 9,\n",
       "  'lob': [[95, 5], [96, 1], [103, 1], [440, 1], [906, 1]]},\n",
       " 'QID': 52,\n",
       " 'last_transaction_price': 95}"
      ]
     },
     "execution_count": 26,
     "metadata": {},
     "output_type": "execute_result"
    }
   ],
   "source": [
    "lobenv.lob_history[list(key_list)[3]]"
   ]
  },
  {
   "cell_type": "code",
   "execution_count": null,
   "metadata": {},
   "outputs": [],
   "source": []
  }
 ],
 "metadata": {
  "kernelspec": {
   "display_name": "Python 3",
   "language": "python",
   "name": "python3"
  },
  "language_info": {
   "codemirror_mode": {
    "name": "ipython",
    "version": 3
   },
   "file_extension": ".py",
   "mimetype": "text/x-python",
   "name": "python",
   "nbconvert_exporter": "python",
   "pygments_lexer": "ipython3",
   "version": "3.6.6"
  }
 },
 "nbformat": 4,
 "nbformat_minor": 2
}
